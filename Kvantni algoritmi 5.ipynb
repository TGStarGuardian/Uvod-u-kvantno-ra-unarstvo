{
 "cells": [
  {
   "cell_type": "markdown",
   "id": "3677398f-ff0d-4fab-b523-c98462bd3aec",
   "metadata": {},
   "source": [
    "# Kvantni algoritmi - 5"
   ]
  },
  {
   "cell_type": "markdown",
   "id": "dc9deff6-4c36-49cd-a7a5-ba563720454d",
   "metadata": {},
   "source": [
    "## Šorov algoritam"
   ]
  },
  {
   "cell_type": "markdown",
   "id": "d65b415a-c7f6-4faf-802a-26a819eebca3",
   "metadata": {},
   "source": [
    "Šorov algoritam rešava problem faktorizacije broja na proste činioce. Efikasno rešavanje tog problema ima posebnu važnost u kriptografiji, gde mnogi algoritmi zavise od pretpostavke da je na klasičnom računaru vremenski mnogo zahtevno izračunavanje faktorizacije. Do sada najbolji algoritam za faktorizaciju brojeva zahteva $\\exp({c \\log{n}^{1/3} \\log{\\log{n}}^{2/3}})$ za neku konstantu $c$, na klasičnom računaru. Na kvantnom računaru, Šorov algoritam se izvršava u vremenu $O((\\log^2{n} )(\\log\\log{n}) (\\log \\log \\log{n}))$ uz dodatnih $\\text{polylog}(n)$ koraka na klasičnom računaru. Algoritam je polinomijalne vremenske složenosti u odnosu na broj bitova $O(\\log n)$ kojim je potrebno predstaviti broj $n$.\n",
    "\n",
    "Osnovna ideja algoritma je redukcija problema faktorizacije na problem nalaženja stepena broja u grupi $(\\mathbb{Z}_{n} \\setminus \\{0\\}, \\cdot_n)$. Stepen broja $x \\in \\mathbb{Z}_n$ je najmanje $r \\in \\mathbb{Z}_n \\setminus \\{0\\} = \\mathbb{Z}_n^{*}$ takvo da je $x^r \\equiv_n 1$. Da bi takvo $r$ postojalo, mora biti $x$ uzajamno prosto sa $n$, odnosno $\\text{NZD}(x, n) = 1$. Pretpostavimo da je $r$ paran broj. Tada važi sledeća jednakost:\n",
    "\n",
    "\\begin{align*}\n",
    "    (x^{r/2} + 1)(x^{r/2} - 1) = x^r - 1 \\equiv_n 0. \n",
    "\\end{align*}\n",
    "\n",
    "Ako nije $p = x^{r/2} - 1 \\equiv_n 0$ i ako nije $q = x^{r/2} + 1 \\equiv_n 0$, onda $p$ i $q$ imaju netrivijalne zajedničke čionioce sa $n$. Korišćenjem Euklidovog algoritma za izračunavanje najvećeg zajedničkog delioca između $p$ i $n$ se može odrediti jedan faktor broja $n$. Rekurzivnom primenom se mogu naći i ostali faktori broja $n$. Broj $x$ se bira nasumično dok algoritam ne rastavi broj $n$."
   ]
  },
  {
   "cell_type": "markdown",
   "id": "c39e1c41-3979-4603-94e8-c565c738b4fc",
   "metadata": {},
   "source": [
    "#### Primer procedure:"
   ]
  },
  {
   "cell_type": "markdown",
   "id": "87d881ee-3ded-4d18-99c8-c6c8167e2d91",
   "metadata": {},
   "source": [
    "Neka je dat broj $n = 357$. Sve operacije izvršavamo u grupi $(\\mathbb{Z}_{357} \\{0\\}, \\cdot_n)$.\n",
    "    \n",
    "Izabrali smo $x = 2$. Pošto je $x$ uzajamno prosto sa $n$, stepen $r$ postoji i dobija se da je $r = 24$. Dakle, sada je $p = x^{12} + 1 = 170$, a $q = x^{12} - 1 = 168$. Odavde je $\\text{NZD}(p, n) = 17$ i $\\text{NZD}(q, n) = 21$. Dakle, $n = 357 = 17 \\cdot 21$. Dalje bi se procedura nastavila sa $17$ i $21$."
   ]
  },
  {
   "cell_type": "markdown",
   "id": "7551f388-e12d-4ed8-85fd-f49011a229d7",
   "metadata": {},
   "source": [
    "### Algoritam:\n",
    "\n",
    "Šor primećuje funkciju $f_x(k) = x^k \\pmod{n}$. Stepen broja $x$ je period funkcije $f_x$, budući da važi jednakost $f_x(k + r) = x^{k + r} \\equiv_n x^k x^r \\equiv_n x^k = f_x(k)$, odnosno $f_x(k + r) = f_x(k)$. Dakle, problem nalaženja stepena se može svesti na problem nalaženja perioda $r$-periodične funkcije.\n",
    "\n",
    "Algoritam se može definisati kao niz narednih koraka.\n",
    "1. Izaberi nasumično broj $a \\in \\mathbb{Z}_n^{*}$. Ako je $\\text{NZD}(a, n) > 1$, $a$ je činilac od $n$. Tada možemo zameniti $n$ sa $n / a$ i pokrenuti algoritam opet.\n",
    "2. Za $x$ na intervalu $[0, 2^N - 1]$, za $n^2 \\leq 2^N < 2 n^2$, izračunaj $f(x) = a^x$ na kvantnom računaru. Ova transformacija transformiše ulaz $\\ket{x}\\ket{0}$ u $\\ket{x}\\ket{f(x)}$. U ovom algoritmu se primenjuje ta transformacija na ulazu $H^{\\otimes N} \\ket{x} \\otimes \\ket{0}$, nakon čega se dobija $X = 2^{-N} \\sum_{x} \\ket{x} \\ket{f(x)}$.\n",
    "3. Primeni Furijeovu transformaciju nad $x$-kubitima od $X$ na kvantnom računaru da dobiješ $Y$.\n",
    "4. Vršenjem kvantnog merenja nad $Y$, dobija se neki indeks $j$. Kada period $r$ od $f$ deli $2^N$, onda $2^N / r$ deli $j$. Ako to nije slučaj, onda QFT aproksimira takvo ponašanje i sa nekom verovatnoćom je $j$ blizu nekog broja $k$ koji je deljiv sa $2^N / r$.\n",
    "5. Na klasičnom računaru se od broja $j$ dobija pretpostavka za broj $r$.\n",
    "6. Na klasičnom računaru se koristi Euklidov algoritam da se proveri da li $a^{r/2} + 1$ ima netrivijalni zajednički delilac $p$ sa $n$. Ako ima, primeni algoritam na $p$ i $n/p$, sve dok $n$ u algoritmu ne bude $1$ ili prost broj."
   ]
  },
  {
   "cell_type": "markdown",
   "id": "12c8c0aa-7119-41b9-84d9-a0bedeb25698",
   "metadata": {},
   "source": [
    "Funkcija $f_k$ je zapravo funkcija modularnog stepenovanja koju smo implementirali već ranije na ovom kursu.\n",
    "\n",
    "Sada ćemo obraditi korak $4$ u algoritmu. Ostale korake je jasno kako implementirati i zašto oni rade na osnovu prethodnih analiza. Šor je pokazao da važi naredna nejednakost sa velikom verovatnoćom:\n",
    "\n",
    "\\begin{align*}\n",
    "    \\left\\vert j - k \\frac{2^N}{r} \\right\\vert < \\frac{1}{2},\n",
    "\\end{align*}\n",
    "za neko $k > 0$. Pošto je $2^N \\leq n^2$, onda važi:\n",
    "\\begin{align*}\n",
    "    \\left\\vert \\frac{j}{2^N} - \\frac{k}{r} \\right\\vert < \\frac{1}{2n^2}.\n",
    "\\end{align*}\n",
    "\n",
    "Ako bi postojala bar dva različita razlomka $\\frac{p}{q}$ i $\\frac{p'}{q'}$, gde je $q, q' < n$ i $p, p' > 0$, takva da važi:\n",
    "\\begin{align*}\n",
    "    \\left \\vert \\frac{j}{2^N} - \\frac{p}{q} \\right \\vert < \\frac{1}{2n^2}, \\\\\n",
    "    \\left \\vert \\frac{j}{2^N} - \\frac{p'}{q'} \\right \\vert < \\frac{1}{2n^2},\n",
    "\\end{align*}\n",
    "onda bi važila sledeća nejednakost:\n",
    "\\begin{align*}\n",
    "    \\left \\vert \\frac{p}{q} - \\frac{p'}{q'} \\right \\vert \\leq \\left \\vert \\frac{j}{2^N} - \\frac{p}{q} \\right \\vert + \\left \\vert \\frac{j}{2^N} - \\frac{p'}{q'} \\right \\vert < \\frac{1}{n^2}.\n",
    "\\end{align*}\n",
    "\n",
    "To nije moguće, jer $\\left \\vert \\frac{p}{q} - \\frac{p'}{q'} \\right \\vert > \\frac{1}{n^2}$, jer $q, q' < n$. Ovo nije teško dokazati:\n",
    "\\begin{align*}\n",
    "    \\left \\vert \\frac{p}{q} - \\frac{p'}{q'} \\right \\vert = \\left \\vert \\frac{p q' - p' q}{q q'} \\right \\vert > \\frac{1}{n^2},\n",
    "\\end{align*} jer $qq' < n^2$ i $p q' - p' q' \\neq 0$.\n",
    "\n",
    "Ukoliko zaista važi $\\left \\vert j - k \\frac{2^N}{r} \\right \\vert < \\frac{1}{2}$, onda će razlomak $\\frac{k}{r}$ biti jedinstveni razlomak koji zadovoljava nejednakost $\\left\\vert \\frac{j}{2^N} - \\frac{k}{r} \\right\\vert < \\frac{1}{2n^2}$. Vrednost $\\frac{k}{r}$ se može naći aproksimacijom $\\frac{j}{2^N}$ preko verižnih razlomaka (eng. *continued fraction*) u polinomijalnom vremenu."
   ]
  },
  {
   "cell_type": "markdown",
   "id": "88b95c8e-7f69-4413-91c7-c30978bb5d1b",
   "metadata": {},
   "source": [
    "### Vremenska složenost:\n",
    "\n",
    "Vremenska složenost je $O((\\log^2{n} )(\\log\\log{n}) (\\log \\log \\log{n}))$ na kvantnom računaru, uz dodatnih $\\text{polylog}(n)$ koraka na klasičnom računaru."
   ]
  },
  {
   "cell_type": "markdown",
   "id": "3ad5dd44-832c-4d49-bd85-9a8ef6bf9658",
   "metadata": {},
   "source": [
    "### Šorov algoritam na programskom jeziku Q#"
   ]
  },
  {
   "cell_type": "markdown",
   "id": "f8b8bfa8-daed-4dad-9f80-98c1d60cd5c0",
   "metadata": {},
   "source": [
    "Pre svega, moramo učitati kod koji smo pisali za stepenovanje po modulu."
   ]
  },
  {
   "cell_type": "code",
   "execution_count": 1,
   "id": "613c42c2-c5ce-44fa-93dd-530589e31e65",
   "metadata": {},
   "outputs": [
    {
     "data": {
      "application/javascript": [
       "// Copyright (c) Microsoft Corporation.\n",
       "// Licensed under the MIT License.\n",
       "\n",
       "// This file provides CodeMirror syntax highlighting for Q# magic cells\n",
       "// in classic Jupyter Notebooks. It does nothing in other (Jupyter Notebook 7,\n",
       "// VS Code, Azure Notebooks, etc.) environments.\n",
       "\n",
       "// Detect the prerequisites and do nothing if they don't exist.\n",
       "if (window.require && window.CodeMirror && window.Jupyter) {\n",
       "  // The simple mode plugin for CodeMirror is not loaded by default, so require it.\n",
       "  window.require([\"codemirror/addon/mode/simple\"], function defineMode() {\n",
       "    let rules = [\n",
       "      {\n",
       "        token: \"comment\",\n",
       "        regex: /(\\/\\/).*/,\n",
       "        beginWord: false,\n",
       "      },\n",
       "      {\n",
       "        token: \"string\",\n",
       "        regex: String.raw`^\\\"(?:[^\\\"\\\\]|\\\\[\\s\\S])*(?:\\\"|$)`,\n",
       "        beginWord: false,\n",
       "      },\n",
       "      {\n",
       "        token: \"keyword\",\n",
       "        regex: String.raw`(namespace|open|as|operation|function|body|adjoint|newtype|controlled|internal)\\b`,\n",
       "        beginWord: true,\n",
       "      },\n",
       "      {\n",
       "        token: \"keyword\",\n",
       "        regex: String.raw`(if|elif|else|repeat|until|fixup|for|in|return|fail|within|apply)\\b`,\n",
       "        beginWord: true,\n",
       "      },\n",
       "      {\n",
       "        token: \"keyword\",\n",
       "        regex: String.raw`(Adjoint|Controlled|Adj|Ctl|is|self|auto|distribute|invert|intrinsic)\\b`,\n",
       "        beginWord: true,\n",
       "      },\n",
       "      {\n",
       "        token: \"keyword\",\n",
       "        regex: String.raw`(let|set|use|borrow|mutable)\\b`,\n",
       "        beginWord: true,\n",
       "      },\n",
       "      {\n",
       "        token: \"operatorKeyword\",\n",
       "        regex: String.raw`(not|and|or)\\b|(w/)`,\n",
       "        beginWord: true,\n",
       "      },\n",
       "      {\n",
       "        token: \"operatorKeyword\",\n",
       "        regex: String.raw`(=)|(!)|(<)|(>)|(\\+)|(-)|(\\*)|(/)|(\\^)|(%)|(\\|)|(&&&)|(~~~)|(\\.\\.\\.)|(\\.\\.)|(\\?)`,\n",
       "        beginWord: false,\n",
       "      },\n",
       "      {\n",
       "        token: \"meta\",\n",
       "        regex: String.raw`(Int|BigInt|Double|Bool|Qubit|Pauli|Result|Range|String|Unit)\\b`,\n",
       "        beginWord: true,\n",
       "      },\n",
       "      {\n",
       "        token: \"atom\",\n",
       "        regex: String.raw`(true|false|Pauli(I|X|Y|Z)|One|Zero)\\b`,\n",
       "        beginWord: true,\n",
       "      },\n",
       "    ];\n",
       "    let simpleRules = [];\n",
       "    for (let rule of rules) {\n",
       "      simpleRules.push({\n",
       "        token: rule.token,\n",
       "        regex: new RegExp(rule.regex, \"g\"),\n",
       "        sol: rule.beginWord,\n",
       "      });\n",
       "      if (rule.beginWord) {\n",
       "        // Need an additional rule due to the fact that CodeMirror simple mode doesn't work with ^ token\n",
       "        simpleRules.push({\n",
       "          token: rule.token,\n",
       "          regex: new RegExp(String.raw`\\W` + rule.regex, \"g\"),\n",
       "          sol: false,\n",
       "        });\n",
       "      }\n",
       "    }\n",
       "\n",
       "    // Register the mode defined above with CodeMirror\n",
       "    window.CodeMirror.defineSimpleMode(\"qsharp\", { start: simpleRules });\n",
       "    window.CodeMirror.defineMIME(\"text/x-qsharp\", \"qsharp\");\n",
       "\n",
       "    // Tell Jupyter to associate %%qsharp magic cells with the qsharp mode\n",
       "    window.Jupyter.CodeCell.options_default.highlight_modes[\"qsharp\"] = {\n",
       "      reg: [/^%%qsharp/],\n",
       "    };\n",
       "\n",
       "    // Force re-highlighting of all cells the first time this code runs\n",
       "    for (const cell of window.Jupyter.notebook.get_cells()) {\n",
       "      cell.auto_highlight();\n",
       "    }\n",
       "  });\n",
       "}\n"
      ],
      "text/plain": []
     },
     "metadata": {},
     "output_type": "display_data"
    }
   ],
   "source": [
    "import qsharp"
   ]
  },
  {
   "cell_type": "code",
   "execution_count": 2,
   "id": "ffdddf97-84be-4cec-9435-946a676ff438",
   "metadata": {},
   "outputs": [],
   "source": [
    "%%qsharp\n",
    "\n",
    "open Microsoft.Quantum.Diagnostics;\n",
    "open Std.Arrays;\n",
    "open Std.Arithmetic;\n",
    "\n",
    "operation moduloAdd(a : Qubit[], b : Qubit[], m : Qubit[]) : Unit is Adj + Ctl {\n",
    "    let n = Length(a);\n",
    "\n",
    "    use t1 = Qubit();\n",
    "    use t2 = Qubit();\n",
    "\n",
    "    IncByLE(a, b + [t1]);\n",
    "    Adjoint IncByLE(m, b + [t1]);\n",
    "    CNOT(t1, t2);\n",
    "    Controlled IncByLE([t2], (m, b + [t1]));\n",
    "    Adjoint IncByLE(a, b + [t1]);\n",
    "    X(t1);\n",
    "    CNOT(t1, t2);\n",
    "    X(t1);\n",
    "    IncByLE(a, b + [t1]);\n",
    "}\n",
    "\n",
    "operation ShiftRight(a : Qubit[]) : Unit is Adj + Ctl {\n",
    "    let n = Length(a);\n",
    "    for i in 0..n-2 {\n",
    "        SWAP(a[i], a[n - 1]);\n",
    "    }\n",
    "    \n",
    "}\n",
    "\n",
    "operation moduloMultiply(a : Qubit[], b : Qubit[], r : Qubit[], m : Qubit[]) : Unit is Adj + Ctl {\n",
    "    let n = Length(a);\n",
    "\n",
    "    use t = Qubit[n];\n",
    "\n",
    "    for i in 0..n-1 {\n",
    "        Adjoint IncByLE(m, a);\n",
    "        CNOT(a[n - 1], t[i]);\n",
    "        Controlled IncByLE([t[i]], (m, a));\n",
    "        Controlled moduloAdd([b[i]], (a, r, m));\n",
    "        ShiftRight(a);\n",
    "    }\n",
    "\n",
    "    for i in 0..n-1 {\n",
    "        let k = n - 1 - i;\n",
    "        Adjoint ShiftRight(a);\n",
    "        Controlled Adjoint IncByLE([t[k]], (m, a));\n",
    "        CNOT(a[n - 1], t[k]);\n",
    "        IncByLE(m, a);\n",
    "    }  \n",
    "}\n",
    "\n",
    "operation moduloSquare(a : Qubit[], r : Qubit[], m : Qubit[]) : Unit is Adj + Ctl {\n",
    "    let n = Length(a);\n",
    "    use t = Qubit[n];\n",
    "\n",
    "    within {\n",
    "        for i in 0..n-1 {\n",
    "            CNOT(a[i], t[i]);\n",
    "        }\n",
    "    } apply {\n",
    "        moduloMultiply(a, t, r, m);\n",
    "    }\n",
    "}\n",
    "\n",
    "operation Copy(a : Qubit[], r : Qubit[]) : Unit is Adj + Ctl {\n",
    "    let n = Length(a);\n",
    "    for i in 0..n-1 {\n",
    "        CNOT(a[i], r[i]);\n",
    "    }\n",
    "}\n",
    "\n",
    "operation moduloExp(a : Qubit[], x : Qubit[], r : Qubit[], m : Qubit[]) : Unit is Adj + Ctl {\n",
    "    let n = Length(a);\n",
    "    let k = Length(x);\n",
    "\n",
    "    // generišemo niz u koji ćemo da smestimo a^{2^i}\n",
    "    use temp = Qubit[n*k];\n",
    "    mutable t = Chunks(n, temp);\n",
    "\n",
    "    use p = Qubit[n * (k - 1)];\n",
    "    mutable partial = Chunks(n, p);\n",
    "\n",
    "    within {\n",
    "        Copy(a, t[0]);\n",
    "\n",
    "        for i in 1..k-1 {\n",
    "            moduloSquare(t[i - 1], t[i], m);\n",
    "        }\n",
    "\n",
    "        Controlled Copy([x[0]], (a, partial[0]));\n",
    "        X(x[0]);\n",
    "        CNOT(x[0], partial[0][0]);\n",
    "        X(x[0]);\n",
    "\n",
    "        for i in 1..k-2 {\n",
    "            Controlled moduloMultiply([x[i]], (t[i], partial[i - 1], partial[i], m));\n",
    "            X(x[i]);\n",
    "            Controlled Copy([x[i]], (partial[i - 1], partial[i]));\n",
    "            X(x[i]);\n",
    "        }\n",
    "\n",
    "    } apply {\n",
    "        Controlled moduloMultiply([x[k - 1]], (t[k - 1], partial[k - 2], r, m));\n",
    "        X(x[k - 1]);\n",
    "        Controlled Copy([x[k - 1]], (partial[k - 2], r));\n",
    "        X(x[k - 1]);\n",
    "    }\n",
    "}"
   ]
  },
  {
   "cell_type": "markdown",
   "id": "c6b546dd-1b67-4e9a-9248-5348e6fc623a",
   "metadata": {},
   "source": [
    "Fokusirajmo se najpre na one korake Šorovog algoritma koji se izvode na kvantnom računaru. Njih možemo izdvojiti u zasebne procedure koje ćemo onda primeniti u celom algoritmu. Krenimo redom po koracima i identifikujmo koje bismo korake mogli da izdvojimo na taj način.\n",
    "\n",
    "1. izbor broja $a$ i provera $gcd(a, n) > 1$ - ovo se može sprovesti na klasičnom računaru\n",
    "2. nalaženje $N$ tako da je $n^2 \\leq 2^N < 2n^2$ i računanje $f_n(x)$ - prvi korak se može izvesti na klasičnom računaru, a drugi se izvodi na kvantnom računaru\n",
    "3. Furijeova transformacija od $X$ - ovaj korak se izvodi na kvantnom računaru\n",
    "4. kvantno merenje - vrši se na kvantnom računaru\n",
    "5. pretpostavka za period $r$ - ovo se izvodi na klasičnom računaru\n",
    "6. primena Euklidovog algoritma - ovo se izvodi na klasičnom računaru.\n",
    "\n",
    "Dakle, sve od drugog koraka koraka dva, pa do četvrtog koraka se može izdvojiti u proceduru koja će se izvršiti na kvantnom računaru. Implementirajmo tu proceduru."
   ]
  },
  {
   "cell_type": "code",
   "execution_count": 3,
   "id": "bf746e81-61d3-48b6-b5de-9c2b0cd80059",
   "metadata": {},
   "outputs": [],
   "source": [
    "%%qsharp\n",
    "\n",
    "open Std.Canon;\n",
    "open Std.Intrinsic;\n",
    "\n",
    "operation QFT(x : Qubit[]) : Unit is Adj + Ctl {\n",
    "\n",
    "    ApplyQFT(x);\n",
    "\n",
    "    SwapReverseRegister(x);\n",
    "}\n",
    "\n",
    "operation QuantumShorProcedure(a : Qubit[], n : Qubit[], N : Int) : Int {\n",
    "    // inicijalizujemo N kubita\n",
    "    use x = Qubit[N];\n",
    "\n",
    "    // na svakom kubitu primenjujemo H\n",
    "    ApplyToEachA(H, x);\n",
    "\n",
    "    // generišemo registar za izlaz funkcije f_n\n",
    "    use y = Qubit[Length(a)];\n",
    "\n",
    "    // radimo kvantno stepenovanje\n",
    "    moduloExp(a, x, y, n);\n",
    "\n",
    "    // primenjujemo Furijeovu transformaciju na y\n",
    "    Adjoint QFT(x);\n",
    "\n",
    "    mutable r = 0;\n",
    "\n",
    "    for i in 0..N-1 {\n",
    "        r *= 2;\n",
    "        if M(x[N - 1 - i]) == One {\n",
    "            r += 1;\n",
    "        }\n",
    "    }\n",
    "\n",
    "    ResetAll(x);\n",
    "    ResetAll(y);\n",
    "\n",
    "  return r;  \n",
    "}"
   ]
  },
  {
   "cell_type": "markdown",
   "id": "2dc2bca4-7fb6-4e09-b022-54ad210e531b",
   "metadata": {},
   "source": [
    "Napišimo sada proceduru za izbor broja $N$."
   ]
  },
  {
   "cell_type": "code",
   "execution_count": 4,
   "id": "4308b827-4811-4762-8246-5e66746b2076",
   "metadata": {},
   "outputs": [],
   "source": [
    "%%qsharp\n",
    "\n",
    "open Std.Math;\n",
    "open Std.Convert;\n",
    "\n",
    "function findN(n : Int) : Int {\n",
    "    let k = 1 + Floor(Lg(IntAsDouble(n * n)));\n",
    "    let m = 1 <<< k;\n",
    "    if m < n*n {\n",
    "        return k + 1;\n",
    "    }\n",
    "    if m >= 2*n*n {\n",
    "        return k - 1;\n",
    "    }\n",
    "    return k;\n",
    "}"
   ]
  },
  {
   "cell_type": "markdown",
   "id": "76c01964-4a3b-4acd-b342-39fc2d911bf0",
   "metadata": {},
   "source": [
    "Vratimo se sada nazad. Broj $a$ je zadat najpre kao broj, a ne kao kvantni registar. Dužina kvantnog registra na kojem ćemo zapisati $a$ zavisi od broja $n$. Kao što smo ranije izabrali, dužina registara za $a$ i $n$ će biti najmanji broj $k$ takav da je $2n < 2^k$. Napišimo proceduru koja će pripremiti $a$ i $n$ kao kvantne registre."
   ]
  },
  {
   "cell_type": "code",
   "execution_count": 5,
   "id": "a6839f4f-898f-4988-ad8c-002e5c6486a4",
   "metadata": {},
   "outputs": [],
   "source": [
    "%%qsharp\n",
    "\n",
    "operation IntToQubit(a : Int, A : Qubit[]) : Unit is Adj + Ctl {\n",
    "    let n = Length(A);\n",
    "    let bitstring = IntAsBoolArray(a, n);\n",
    "    for i in 0..n-1 {\n",
    "        if bitstring[i] {\n",
    "            X(A[i]);\n",
    "        }\n",
    "    }\n",
    "}\n",
    "\n",
    "operation ShorProcedure(a : Int, n : Int) : Int {\n",
    "    // nalazimo najmanje k takvo da je 2n < 2^k\n",
    "    // log_2(2n) < k\n",
    "    let k = 2 + Ceiling(Lg(2.0 * IntAsDouble(n)));\n",
    "    use regA = Qubit[k];\n",
    "    use regN = Qubit[k];\n",
    "\n",
    "    IntToQubit(a, regA);\n",
    "    IntToQubit(n, regN);\n",
    "\n",
    "    let N = findN(n);\n",
    "\n",
    "    Message($\"{k}, {N}\");\n",
    "\n",
    "    let j = QuantumShorProcedure(regA, regN, N);\n",
    "\n",
    "    ResetAll(regA);\n",
    "    ResetAll(regN);\n",
    "\n",
    "    return j; \n",
    "}"
   ]
  },
  {
   "cell_type": "markdown",
   "id": "5128dcd2-6d10-4a4e-b1f6-ef8700e1e802",
   "metadata": {},
   "source": [
    "Pre nego što napišemo celu funkciju, ajde da testiramo ovo što smo do sada uradili. Dakle, $n = 4$, $a = 3$."
   ]
  },
  {
   "cell_type": "code",
   "execution_count": 14,
   "id": "64731d0d-57a2-4b81-8fd4-3dc25bb8c43d",
   "metadata": {},
   "outputs": [
    {
     "data": {
      "text/plain": [
       "5, 4"
      ]
     },
     "metadata": {},
     "output_type": "display_data"
    },
    {
     "data": {},
     "metadata": {},
     "output_type": "display_data"
    },
    {
     "data": {
      "text/plain": [
       "8"
      ]
     },
     "metadata": {},
     "output_type": "display_data"
    },
    {
     "data": {},
     "metadata": {},
     "output_type": "display_data"
    }
   ],
   "source": [
    "%%qsharp\n",
    "\n",
    "let n = 4;\n",
    "let a = 3;\n",
    "\n",
    "let j = ShorProcedure(a, n);\n",
    "Message($\"{j}\");"
   ]
  },
  {
   "cell_type": "markdown",
   "id": "e671ad06-8a05-4c6d-98f8-6028fb8954b6",
   "metadata": {},
   "source": [
    "Pokretanjem više puta, dobijamo $0$ ili $8$. Ovde smo dobili $8$. Sada tražimo $p, q$, gde je $p > 0$, $q < N$, $\\left \\vert \\frac{8}{16} - \\frac{p}{q} \\right \\vert < \\frac{1}{50}$. Može se uzeti $p = 1$, $q = 2$, čime dobijamo da je $r = q = 2$. Dakle, aproksimacija za period funkcije $f_4$ je $2$. Proveravamo sada da li $a^{2/2} - 1$ ili $a^{2/2} + 1$ ima netrivijalni NZD sa $4$. Pošto je $a = 3$, dobijamo $a^{2/2} - 1 = 2$ i $a^{2/2} + 1 = 4$. Našli smo netrivijalni delilac $2$.\n",
    "\n",
    "Ispod ćemo pokušati isto ovo sa $n = 15$ i $a = 4$."
   ]
  },
  {
   "cell_type": "code",
   "execution_count": 7,
   "id": "3d037de7-84c6-49bc-913a-c4a9b4416a7c",
   "metadata": {},
   "outputs": [
    {
     "data": {
      "text/plain": [
       "7, 8"
      ]
     },
     "metadata": {},
     "output_type": "display_data"
    },
    {
     "data": {},
     "metadata": {},
     "output_type": "display_data"
    },
    {
     "data": {
      "text/plain": [
       "128"
      ]
     },
     "metadata": {},
     "output_type": "display_data"
    },
    {
     "data": {},
     "metadata": {},
     "output_type": "display_data"
    }
   ],
   "source": [
    "%%qsharp\n",
    "\n",
    "let n = 15;\n",
    "let a = 4;\n",
    "\n",
    "let j = ShorProcedure(a, n);\n",
    "Message($\"{j}\");"
   ]
  },
  {
   "cell_type": "markdown",
   "id": "a23af1be-96c9-40e7-835f-c0804e4f3322",
   "metadata": {},
   "source": [
    "Ovde dobijamo $j = 128$ i $N = 8$. Tražimo $p > 0$ i $q < 8$ tako da važi $\\left \\vert \\frac{128}{256} - \\frac{p}{q} \\right \\vert < \\frac{1}{450}$. Slično kao gore, uzimamo $p = 1$, $q = 2$, nakon čega dobijamo $r = 2$. Odavde je $a^{r/2} - 1 = 3$, čime smo našli jedan netrivijalni delilac broja $15$.\n",
    "\n",
    "Pokušajmo isto ovo sa $n = 15$ i $a = 7$;"
   ]
  },
  {
   "cell_type": "code",
   "execution_count": 11,
   "id": "8c3915b6-e0fb-447e-bd22-0f878225cbaa",
   "metadata": {},
   "outputs": [
    {
     "data": {
      "text/plain": [
       "7, 8"
      ]
     },
     "metadata": {},
     "output_type": "display_data"
    },
    {
     "data": {},
     "metadata": {},
     "output_type": "display_data"
    },
    {
     "data": {
      "text/plain": [
       "192"
      ]
     },
     "metadata": {},
     "output_type": "display_data"
    },
    {
     "data": {},
     "metadata": {},
     "output_type": "display_data"
    }
   ],
   "source": [
    "%%qsharp\n",
    "\n",
    "let n = 15;\n",
    "let a = 7;\n",
    "\n",
    "let j = ShorProcedure(a, n);\n",
    "Message($\"{j}\");"
   ]
  },
  {
   "cell_type": "markdown",
   "id": "e01751a6-40a7-4945-9044-22c4f9aeed8b",
   "metadata": {},
   "source": [
    "Dobili smo $j = 192$ i $N = 8$. Nejednakost koju rešavamo je $\\left \\vert \\frac{192}{256} - \\frac{p}{q} \\right \\vert < \\frac{1}{450}$ Ako postavimo $p = 3$, $q = 4$, dobijamo $r = 4$. Odavde je $a^{r/2} - 1 = 48$ i $a^{r/2} + 1 = 50$. Dobijamo $5$ kao zajednički delilac brojeva $15$ i $50$."
   ]
  },
  {
   "cell_type": "code",
   "execution_count": 15,
   "id": "4fdfdc03-5ce0-4c47-ba6f-692d240625c7",
   "metadata": {},
   "outputs": [
    {
     "data": {
      "text/plain": [
       "9, 12"
      ]
     },
     "metadata": {},
     "output_type": "display_data"
    },
    {
     "data": {},
     "metadata": {},
     "output_type": "display_data"
    },
    {
     "data": {
      "text/plain": [
       "2048"
      ]
     },
     "metadata": {},
     "output_type": "display_data"
    },
    {
     "data": {},
     "metadata": {},
     "output_type": "display_data"
    }
   ],
   "source": [
    "%%qsharp\n",
    "\n",
    "let n = 57;\n",
    "let a = 8;\n",
    "\n",
    "let j = ShorProcedure(a, n);\n",
    "Message($\"{j}\");"
   ]
  },
  {
   "cell_type": "markdown",
   "id": "44e93d2f-3401-40e3-86b3-1b275ee41999",
   "metadata": {},
   "source": [
    "Dobili smo $j = 1365$ i $N = 12$. Rešavamo nejednakost $\\left \\vert \\frac{1365}{4096} - \\frac{p}{q} \\right \\vert < \\frac{1}{6498}$. Ako postavimo $p = 1$, $q = 3$, dobijamo $r = 3$ kao aproksimaciju za period (period je zapravo $6$). Dalje, $a^{3/2} \\equiv_n \\sqrt{56}$. Ovo ne uspeva, jer ne postoji kvadratni koren od $56$ po modulu $57$.\n",
    "\n",
    "Pokrenimo kod opet. Sada smo dobili $j = 2048$. Odavde dobijamo $p = 1$, $q = 2$. Dalje, $a^{r/2} = a$ i otuda $a^{r/2} - 1 = 7$ i $a^{r/2} + 1 = 9$. Ovde sada nalazimo da $9$ i $57$ imaju $3$ kao zajednički delilac."
   ]
  },
  {
   "cell_type": "code",
   "execution_count": null,
   "id": "ceb97430-e55b-470f-b8ed-3c94aa4d77b7",
   "metadata": {},
   "outputs": [],
   "source": []
  }
 ],
 "metadata": {
  "kernelspec": {
   "display_name": "Python 3 (ipykernel)",
   "language": "python",
   "name": "python3"
  },
  "language_info": {
   "codemirror_mode": {
    "name": "ipython",
    "version": 3
   },
   "file_extension": ".py",
   "mimetype": "text/x-python",
   "name": "python",
   "nbconvert_exporter": "python",
   "pygments_lexer": "ipython3",
   "version": "3.12.3"
  }
 },
 "nbformat": 4,
 "nbformat_minor": 5
}
