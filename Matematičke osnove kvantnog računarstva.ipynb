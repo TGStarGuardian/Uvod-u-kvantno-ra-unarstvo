{
 "cells": [
  {
   "cell_type": "markdown",
   "id": "37df998e-8603-4cc3-a1fa-8a4b4bafc267",
   "metadata": {},
   "source": [
    "# Matematičke osnove kvantnog računarstva"
   ]
  },
  {
   "cell_type": "markdown",
   "id": "9bb03e97-724b-479f-92bc-c76ba92d2f38",
   "metadata": {},
   "source": [
    "Kvatna mehanika i kvantno računarstvo su zasnovani na linearnoj algebri i teoriji Hilbertovih prostora. Podrazumevaćemo da imate osnovno znanje iz linearne algebre i metričkih prostora (ako to nije slučaj, nađite bilo koji kurs iz toga na internetu ili relevantnu knjigu), pa ćemo se fokusirati ovde na teoriju Hilbertovih prostora."
   ]
  },
  {
   "cell_type": "markdown",
   "id": "46d0a98b-16c7-4b29-b2aa-71c297b0d97b",
   "metadata": {},
   "source": [
    "#### Definicija Hilbertovog prostora:\n",
    "\n",
    "*Hilbertov prostor $\\mathcal{H}$ nad poljem skalara $\\mathbb{C}$* je vektorski prostor nad $\\mathbb{C}$ koji je kompletan u odnosu na operaciju rastojanja koju indukuje norma unutrašnjeg proizvoda.\n",
    "    \n",
    "*Unutrašnji proizvod* je operacija $\\odot : \\mathcal{H} \\times \\mathcal{H} \\xrightarrow[]{} \\mathbb{C}$ koja zadovoljava naredne aksiome:\n",
    "* za sve $\\alpha \\in \\mathbb{C}$ i sve $v, w \\in \\mathcal{H}$, važi:\n",
    "        \\begin{align*}\n",
    "            (\\alpha v) \\odot w = \\alpha (v \\odot w).\n",
    "        \\end{align*}\n",
    "* za sve $v_1, v_2, w \\in \\mathcal{H}$, važi:\n",
    "        \\begin{align*}\n",
    "            (v_1 + v_2) \\odot w = (v_1 \\odot w) + (v_2 \\odot w).\n",
    "        \\end{align*}\n",
    "* za sve $v \\in \\mathcal{H}$, $v \\odot v \\in \\mathbb{R}$ i važi:\n",
    "        \\begin{align*}\n",
    "            v \\odot v \\geq 0, \\\\\n",
    "            v \\odot v = 0 \\Longleftrightarrow v = 0.\n",
    "        \\end{align*}\n",
    "* za sve $v, w \\in \\mathcal{H}$, važi:\n",
    "        \\begin{align*}\n",
    "            v \\odot w = \\overline{w \\odot v},\n",
    "        \\end{align*} gde je $\\overline{x} = a - bi$, za $x = a + bi$.\n",
    "\n",
    "\n",
    "*Norma* Hilbertovog prostora $\\mathcal{H}$ je funkcija $|| \\cdot || : \\mathcal{H} \\xrightarrow[]{} \\mathbb{R}$ takva da je, za sve $x \\in \\mathcal{H}$:\n",
    "        \\begin{align*}\n",
    "            || x || = \\sqrt{x \\odot x}.\n",
    "        \\end{align*}"
   ]
  },
  {
   "cell_type": "markdown",
   "id": "ced9edc3-5a2a-4a65-b34f-6bedb7ecc8c1",
   "metadata": {},
   "source": [
    "#### Primer Hilbertovog prostora:\n",
    "\n",
    "$\\mathbb{C}^2$ je Hilbertov prostor. Vektori u tom prostoru su vektori kolone, odnosno $v = \\begin{pmatrix}\n",
    "        a \\\\ b\n",
    "    \\end{pmatrix} = (a, b)^T$. Neka je $v = (a, b)^T$, $w = (c, d)^T$. Unutrašnji proizvod je:\n",
    "    \\begin{align*}\n",
    "        v \\odot w = (\\overline{a}, \\overline{b}) \\begin{pmatrix}c \\\\ d\\end{pmatrix} = \\overline{a}c + \\overline{b}d.\n",
    "    \\end{align*}"
   ]
  },
  {
   "cell_type": "markdown",
   "id": "4df3120b-5dc0-4d8b-be73-44cb9f1d89db",
   "metadata": {},
   "source": [
    "#### Definicija ortogonalnosti:\n",
    "\n",
    "Za vektore $v, w \\in \\mathcal{H}$ kažemo da su *ortogonalni* ako je $v \\odot w = 0$. Za bazu $V$ Hilbertovog prostora $\\mathcal{H}$ kažemo da je ortonormirana ako važi sledeće:\n",
    "* za sve $v, w \\in V$, $v \\neq w$, $v \\odot w = 0$,\n",
    "* za sve $v \\in V$, $v \\odot v = 1$."
   ]
  },
  {
   "cell_type": "markdown",
   "id": "d36e47d3-afe5-42d3-ad0c-6cf95d6007ab",
   "metadata": {},
   "source": [
    "#### Primer ortogonalnih vektora:\n",
    "\n",
    "U Hilbertovom prostoru $\\mathbb{C}^2$, kanonska baza $\\{(1, 0)^T, (0, 1)^T\\}$ je ortonormirana."
   ]
  },
  {
   "cell_type": "markdown",
   "id": "a6774b66-614a-4fe3-a1c2-3f4cee30ba7f",
   "metadata": {},
   "source": [
    "#### Definicija unitarnog preslikavanja:\n",
    "\n",
    "*Unitarna transformacija $U$* je preslikavanje $\\mathcal{H} \\xrightarrow[]{} \\mathcal{H}$ koja zadovoljava sledeće aksiome:\n",
    "* $U$ je surjektivno preslikavanje,\n",
    "* za sve $x, y \\in \\mathcal{H}$, $x' = U(x)$, $y' = U(y)$,\n",
    "        \\begin{align*}\n",
    "           x' \\odot y' = x \\odot y.\n",
    "        \\end{align*}"
   ]
  },
  {
   "cell_type": "markdown",
   "id": "41d009c4-0f3d-4fd7-82e9-c04d026fce91",
   "metadata": {},
   "source": [
    "#### Primer unitarne transformacije:\n",
    "\n",
    "U Hilbertovom prostoru $\\mathbb{C}^2$, naredna transformacija je unitarna:\n",
    "    \\begin{align*}\n",
    "        U(x) = \\begin{pmatrix}\n",
    "            0 & 1 \\\\\n",
    "            1 & 0\n",
    "        \\end{pmatrix} \\begin{pmatrix}\n",
    "            x_1 \\\\ x_2\n",
    "        \\end{pmatrix},\n",
    "    \\end{align*} gde je $x = \\begin{pmatrix}\n",
    "        x_1 \\\\ x_2\n",
    "        \\end{pmatrix}$."
   ]
  },
  {
   "cell_type": "markdown",
   "id": "ab84e684-369e-456b-ad77-9b34c2b804e1",
   "metadata": {},
   "source": [
    "### Inverz unitarne transformacije:\n",
    "\n",
    "Konjugovani transponat matrice $M$ dimenzija $m \\times n$ je matrica $M^{*}$ dimenzija $n \\times m$ čiji su elementi dati formulom $m^{*}_{ij} = \\overline{m_{ji}}$, gde je $1 \\leq i \\leq n$ i $1 \\leq j \\leq m$. Dakle, konjugovani transponat se dobija tako što se elementi matrice $M$ konjuguju, pa se rezultujuća matrica transponuje. Kada je u pitanju unitarna transformacija $U$, njen konjugovani transponat ćemo označavati sa $U^{\\dagger}$. Može se pokazati da unitarna transformacija zadovoljava sledeću jednakost:\n",
    "\\begin{align*}\n",
    "    U U^{\\dagger} = U^{\\dagger} U = I,\n",
    "\\end{align*} gde je $I$ identično preslikavanje, odnosno $I v = v$, za sve $v \\in \\mathcal{H}$. Takođe, $U^{\\dagger}$ zadovoljava, za sve $x, y \\in \\mathcal{H}$, sledeću jednakost:\n",
    "\\begin{align*}\n",
    "    x' = U(x), y'' = U^{\\dagger}(y), \\\\\n",
    "    x' \\odot y = x \\odot y''.\n",
    "\\end{align*}\n",
    "\n",
    "Na osnovu prve jednakosti, zaključujemo da je inverz unitarne transformacije $U$ njen konjugovani transponat $U^{\\dagger}$.\n",
    "\n",
    "### Bra-ket notacija:\n",
    "\n",
    "U ovom tekstu ćemo razmatrati Hilbertove prostore $\\mathbb{C}^{2^k}$, $k \\geq 1$. Česta je praksa da se vektori označavaju u *Dirakovoj notaciji*, poznatoj i kao *bra-ket notacija*. Notacija se sastoji od elemenata *bra* i *ket*. Sa *ket* označavamo elemente Hilbertovog prostora, odnosno vektore kolone, i to zapisujemo kao $\\ket{v}$. Sa *bra* ćemo označavati konjugovani transponat vektora $v$ i to zapisujemo kao $\\bra{v}$. Dakle, ako je $v = \\ket{v} = \\begin{pmatrix}a \\\\ b\\end{pmatrix}$, onda je $\\bra{v} = (\\overline{a}, \\overline{b})$. Unutrašnji proizvod vektora $v$ i $w$ u ovom prostoru definišemo sa $\\bra{v} \\ket{w}$ i označavamo ga sa $\\braket{v | w}$.\n",
    "\n",
    "Takođe, u Hilbertovim prostorima $\\mathbb{C}^{2^k}$ se svako linearno preslikavanje može predstaviti preko matrice, a primena linearnog preslikavanja nad vektorom $x$ kao proizvod odgovarajuće matrice sa tim vektorom. Kompoziciji linearnih preslikavanja odgovara proizvod matrica tih preslikavanja. Zbog toga možemo poistovetiti matrice sa linearnim preslikavanjima u daljem tekstu."
   ]
  },
  {
   "cell_type": "code",
   "execution_count": null,
   "id": "9efa9e84-ed32-41f6-9cc7-77288aaceee0",
   "metadata": {},
   "outputs": [],
   "source": []
  },
  {
   "cell_type": "code",
   "execution_count": null,
   "id": "0a837df0-f438-40a2-a872-7fc351c4500a",
   "metadata": {},
   "outputs": [],
   "source": []
  },
  {
   "cell_type": "code",
   "execution_count": null,
   "id": "d71c7652-223b-45fa-be7d-5ae198a3ffed",
   "metadata": {},
   "outputs": [],
   "source": []
  }
 ],
 "metadata": {
  "kernelspec": {
   "display_name": "Python 3 (ipykernel)",
   "language": "python",
   "name": "python3"
  },
  "language_info": {
   "codemirror_mode": {
    "name": "ipython",
    "version": 3
   },
   "file_extension": ".py",
   "mimetype": "text/x-python",
   "name": "python",
   "nbconvert_exporter": "python",
   "pygments_lexer": "ipython3",
   "version": "3.12.3"
  }
 },
 "nbformat": 4,
 "nbformat_minor": 5
}
