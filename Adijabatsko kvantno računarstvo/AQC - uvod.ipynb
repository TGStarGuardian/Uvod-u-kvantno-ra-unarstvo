{
 "cells": [
  {
   "cell_type": "markdown",
   "id": "51754e83-8ce9-4f45-982a-6159eb771a8f",
   "metadata": {},
   "source": [
    "# Adijabatsko kvantno računarstvo (AQC)"
   ]
  },
  {
   "cell_type": "markdown",
   "id": "d895a891-be1f-4d4d-8ffa-f0e1750f2d6f",
   "metadata": {},
   "source": [
    "Adijabatsko kvantno računarstvo je jedan od teorijskih modela kvantnog računarstva koji se zasniva na procesima iz fizike. U radu *Quantum Computation by Adiabatic Evolution* iz 2000. godine su autori Edvard Farhi (eng. *Edward Farhi*), Džefri Gouldstoun (eng. *Jeffrey Goldstone*), Sem Gutman (eng. *Sam Gutmann*) i Majkl Sipser (eng. *Michael Sipser*) uveli prvi put ovaj model, gde su ga korsitili za rešavanje SAT problema.\n",
    "\n",
    "U kasnijim radovima, pokazano je da je ovaj model izračunavanja ekvivalentan standardnom modelu zasnovanom na kvantnim kolima. Ipak, postoje dve ključne prednosti adijabatskog kvantnog računarstva u odnosu na model zasnovan na kvantnim kolima:\n",
    "1. optimizacioni problemi (problemi nalaženja minimuma/maksimuma funkcije) se lakše mogu izraziti u modelu adijabatskog računarstva,\n",
    "2. zbog fizičkih procesa na kojima je zasnovano adijabatsko kvantno računarstvo, ono omogućava da se, sa manje kvantnih resursa i bez posebnih tehnika otklanjanja grešaka prouzrokovanih fizičkim šumom u kvantnom računaru, veće instance problema reše nego što to dozvoljavaju današnji kvantni računari zasnovani na modelu kvantnih kola (npr. IBM-ovi kvantni računari).\n",
    "\n",
    "Prva prednost je sama teorijska, dok druga prelazi okvire same teorije i odnosi se na fizičku realizaciju kvantnog računara. Naime, trenutni kvantni računari se nazivaju NISQ uređajima, gde je NISQ skraćenica za Noisy Intermediate-Scale Quantum. Trenutni kvantni računari su još uvek podložni uticajima fizičkog šuma, pa stoga postoje razna ograničenja, i kvantni algoritmi ne mogu još uvek da rade onoliko efikasno koliko je to teorija pokazala. Dalje se nećemo baviti fizičkim šumovima u kvantnom računarstvu: za to postoje ozibljna istraživanja u oblastima *Quantum Error Correction* i *Quantum Noise Modeling*.\n",
    "\n",
    "Sada ćemo prikazati teorijske osnove adijabatskog kvantnog računarstva i opisati kakve probleme može da rešava."
   ]
  },
  {
   "cell_type": "markdown",
   "id": "3cf7d80e-307c-4c60-8c76-8be65ae37d0c",
   "metadata": {},
   "source": [
    "## Zakoni fizike: kvantna mehanika 101"
   ]
  },
  {
   "cell_type": "markdown",
   "id": "5f3a8f35-330b-4c37-8cad-b8ca5d639ff2",
   "metadata": {},
   "source": [
    "Verovatno je sa časova fizike iz srednje škole svima poznata Šredingerova jednačina:\n",
    "\n",
    "\\begin{align*}\n",
    "    H \\psi(x) = E \\psi(x).\n",
    "\\end{align*}\n",
    "\n",
    "$H$ je neki operator koji se naziva *Hamiltonijan sistema*, ili samo *Hamiltonijan*. Od Hamiltonijana se zahteva da je samo-adjungovani operator, odnosno da je $H = H^{\\dagger}$. Kod nas će Hamiltonijan uvek biti neka matrica sa kompleksnim koeficijentima, pa je $H^{\\dagger}$ zapravo konjugovani transponat te matrica. Nepoznati koeficijent $E$ je ukupna energija sistema. Funkcija $\\psi(x)$, koja predstavlja rešenje sistema, naziva se *talasna funkcija*. Talasna funkcija se interpretira tako što se $|\\psi|^2 = \\psi^{\\star} \\psi$ kao gustina verovatnoće da je sistem u konfiguraciji određenoj parametrima. Na primer, ako je $x \\in (0, 1)$, onda je $\\int_{0}^{1} |\\psi(x)|^2 dx$ verovatnoća da je neka čestica koju ovaj sistem opisuje na intervalu $(0, 1)$. Ako je $x$ vektor dimenzije $3n$, onda možemo, na primer, posmatrati sistem od $n$ elektrona u trodimenzionom prostoru, i tada bi $\\int_{X} |\\psi(x)|^2 dx$ odgovarao verovatnoći da su elektroni u nekoj konfiguraciji iz skupa $X$.\n",
    "\n",
    "Pošto smo rekli iznad ćemo ovde operator $H$ tretirati kao matricu, primećujemo da su rešenja sistema $E$ i $\\psi$ zapravo redom sopstvene vrednosti i sopstveni vektori matrice $H$. Pošto je matrica $H$ samo-adjungovana, ona je simetrična i onda su joj sve sopstvene vrednosti realni brojevi. Time je obezbeđeno da je energija $E$ realan broj. Takođe, simetričnost matrice $H$ dimenzije $n$ nam garantuje postojanje ortonormirane baze $\\psi_1, \\ldots, \\psi_n$ talasnih funkcija koje će obuhvatiti ceo prostor $\\mathbb{C}^{n}$. Dakle, rešenje ove Šredingerove jednačine se može zapisati u opštem obliku:\n",
    "\n",
    "\\begin{align*}\n",
    "    \\psi(x) = c_1 \\psi_1(x) + \\ldots + c_n \\psi_n(x),\n",
    "\\end{align*} a jednačina je onda:\n",
    "\n",
    "\\begin{align*}\n",
    "    H \\psi(x) = c_1 E_1 \\psi_1(x) + \\ldots + c_n E_n \\psi_n(x),\n",
    "\\end{align*} gde su $E_i$ sopstvene vrednosti koje odgovaraju sopstvenim vektorima $\\psi_i$.\n",
    "\n",
    "Primetimo da je ova jednačina vremenski nezasivna, što se vidi na osnovu toga što se nigde ne pojavljuje parametar vremena $t$. Postoji i drugi oblik Šredingerove jednačine, i on se naziva vremenski zasivna Šredingerova jednačina. Njen oblik glasi:\n",
    "\n",
    "\\begin{align*}\n",
    "    i \\hbar \\frac{\\partial}{\\partial t} \\psi(x, t) = H \\psi(x, t),\n",
    "\\end{align*} gde je $\\hbar$ redukovana Plankova konstanta.\n",
    "\n",
    "Postoje dva slučaja koja su od važnosti: kada Hamiltonijan ne zavisi od vremena i kada zavisi od vremena. U nastavku ćemo obraditi oba."
   ]
  },
  {
   "cell_type": "markdown",
   "id": "5523427e-d8cb-4fad-a474-cb9e75d17107",
   "metadata": {},
   "source": [
    "### Hamiltonijan ne zavisi od vremena"
   ]
  },
  {
   "cell_type": "markdown",
   "id": "084f6d2d-0427-4ebd-891d-790232e3dc7a",
   "metadata": {},
   "source": [
    "Ako Hamiltonijan nije zavisan od vremena, onda se rešavanje vremenski zavisne Šredingerove jednačine može svesti na rešavanje vremenski-nezasivne Šredingerove jednačine. U tom slučaju su rešenja u obliku:\n",
    "\n",
    "\\begin{align*}\n",
    "    \\psi(x, t) = \\sum_{i = 1}^{n} c_i \\psi_i(x) e^{-i E_i t / \\hbar},\n",
    "\\end{align*} gde $\\psi_i(x)$ čine ortonormiranu bazu sopstvenih vektora vremenski-nezavisne jednačine $H \\psi(x) = E \\psi(x)$, a $E_i$ su odgovarajuće sopstvene vrednosti.\n",
    "\n",
    "Promena stanja sistema kako vreme teče se opisuje *operatorom vremenske evolucije* $U(t, t_0)$, koji je linearni operator. Dakle, ako je dat sistem u stanju $\\psi(x, t_0)$, primenom operatora vremenske evolucije $U(t, t_0)$ ćemo dobiti sistem u stanju $\\psi(x', t)$. Zbog fizičke smislenosti, podrazumeva se da je $t > t_0$, jer vreme ne može da ide unazad. Na osnovu vremenski zavisne Šredingerove jednačine, vremenski operator je dat sa:\n",
    "\n",
    "\\begin{align*}\n",
    "    U(t, t_0) \\psi(x, t_0) = e^{-(i(t - t_0)/\\hbar) H} \\psi(x, t_0).\n",
    "\\end{align*}\n",
    "\n",
    "Podsetimo se da je $e^{xM} = I + x M + \\frac{x^2}{2!} M^2 + \\ldots$. Pošto smo rekli da je $H$ matrica, onda će i $e^{-(i(t - t_0)/\\hbar) H}$ biti neka matrica. Postoje tehnike da se ova matrica izračuna na klasičnom i na kvantnom računaru, ali to sada nije od presudne važnosti.\n",
    "\n",
    "Zbog jednostavnijeg zapisivanja ovih izraza, neka je $t_0 = 0$ i neka je $U(t, t_0)$ od sada $U(t)$. Dakle, $U(t) = e^{-(it/\\hbar) H}$. Uverimo se da ovo ima smisla tako što ćemo pokazati sledeće: ako $\\psi(x, 0)$ zadovoljava vremenski zavisnu Šredingerovu jednačinu, onda je zadovoljava i $U(t) \\psi(x, 0)$. $\\phi(x, t) = U(t) \\psi(x, 0)$ zadovoljava Šredingerovu jednačinu ako i samo ako važi:\n",
    "\n",
    "\\begin{align*}\n",
    "    i \\hbar \\frac{\\partial}{\\partial t} \\phi(x, t) = H \\phi(x, t).\n",
    "\\end{align*}\n",
    "\n",
    "Dalje, poznato je da je $\\frac{\\partial}{\\partial t} e^{t M} = M e^{t M}$. Odavde dobijamo:\n",
    "\n",
    "\\begin{align*}\n",
    "    \\frac{\\partial}{\\partial t} U(t) \\psi(x, 0) = -\\frac{i}{\\hbar} H  e^{-(it/\\hbar) H} \\psi(x, 0) = -\\frac{i}{\\hbar} H \\phi(x, t).\n",
    "\\end{align*}\n",
    "\n",
    "I onda se jasno vidi da važi:\n",
    "\n",
    "\\begin{align*}\n",
    "    i \\hbar \\frac{\\partial}{\\partial t} \\phi(x, t) = i \\hbar \\frac{\\partial}{\\partial t} U(t) \\psi(x, 0) = H \\phi(x, t).\n",
    "\\end{align*}\n",
    "\n",
    "Dakle, $\\phi(x, t)$ zadovoljava vremenski zavisnu Šredingerovu jednačinu, što potvrđuje da je $U(t)$ zaista operator vremenske evolucije."
   ]
  },
  {
   "cell_type": "markdown",
   "id": "7dee9f34-1c88-4023-9e29-d47810982aee",
   "metadata": {},
   "source": [
    "### Hamiltonijan zavisi od vremena"
   ]
  },
  {
   "cell_type": "markdown",
   "id": "af8259a7-947b-4fe5-ba04-454646998029",
   "metadata": {},
   "source": [
    "Ovaj slučaj nam je daleko zanimljiviji, jer se na njemu zasniva adijabatsko kvantno računarstvo. Rešavanje Šredingerove jednačine u ovom slučaju nije presudno, već nam je bitan operator vremenske evolucije.\n",
    "\n",
    "Pošto matrica $H$ sada zavisi od vremena, obeležavaćemo je sa $H(t)$. Ako $H(t_i)$ komutira sa $H(t_j)$, za sve različite vremenske trenutke $t_i$ i $t_j$, odnosno ako je $H(t_i) H(t_j) = H(t_j) H(t_i)$, onda je operator vremenske evolucije dat izrazom:\n",
    "\n",
    "\\begin{align*}\n",
    "    U(t, t_0) = \\text{exp} \\left\\{ -\\frac{i}{\\hbar} \\int_{t_0}^{t} H(t) dt \\right\\}.\n",
    "\\end{align*}\n",
    "\n",
    "Kada Hamiltonijani ne komutiraju, operator vremenske evolucije je složeniji:\n",
    "\n",
    "\\begin{align*}\n",
    "    U(t, t_0) = I + \\sum_{n = 1}^{\\infty} \\left( \\frac{i}{\\hbar} \\right)^n \\int_{t_0}^{t} dt_1 \\ldots \\int_{t_0}^{t_{n - 1}} dt_n H(t_1) \\ldots H(t_n).\n",
    "\\end{align*}\n",
    "\n",
    "Ovaj izraz se zove Dajsonov red (eng. *Dyson series*). Osnovna ideja je da malim koracima aproksimira vremenske operatore, pa onda od tih malih koraka stvori sve bolje aproksimacije za vremenski operator na intervalu $[t_0, t]$. Nećemo ovde dokazivati ovu formulu. Izvođenje se može naći na [linku](https://scipp.ucsc.edu/~haber/ph215/TimeOrderedExp.pdf). Ono što je korisno ovde spomenuti je da se izbacivanjem članova ovog reda posle nekog $n_0$ može dobiti aproksimacija za vremenski operator."
   ]
  },
  {
   "cell_type": "markdown",
   "id": "706ad25a-5dc6-4ce9-8e88-fe2d019625dd",
   "metadata": {},
   "source": [
    "## Kvantna mehanika: energetska stanja"
   ]
  },
  {
   "cell_type": "markdown",
   "id": "35e65f44-7897-4028-b47f-191758e04aa7",
   "metadata": {},
   "source": [
    "Razlog zašto se kvantna mehanika naziva kvantnom je što energija u kvantnom sistemu ne mora da bude neprekidna funkcija, kao što nalažu zakoni klasične fizike. Na primer, ako je sada $E = 2$ i nakon pet minuta je $E = 1$, onda znamo da je između sada i tih pet minuta kasnije energija imala u nekom trenutku vrednost $1.67$. U kvantnoj mehanici ovo nije nužno slučaj, i postoji mnogo primera gde to baš nije slučaj. Na primer, u slučaju da je Hamiltonijan matrica, kao što je kod nas slučaj, energije su iz skupa $\\{E_1, \\ldots, E_n\\}$. Kaže se da su energije *diskretizovane*, ili čak *kvantizovane*, na osnovu čega je kvantna mehanika dobila naziv.\n",
    "\n",
    "Energije se mogu urediti standardnim uređenjem $\\leq$, pa možemo podrazumevati da je $E_1 \\leq E_2 \\leq \\ldots \\leq E_n$. Energija $E_1$ se naziva *energijom osnovnog stanja* (eng. *ground-state energy*), a odgovarajući sopstveni vektor $\\psi_1$ se naziva *vektorom osnovnog stanja* (eng. *ground-state vector*)."
   ]
  },
  {
   "cell_type": "markdown",
   "id": "93378631-b3d3-4423-b3be-2d4056c24fa8",
   "metadata": {},
   "source": [
    "### Adijabatska teorema"
   ]
  },
  {
   "cell_type": "markdown",
   "id": "ebc1463b-5d9a-450c-8f3d-655308efb98d",
   "metadata": {},
   "source": [
    "Proces se naziva *adijabatskim* ako ne dolazi do razmene toplotne energije između sistema i okoline. Adijabatska teorema daje vezu između energetskih stanja Hamiltonijana u takvom procesu u različitim vremenskim trenucima. Neka je $H(t_0)$ Hamiltonijan sistema u vremenskom trenutku $t_0$, a $H(t_1)$ Hamiltonijan sistema u vremenskom trenutku $t_1$, i neka je $t_0 < t_1$. Intuitivno, adijabatska teorema kaže sledeće: ako je sistem u trenutku $t_0$ u osnovnom energetskom stanju $\\psi_1(x, t_0)$ i ako prođe dovoljno vremena ($t_1$ je dovoljno mnogo udaljeno od $t_0$), onda će u trenutku $t_1$ sistem biti u osnovnom energetskom stanju $\\psi_1(x, t_1)$. Dakle, možemo zamisliti da sistem iz jednog osnovnog energetskog stanja prelazi u drugo.\n",
    "\n",
    "Kako se ovo može iskoristiti u računarstvu? Na primer, možemo posmatrati problem računanja minimuma neke funkcije $f$. Ako uspemo da iskonstruišemo Hamiltonijan $H_f$ čije je osnovno energetsko stanje $min f$, problem se svodi sada na nalaženje osnovnog energetskog stanja Hamiltonijana. Pošto je takav Hamiltonijan uglavnom nezgodan za računanje, mi sada konstruišemo Hamiltonijan čije osnovno energetsko stanje i odgovarajući vektor možemo lako da izračunamo. Označimo taj Hamiltonijan sa $H_0$. Sada definišemo treći Hamiltonijan: $H_s(t) = s(t) H_f + (1 - s(t)) H_0$, gde je $s: [0, t_f] \\rightarrow [0, 1]$ rastuća funkcija sa graničnim uslovima $s(0) = 0$ i $s(1) = 1$. Primetimo da je $H(0) = H_0$ i $H(t_f) = H_f$. Sada inicijalizujemo vektor $v$ na vektor osnovnog stanja od $H_0$ i simuliramo vremenskim operatorima protok vremena. Kada protekne dovoljno vremena, odnosno kada je $t = t_f$, $v$ će završiti u vektoru osnovnog stanja od $H_f$. Sada se minimum funkcije dobija izvlačenjem informacija iz vektora $v$.\n",
    "\n",
    "Ovo što smo opisali iznad je adijabatsko kvantno računarstvo. Ono se zasniva na adijabatskoj teoremi, a ona ima više verzija (u odnosu na uslove vezane za energetska stanja Hamiltonijana). Jedna verzija se može naći u [knjizi](https://link.springer.com/book/10.1007/978-3-031-02518-1)."
   ]
  },
  {
   "cell_type": "markdown",
   "id": "09866dbb-885e-411e-8dad-9e9c6e41b644",
   "metadata": {},
   "source": []
  }
 ],
 "metadata": {
  "kernelspec": {
   "display_name": "Python 3 (ipykernel)",
   "language": "python",
   "name": "python3"
  },
  "language_info": {
   "codemirror_mode": {
    "name": "ipython",
    "version": 3
   },
   "file_extension": ".py",
   "mimetype": "text/x-python",
   "name": "python",
   "nbconvert_exporter": "python",
   "pygments_lexer": "ipython3",
   "version": "3.12.3"
  }
 },
 "nbformat": 4,
 "nbformat_minor": 5
}
