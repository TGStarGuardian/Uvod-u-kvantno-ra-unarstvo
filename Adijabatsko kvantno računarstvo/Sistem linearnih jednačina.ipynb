{
 "cells": [
  {
   "cell_type": "markdown",
   "id": "b75b797c-f8a6-4def-810f-42b79543f4ca",
   "metadata": {},
   "source": [
    "# Rešavanje sistema linearnih jednačina na kvantnom računaru"
   ]
  },
  {
   "cell_type": "markdown",
   "id": "a3731092-5b19-4c27-bef5-1648569b554a",
   "metadata": {},
   "source": [
    "Postoji nekoliko algoritama za rešavanje sistema linearnih jednačina na kvantnom računaru:\n",
    "* algoritam HHL, nazvan prema autorima Harou (eng. *Harrow*), Hasidimu (eng. *Hassidim*) i Lojdu (eng. *Lloyd*)\n",
    "* algoritam AQC(p)\n",
    "* algoritam AQC(exp)\n",
    "* algoritam zasnovan na kvantnim algoritmima aproksimativne optimizacije (eng. *Quantum Approximate Optimization Algorithms*, skraćeno QAOA).\n",
    "\n",
    "Poslednja tri algoritma koje smo naveli su definisali autori Dōng Àn i njegov mentor Lín Lín i oni se zasnivaju na adijabatskom kvantnom izračunavanju. Sada ćemo opisati zajedničke karakteristike svih navedenih algoritama, pa ćemo razmatrati svaki zasebno."
   ]
  },
  {
   "cell_type": "markdown",
   "id": "0555b3e1-eee4-40c9-a9cb-138bf26f130d",
   "metadata": {},
   "source": [
    "Neka je data invertibilna matrica $A$ dimenzija $N \\times N$ i vektor $b$ dužine $N$. Sistem linearnih jednačina koji rešavamo je:\n",
    "\\begin{align*}\n",
    "    Ax = b\n",
    "\\end{align*}\n",
    "\n",
    "Kada je matrica ermitska (brzo ćemo videti kako se svodi na taj slučaj), konstanta $\\kappa = \\max\\{|\\lambda|\\} / \\min\\{\\|\\lambda|\\}$ je dobro definisana i pritom važi $\\kappa \\geq 1$. Konstanta $\\kappa$ je kondicioni broj ermitske matrice $A$ i on nam govori koliko je $A$ blizu neke neinvertibilne matrice - što je veći kondicioni broj, to je matrica $A$ bliža neinvertibilnoj matrici. Ova konstantna je jako bitna, jer određuje stabilnost rešavanja sistema linearnih jednačina $Ax = b$.\n",
    "\n",
    "Svi algoritmi koje smo naveli su numerički i, osim kondicionog broja $\\kappa$, bitnu ulogu igra i greška $\\epsilon$ u vremenskoj složenosti algoritama.\n",
    "\n",
    "Dalje, da bi se algoritmi sproveli na kvantnom računaru, dimenzije matrice $A$ se usklađuju tako da je $N = 2^n$ za neko $n \\in \\mathbb{N}$. Ako to nije slučaj, matricu $A$ možemo dopuniti tako što ćemo dodavati vrste i kolone koje na glavnoj dijagonali imaju $1$ dok ne postane oblika $2^n \\times 2^n$, i dodati na kraj vektora $b$ nule dok ne postane dužine $2^n$ za neko $n$.\n",
    "\n",
    "Paulijeve matrice označavamo sa $X$, $Y$ i $Z$. Definišimo operatore $\\sigma_{+} = \\frac{1}{2} (X + i Y)$ i $\\sigma_{-} = \\frac{1}{2} (X - i Y)$.\n",
    "\n",
    "Osnovni koraci svakog od ovih algoritama su:\n",
    "1. normalizacija vektora $b$, odnosno $b = c b'$, gde je $b'$ jedinični vektor;\n",
    "2. nalaženje vektora $x''$ takav da je $x''$ proporcionalan rešenju $x$ sistema $A x' = b'$ - ovde se u sva četiri algoritma matrica $A$ svodi na ermitsku matricu tako što se definiše matrica $\\begin{pmatrix} 0 & A \\\\ A^{\\dagger} & 0 \\end{pmatrix}$ izrazom $\\sigma_{+} \\otimes A + \\sigma_{-} \\otimes A^{\\dagger}$, a vektor $b'$ zamenjujemo vektorom $\\ket{1} \\otimes \\ket{b'}$.\n",
    "\n",
    "Ovakvo rešavanje sistema linearnih jednačina nam ne daje zapravo vektor $x$ takav da je $Ax = b$, već nam daje vektor $x''$ koji je proporcionalan rešenju $A x' = b'$. Zato se u literaturi ovo preciznije naziva *kvantno rešavanje sistema linearnih jednačina*. U nekim optimizacionim problema, kao što je na primer *portfolio optimization*, ovo ima primenu. Dalje ćemo prikazati kako ovo radi.\n",
    "\n",
    "Prva glavna pretpostavka sva četiri algoritma je da nam je dato kvantno kolo $U_b$ takvo da je $U_b \\ket{0} = \\ket{b'}$. To kvantno kolo priprema vektor $b'$. Konstrukcija ovakvog kvantnog kola nije trivijalna.\n",
    "\n",
    "Druga glavna pretpostavka je da je matrica $A$ retka, odnosno da ima mali broj ne-nula elemenata u sebi. Ta pretpostavka je ključna, jer inače algoritmi postaju jako neefikasni."
   ]
  },
  {
   "cell_type": "markdown",
   "id": "a044da3e-883f-42cf-8a79-04f1c30067ca",
   "metadata": {},
   "source": [
    "## Algoritmi autora Dōng Àn i Lín Lín"
   ]
  },
  {
   "cell_type": "markdown",
   "id": "f02ce287-e6ce-4051-a29a-9471da69dc06",
   "metadata": {},
   "source": [
    "Ovde se već nalazimo u koraku $2$. Dakle, možemo pretpostaviti da je $A$ ermitska matrica i da je $b$ jedinični vektor. Rešavamo sistem jednačina $A x = b$. Osnovna ideja algoritma je da se definišu ermitski operatori $H_0$ i $H_1$, pa da se primeni operator vremenske evolucije, kojim se $H_0$ svodi na $H_1$. $H_0$ i $H_1$ su konstruisani tako da je sopstveni vektor $\\ket{\\psi_0}$ uz $0$ od $H_0$ poznata vrednost, a sopstveni vektor $\\ket{\\psi_1}$ uz $0$ od $H_1$ je takav da se iz njega može jednostavno izračunati $x''$. Korišćenjem adijabatske teoreme iz kvantne mehanike, autori pokazuju da će vektor $\\ket{\\psi_0}$ zaista evoluirati u vektor $\\ket{\\psi_1}$, čime se potvrđuje tačnost algoritma. Sva tri algoritma se zasnivaju na toj ideji, samo je drugačija realizacija.\n",
    "\n",
    "Ono što je zajedničko svim algoritmima su operatori $H_0$ i $H_1$. Ovde autori posmatraju dva slučaja:\n",
    "1. ako je $A$ pozitivno definitna matrica, onda je:\n",
    "   \\begin{align*}\n",
    "       Q_b &= I_N - \\ket{b}\\bra{b}, \\\\\n",
    "       H_0 &= X \\otimes Q_b, \\\\\n",
    "       H_1 &= \\sigma_{+} \\otimes (A Q_b) + \\sigma_{-} \\otimes (Q_b A).\n",
    "   \\end{align*}\n",
    "\n",
    "   Ovde se može primetiti da su sopstveni vektori uz $0$ od operatora $H_0$ $\\ket{1} \\otimes \\ket{b}$ i $\\ket{0} \\otimes \\ket{b}$, a od operatora $H_1$ su $\\ket{1} \\otimes \\ket{x''}$ i $\\ket{0} \\otimes \\ket{b}$. Ovde je sada ideja da se adijabatskim računanjem stanje $\\ket{1} \\otimes \\ket{b}$ prevede u stanje $\\ket{1} \\otimes \\ket{x''}$\n",
    "2. ako $A$ nije pozitivno definitna matrica, onda je:\n",
    "   \\begin{align*}\n",
    "       Q_{+, b} &= I_{2N} - \\ket{+}\\bra{+} \\otimes \\ket{b}\\bra{b}, \\\\\n",
    "       H_0 &= \\sigma_{+} \\otimes ((Z \\otimes I_N) Q_{+, b}) + \\sigma_{-} \\otimes (Q_{+, b} (Z \\otimes I_N)), \\\\\n",
    "       H_1 &= \\sigma_{+} \\otimes ((X \\otimes A) Q_{+, b}) + \\sigma_{-} \\otimes (Q_{+, b} (X \\otimes A)).\n",
    "   \\end{align*}\n",
    "\n",
    "   Primetimo da su sopstveni vektori uz $0$ od operatora $H_0$ $\\ket{0}\\ket{-}\\ket{b}$ i $\\ket{1}\\ket{+}\\ket{b}$, a od $H_1$ $\\ket{0}\\ket{+}\\ket{x''}$ i $\\ket{1}\\ket{+}\\ket{b}$. Sada je ideja da se adijabatskim računanjem stanje $\\ket{0}\\ket{-}\\ket{b}$ prevede u $\\ket{0}\\ket{+}\\ket{x''}$."
   ]
  },
  {
   "cell_type": "markdown",
   "id": "ccf2236d-fd0b-4dc2-bb2a-020dfa1a98ef",
   "metadata": {},
   "source": [
    "Sada već imamo $H_0$, $H_1$ i $\\ket{\\psi_{0}}$. Sada je potrebno opisati kako se vremenskom evolucijom $\\ket{\\psi_0}$ svodi na $\\ket{\\psi_1}$. Za to postoje dva pristupa."
   ]
  },
  {
   "cell_type": "markdown",
   "id": "33cf8fcb-ea4e-4b36-aacb-2449ec11e9aa",
   "metadata": {},
   "source": [
    "### AQC(p)"
   ]
  },
  {
   "cell_type": "markdown",
   "id": "49a66bfc-10a2-464c-aa76-4f98ba0c8db1",
   "metadata": {},
   "source": [
    "Protok vremena se može opisati funkcijom:\n",
    "\\begin{align*}\n",
    "    f_p(s) = \\frac{\\kappa}{\\kappa - 1} (1 - (1 + s(\\kappa^{p - 1} - 1))^{\\frac{1}{1 - p}}),\n",
    "\\end{align*} za $1 < p \\leq 2, $odnosno $H_0 = H(f_p(0))$ i $H_1 = H(f_p(1))$, jer $f_p(0) = 0$ i $f_p(1) = 1$.\n",
    "\n",
    "U ovom slučaju, biramo konstantu $T = O(\\kappa / \\epsilon)$ za $1 < p < 2$ i $T = O(\\kappa \\log \\kappa / \\epsilon)$ za $p = 1, 2$."
   ]
  },
  {
   "cell_type": "markdown",
   "id": "b4ade72a-9c42-4483-9ce1-c092a82a839a",
   "metadata": {},
   "source": [
    "### AQC(exp)"
   ]
  },
  {
   "cell_type": "markdown",
   "id": "06c7fadc-0e94-46a2-92c0-4d79d8df382f",
   "metadata": {},
   "source": [
    "U ovom slučaju, vreme se opisuje funkcijom:\n",
    "\\begin{align*}\n",
    "    f(s) = c_e^{-1} \\int_{0}^{s} \\exp \\left(-\\frac{1}{x (1 - x)}\\right) dx,\n",
    "\\end{align*} gde je $c_e = \\int_{0}^{1} \\exp \\left(-\\frac{1}{x (1 - x)}\\right) dx$ konstanta normalizacije tako da $f(1) = 1$.\n",
    "\n",
    "U ovom slučaju, bira se konstanta $T = O(\\kappa \\log^2 \\kappa \\log^4 (\\log \\kappa / \\epsilon))$."
   ]
  },
  {
   "cell_type": "markdown",
   "id": "bf10d0de-a034-4e8c-a05d-e38e31ed34ec",
   "metadata": {},
   "source": [
    "### Vremenska evolucija"
   ]
  },
  {
   "cell_type": "markdown",
   "id": "e718b506-cf2d-4a0c-a37c-d2729ff1b079",
   "metadata": {},
   "source": [
    "Nakon što smo izabrali $T$, sada koristimo Suzuki-Troterovu formulu za simulaciju vremenske evolucije sistema. U oba slučaja se koristi isti operator:\n",
    "\\begin{align*}\n",
    "    \\prod_{m = 1}^{M} exp(-i T h (1 - f(s_m)) H_0) exp(-i T h f(s_m) H_1),\n",
    "\\end{align*} gde je $h = 1 / M$, a $s_m = m h$ i $M = O(\\text{polylog}(N) T^2 / \\epsilon)$."
   ]
  },
  {
   "cell_type": "markdown",
   "id": "3e7b0e63-2dfe-4685-8f29-3771636689c1",
   "metadata": {},
   "source": [
    "### QAOA"
   ]
  },
  {
   "cell_type": "markdown",
   "id": "964ebed6-3f30-4e75-808b-1dfd9dcb156b",
   "metadata": {},
   "source": [
    "Autori su koristili Hamiltonijan $H_0$ kao mikser, a Hamiltonijan $H_1$ kao Hamiltonijan cene. Oni tvrde da se dobra aproksimacija može naći optimizacijom parametara $\\beta_i$ i $\\gamma_i$, za $1 \\leq i \\leq k$, gde je $k$ broj slojeva u pretpostavljenom rešenju:\n",
    "\\begin{align*}\n",
    "    e^{- i \\gamma_k H_1} e^{-i \\beta_k H_0} \\ldots e^{-i \\gamma_1 H_1} e^{-i \\beta_1 H_0} \\ket{\\psi_0}.\n",
    "\\end{align*}\n",
    "\n",
    "Parametri se optimizuju tako da je vrednost $\\bra{\\psi(\\gamma, \\beta)} H_1^2 \\ket{\\psi(\\gamma, \\beta)}$ minimalna. Optimizacija se izvršava sve dok je trenutna vrednost minimuma veća ili jednaka od $\\epsilon^2 / \\kappa^2$. Za optimizaciju se mogu koristiti klasični algoritmi, kao što su **COBYLA**, gradijentni spust, algoritam Neldera i Mida (eng. Nelder-Mead).\n",
    "\n",
    "Rešenje koje se dobije ovim putem predstavlja vektor $\\ket{x''}$."
   ]
  },
  {
   "cell_type": "markdown",
   "id": "66a4ac81-5213-4cd8-bea4-8a8f83dd1f6a",
   "metadata": {},
   "source": [
    "### Određivanje kondicione vrednosti"
   ]
  },
  {
   "cell_type": "markdown",
   "id": "7f6cdf51-af87-4b9b-ba2d-30a05ed71b4f",
   "metadata": {},
   "source": [
    "Bitna stavka prva dva algoritma je kondiciona vrednost matrice $A$. Trenutno ne postoje efikasni algoritmi na kvantnom računaru za izračunavanje ove vrednosti. Za izračunavanje $\\max\\{|\\lambda|\\}$ je moguće koristiti algoritam VQE, ali izračunavanje $\\min\\{|\\lambda|\\}$ je teško. Postoje gornja ograničenja na kondicioni broj koja zahtevaju da se izračunaju determinanta i Frobeniusova norma matrice $A$. Izračunavanje determinante isto nije lak zadatak - na klasičnom računaru zahteva $O(n^3)$ koraka. "
   ]
  },
  {
   "cell_type": "code",
   "execution_count": null,
   "id": "fd6a3c10-a241-47cd-8422-30bc022753f9",
   "metadata": {},
   "outputs": [],
   "source": []
  }
 ],
 "metadata": {
  "kernelspec": {
   "display_name": "Python 3 (ipykernel)",
   "language": "python",
   "name": "python3"
  },
  "language_info": {
   "codemirror_mode": {
    "name": "ipython",
    "version": 3
   },
   "file_extension": ".py",
   "mimetype": "text/x-python",
   "name": "python",
   "nbconvert_exporter": "python",
   "pygments_lexer": "ipython3",
   "version": "3.12.3"
  }
 },
 "nbformat": 4,
 "nbformat_minor": 5
}
