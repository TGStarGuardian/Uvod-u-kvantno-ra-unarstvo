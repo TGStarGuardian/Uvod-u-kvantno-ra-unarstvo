{
 "cells": [
  {
   "cell_type": "markdown",
   "id": "5e2e7a5c-e862-49ae-9d1b-31dbd89a8260",
   "metadata": {},
   "source": [
    "# QAOA rešavač linearnih jednačina"
   ]
  },
  {
   "cell_type": "markdown",
   "id": "8d99fd5c-275a-48ea-9367-1205e5b9b512",
   "metadata": {},
   "source": [
    "Videli smo da je jedan od problema algoritma $AQC(p)$ što zahteva veliki broj kvantnih kola. Ovde ćemo pokazati algoritam koji može da poboljša ovo tako što će sa relativno malo kola da se približi rešenju linearne jednačine."
   ]
  },
  {
   "cell_type": "code",
   "execution_count": 1,
   "id": "9d114310-a704-4ac7-ad05-dca58a90c69c",
   "metadata": {},
   "outputs": [],
   "source": [
    "import scipy.sparse as sparse\n",
    "import numpy as np\n",
    "from math import sqrt\n",
    "from scipy.optimize import minimize\n",
    "from qiskit.circuit.library import QAOAAnsatz\n",
    "from qiskit.quantum_info import SparsePauliOp\n",
    "from qiskit.circuit.library import StatePreparation\n",
    "from qiskit.circuit import QuantumCircuit\n",
    "from math import log2\n",
    "from qiskit.transpiler.preset_passmanagers import generate_preset_pass_manager\n",
    "from qiskit_ibm_runtime import QiskitRuntimeService\n",
    "from qiskit_ibm_runtime import Session, EstimatorV2 as Estimator\n",
    "from qiskit_ibm_runtime import SamplerV2 as Sampler\n",
    "\n",
    "rows, cols = 4, 4\n",
    "density = 0.5\n",
    "\n",
    "R = sparse.random(rows, cols, density=density, format='csr', dtype=np.float64)\n",
    "A = R.T @ R + sparse.diags(np.ones(cols) * 10, format='csr')\n",
    "A = A.toarray()\n",
    "\n",
    "b = np.random.rand(cols)\n",
    "c = sqrt(sum(b*b))\n",
    "b = 1/c * b\n",
    "\n",
    "X = np.array([[0.0, 1.0], [1.0, 0.0]])\n",
    "Y = np.array([[0.0, -1.0j], [1.0j, 0.0]])\n",
    "Z = np.array([[1.0, 0.0], [0.0, -1.0]])\n",
    "\n",
    "Op, Om = 1/2.0 * (X + 1.0j * Y), 1/2.0 * (X - 1.0j * Y)\n",
    "\n",
    "A1 = np.kron(Op, A) + np.kron(Om, A.conj().T)\n",
    "b1 = np.kron(np.array([0, 1]), b)\n",
    "N = 2*cols\n",
    "\n",
    "plus = 1/sqrt(2.0) * np.array([1, 1])\n",
    "Plus = plus.reshape(-1, 1) @ plus.reshape(1, 2)\n",
    "minus = 1/sqrt(2.0) * np.array([1, -1])\n",
    "B1 = b1.reshape(-1, 1) @ b1.reshape(1, N)\n",
    "\n",
    "Qb = np.eye(2*N) - np.kron(Plus, B1)\n",
    "H0 = np.kron(Op, np.kron(Z, np.eye(N)) @ Qb) + np.kron(Om, Qb @ np.kron(Z, np.eye(N)))\n",
    "H1 = np.kron(Op, np.kron(X, A1) @ Qb) + np.kron(Om, Qb @ np.kron(X, A1))"
   ]
  },
  {
   "cell_type": "markdown",
   "id": "cc07c470-36fc-4862-8034-70d684144b4c",
   "metadata": {},
   "source": [
    "Kao i u $AQC(p)$, generisali smo matricu $A$, vektor $b$, transformisali matricu u ermitsku matricu $A1$, transformisali vektor $\\ket{b}$ u $\\ket{1}\\ket{b}$ i izgradili smo Hamiltonijane $H_0$ i $H_1$. Sada preskačemo određivanje kondicione vrednosti i konstantni $T$ i $M$ iz algoritma $AQC(p)$, već odmah prelazimo na konstrukciju kvantnog kola gde je $M = 2$. To kvantno kolo će biti oblika:\n",
    "\\begin{align*}\n",
    "    e^{-i \\gamma_M H_1} e^{-i \\beta_M H_0} \\ldots e^{-i \\gamma_1 H_1} e^{-i \\beta_1 H_0} \\ket{\\psi_0},\n",
    "\\end{align*} gde su parametri $\\gamma_i$, $\\beta_i$ neke konstante koje ćemo odrediti kasnije."
   ]
  },
  {
   "cell_type": "code",
   "execution_count": 2,
   "id": "ade7c887-49d3-4198-b2cf-d915c1990d20",
   "metadata": {},
   "outputs": [],
   "source": [
    "n = int(log2(H0.shape[0]))\n",
    "\n",
    "prepare_b = QuantumCircuit(n)\n",
    "initial_state = np.kron(np.array([1, 0]), np.kron(minus, b1))\n",
    "stateprep = StatePreparation(initial_state)\n",
    "prepare_b.append(stateprep, range(n))\n",
    "\n",
    "h0, h1 = SparsePauliOp.from_operator(H0), SparsePauliOp.from_operator(H1)\n",
    "\n",
    "M = 2\n",
    "\n",
    "circuit = QAOAAnsatz(cost_operator = h1, initial_state = prepare_b, mixer_operator = h0, reps = M)"
   ]
  },
  {
   "cell_type": "markdown",
   "id": "b0fefd45-ab7c-4ea6-a5a4-4acc0e33e63f",
   "metadata": {},
   "source": [
    "**Qiskit** klasa **QAOAAnsatz** radi sav ovaj posao za nas. Naše je bilo samo da zadamo dubinu kola ($20$), Hamiltonijane $H_0$ i $H_1$. Ovde je $H_1$ **cost_operator**, a $H_0$ **mixer_operator**. Takođe, inicijalizovali smo kvantno kolo koje priprema stanje $\\ket{-}\\ket{0}\\ket{b'}$ i dodali ga na početak kvantnog kola."
   ]
  },
  {
   "cell_type": "markdown",
   "id": "ca84c658-ba40-44e3-a2c2-33df01295cd6",
   "metadata": {},
   "source": [
    "Sad je potrebno naći optimalne vrednosti parametara, odnosno one koji minimizuju $\\bra{\\psi(\\gamma, \\beta)} H_1^2 \\ket{\\psi(\\gamma, \\beta)}$."
   ]
  },
  {
   "cell_type": "code",
   "execution_count": 3,
   "id": "3ac3fd3a-5f73-4198-ae29-3f7d6c34cdfc",
   "metadata": {},
   "outputs": [],
   "source": [
    "h1_squared = h1 @ h1"
   ]
  },
  {
   "cell_type": "code",
   "execution_count": 4,
   "id": "c1298c3d-e914-4953-a52d-749cd79d13e0",
   "metadata": {},
   "outputs": [],
   "source": [
    "service = QiskitRuntimeService(channel = 'local')\n",
    "backend = service.least_busy()\n",
    "\n",
    "# Create pass manager for transpilation\n",
    "pm = generate_preset_pass_manager(optimization_level=3, backend=backend)\n",
    " \n",
    "candidate_circuit = pm.run(circuit)"
   ]
  },
  {
   "cell_type": "code",
   "execution_count": 5,
   "id": "8bcb0726-3e90-4f99-ae47-b96e46e18be4",
   "metadata": {},
   "outputs": [],
   "source": [
    "initial_gamma = np.pi\n",
    "initial_beta = np.pi / 2\n",
    "\n",
    "init_params = [initial_beta for i in range(M)] + [initial_gamma for i in range(M)]"
   ]
  },
  {
   "cell_type": "markdown",
   "id": "6f034759-2ba4-44c4-aff4-344cdb8a3ebd",
   "metadata": {},
   "source": [
    "Definišemo funkciju cene. Funkcija je slična onoj koju smo koristili za VQE."
   ]
  },
  {
   "cell_type": "code",
   "execution_count": 6,
   "id": "33472448-a71f-454d-b869-2233919c4be7",
   "metadata": {},
   "outputs": [],
   "source": [
    "hamiltonian_isa = h1.apply_layout(candidate_circuit.layout)\n",
    "\n",
    "def cost_func_estimator(params, ansatz, hamiltonian, estimator):\n",
    " \n",
    "    pub = (ansatz, hamiltonian, params)\n",
    "    job = estimator.run([pub])\n",
    " \n",
    "    results = job.result()[0]\n",
    "    cost = results.data.evs\n",
    " \n",
    "    objective_func_vals.append(cost)\n",
    " \n",
    "    return cost"
   ]
  },
  {
   "cell_type": "markdown",
   "id": "c68f2817-3e05-478d-9706-ab35f9629f92",
   "metadata": {},
   "source": [
    "Sad sve što treba uraditi je da se proslede odgovarajući argumenti optimizatoru i da se zadatak izvrši."
   ]
  },
  {
   "cell_type": "code",
   "execution_count": 7,
   "id": "864095b8-a8e3-4bc3-b3ed-5e8929575a57",
   "metadata": {},
   "outputs": [
    {
     "name": "stdout",
     "output_type": "stream",
     "text": [
      "\n",
      "   Normal return from subroutine COBYLA\n",
      "\n",
      "   NFVALS =   43   F = 8.259875E-01    MAXCV = 0.000000E+00\n",
      "   X = 1.427210E+00   1.178988E+00   2.785751E+00   2.305426E+00\n"
     ]
    }
   ],
   "source": [
    "objective_func_vals = []\n",
    "\n",
    "with Session(backend=backend) as session:\n",
    "    \n",
    "    estimator = Estimator(mode=session)\n",
    "    estimator.options.default_shots = 100\n",
    " \n",
    "    res = minimize(\n",
    "        cost_func_estimator,\n",
    "        init_params,\n",
    "        args = (candidate_circuit, hamiltonian_isa, estimator),\n",
    "        method = 'cobyla',\n",
    "        options = {'maxiter' : 200, 'disp' : 1}\n",
    "    )"
   ]
  },
  {
   "cell_type": "code",
   "execution_count": 8,
   "id": "55a860a3-fd97-4097-8c7a-d80d53910c6f",
   "metadata": {
    "scrolled": true
   },
   "outputs": [
    {
     "data": {
      "text/plain": [
       " message: Optimization terminated successfully.\n",
       " success: True\n",
       "  status: 1\n",
       "     fun: 0.8259875302886626\n",
       "       x: [ 1.427e+00  1.179e+00  2.786e+00  2.305e+00]\n",
       "    nfev: 43\n",
       "   maxcv: 0.0"
      ]
     },
     "execution_count": 8,
     "metadata": {},
     "output_type": "execute_result"
    }
   ],
   "source": [
    "res"
   ]
  },
  {
   "cell_type": "markdown",
   "id": "96b30d6d-5838-49b8-b646-d58829989ac2",
   "metadata": {},
   "source": [
    "Uspelo je da iskonvergira. Kada se parametri ubace u ansatz, dobili smo aproksimaciju vektora $x''$."
   ]
  },
  {
   "cell_type": "code",
   "execution_count": null,
   "id": "9da7792a-c15f-49c6-81c6-a33600f88d5e",
   "metadata": {},
   "outputs": [],
   "source": []
  }
 ],
 "metadata": {
  "kernelspec": {
   "display_name": "Python 3 (ipykernel)",
   "language": "python",
   "name": "python3"
  },
  "language_info": {
   "codemirror_mode": {
    "name": "ipython",
    "version": 3
   },
   "file_extension": ".py",
   "mimetype": "text/x-python",
   "name": "python",
   "nbconvert_exporter": "python",
   "pygments_lexer": "ipython3",
   "version": "3.12.3"
  }
 },
 "nbformat": 4,
 "nbformat_minor": 5
}
