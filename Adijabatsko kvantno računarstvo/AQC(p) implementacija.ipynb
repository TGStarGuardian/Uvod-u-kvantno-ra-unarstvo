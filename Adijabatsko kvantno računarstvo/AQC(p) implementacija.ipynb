{
 "cells": [
  {
   "cell_type": "markdown",
   "id": "43747132-4558-4475-9145-43138af12684",
   "metadata": {},
   "source": [
    "# Implementacija algoritma $AQC(p)$"
   ]
  },
  {
   "cell_type": "markdown",
   "id": "6268c096-57f2-40ad-a0f1-0ce5885eb95b",
   "metadata": {},
   "source": [
    "Ovde ćemo prikazati kako se implementira prvi algoritam koji su predložili Dōng i Lín. Nasumično ćemo generisati retku matricu veličine $16 \\times 16$, a onda i vektor $b$ dužine $16$, nakon čega ćemo prikazati kako se rešava sistem jednačina $A x = b$."
   ]
  },
  {
   "cell_type": "code",
   "execution_count": 1,
   "id": "856e8fbf-5b74-4469-8593-9cd43c0545b7",
   "metadata": {},
   "outputs": [],
   "source": [
    "import scipy.sparse as sparse\n",
    "import numpy as np\n",
    "\n",
    "rows = 16\n",
    "cols = 16\n",
    "density = 0.1  # 10% non-zero elements\n",
    "\n",
    "R = sparse.random(rows, cols, density=density, format='csr', dtype=np.float64)\n",
    "A = R.T @ R + sparse.diags(np.ones(cols) * 10, format='csr')\n",
    "A = A.toarray()"
   ]
  },
  {
   "cell_type": "code",
   "execution_count": 2,
   "id": "cba9b5bd-b2c3-4b2f-a5ed-aad5a2ca9f0c",
   "metadata": {},
   "outputs": [],
   "source": [
    "from math import sqrt\n",
    "\n",
    "b = np.random.rand(cols)\n",
    "c = sqrt(sum(b*b))\n",
    "b = 1/c * b"
   ]
  },
  {
   "cell_type": "markdown",
   "id": "e1edd347-ad43-4b74-9e99-75c5de85979c",
   "metadata": {},
   "source": [
    "Matrica $A$ najverovatnije nije ermitska pozitivno definitna, pa koristimo recept koji su dali autori da se matrica $A$ najpre pretvori u ermitsku."
   ]
  },
  {
   "cell_type": "code",
   "execution_count": 3,
   "id": "3e7ac13c-a9f0-4451-822f-7c69e79df76c",
   "metadata": {},
   "outputs": [],
   "source": [
    "X = np.array([[0.0, 1.0], [1.0, 0.0]])\n",
    "Y = np.array([[0.0, -1.0j], [1.0j, 0.0]])\n",
    "Z = np.array([[1.0, 0.0], [0.0, -1.0]])\n",
    "\n",
    "Op, Om = 1/2.0 * (X + 1.0j * Y), 1/2.0 * (X - 1.0j * Y)"
   ]
  },
  {
   "cell_type": "code",
   "execution_count": 4,
   "id": "9aee2d08-73ae-49bc-9d87-7a6917d374bb",
   "metadata": {},
   "outputs": [],
   "source": [
    "A1 = np.kron(Op, A) + np.kron(Om, A.conj().T)\n",
    "b1 = np.kron(np.array([0, 1]), b)\n",
    "N = 2*cols"
   ]
  },
  {
   "cell_type": "markdown",
   "id": "28210fe5-c769-4368-b158-a4fbae80fb7a",
   "metadata": {},
   "source": [
    "Sada generišemo Hamiltonijane $H_0$ i $H_1$. Koristićemo proceduru za slučaj kada $A$ nije pozitivno definitna."
   ]
  },
  {
   "cell_type": "code",
   "execution_count": 5,
   "id": "44be13c6-1213-4a7b-a99a-9ddc80c31a3b",
   "metadata": {},
   "outputs": [],
   "source": [
    "plus = 1/sqrt(2.0) * np.array([1, 1])\n",
    "Plus = plus.reshape(-1, 1) @ plus.reshape(1, 2)\n",
    "minus = 1/sqrt(2.0) * np.array([1, -1])\n",
    "B1 = b1.reshape(-1, 1) @ b1.reshape(1, N)\n",
    "\n",
    "Qb = np.eye(2*N) - np.kron(Plus, B1)\n",
    "H0 = np.kron(Op, np.kron(Z, np.eye(N)) @ Qb) + np.kron(Om, Qb @ np.kron(Z, np.eye(N)))\n",
    "H1 = np.kron(Op, np.kron(X, A1) @ Qb) + np.kron(Om, Qb @ np.kron(X, A1))"
   ]
  },
  {
   "cell_type": "markdown",
   "id": "3caa73e5-a1fb-482d-bc74-b3abae4c7385",
   "metadata": {},
   "source": [
    "Proverimo da je sve dobro tako što ćemo ubaciti sopstvene vrednosti uz $0$ od $H_0$."
   ]
  },
  {
   "cell_type": "code",
   "execution_count": 6,
   "id": "520e7a29-8437-4dbf-8989-fc3622e31733",
   "metadata": {},
   "outputs": [],
   "source": [
    "#print(H0 @ np.kron(np.kron(np.array([0, 1]), plus), b1).reshape(-1, 1))\n",
    "#print(H0 @ np.kron(np.kron(np.array([1, 0]), minus), b1).reshape(-1, 1))"
   ]
  },
  {
   "cell_type": "markdown",
   "id": "9bc769bc-46fb-4b31-82b3-ccc1b4fe59d5",
   "metadata": {},
   "source": [
    "Sve je tu negde na oko $10^{-16}$. To je verovatno zbog preciznosti računanja sa **float** promenljivama na računaru. Deluje da je ovo sve u redu."
   ]
  },
  {
   "cell_type": "markdown",
   "id": "0163ee8d-bf47-4f7d-9805-b432036c8a62",
   "metadata": {},
   "source": [
    "Sada je potrebno definisati funkciju za protok vremena. Ona zavisi od kondicionog broja matrice $A1$. Pravićemo se da imamo efikasan algoritam za ovo i pustićemo **numpy** da izračuna ovo za nas."
   ]
  },
  {
   "cell_type": "code",
   "execution_count": 7,
   "id": "fbb33bb3-eb4c-4286-aca6-9401d0808316",
   "metadata": {},
   "outputs": [
    {
     "data": {
      "text/plain": [
       "1.206804173308867"
      ]
     },
     "execution_count": 7,
     "metadata": {},
     "output_type": "execute_result"
    }
   ],
   "source": [
    "import numpy.linalg as la\n",
    "\n",
    "kappa = la.cond(A1)\n",
    "kappa"
   ]
  },
  {
   "cell_type": "markdown",
   "id": "470580bb-b0fe-404a-9283-6bf37cf78f95",
   "metadata": {},
   "source": [
    "Sada imamo kondicioni broj i možemo definisati funkciju vremena."
   ]
  },
  {
   "cell_type": "code",
   "execution_count": 8,
   "id": "9c5328e4-8dc2-49e9-9a59-fdb4e3c9c5f0",
   "metadata": {},
   "outputs": [],
   "source": [
    "def time_function(kappa, s, p):\n",
    "    return kappa/(kappa - 1) * (1 - (1 + s*(kappa**(p - 1) - 1))**(1/(1 - p)))"
   ]
  },
  {
   "cell_type": "markdown",
   "id": "923cab6f-6567-4e08-b5f8-0bf2a025d970",
   "metadata": {},
   "source": [
    "Za parametar $p$ ćemo uzeti $0.5$. Sada biramo $T = O(\\kappa / \\epsilon)$. Neka to bude $T = \\kappa / \\epsilon$, a za $\\epsilon = 1/10$."
   ]
  },
  {
   "cell_type": "code",
   "execution_count": 9,
   "id": "6daea540-b93b-445f-81bc-02777c650aeb",
   "metadata": {},
   "outputs": [
    {
     "data": {
      "text/plain": [
       "12.06804173308867"
      ]
     },
     "execution_count": 9,
     "metadata": {},
     "output_type": "execute_result"
    }
   ],
   "source": [
    "epsilon = 1.0/10.0\n",
    "T = kappa / epsilon\n",
    "\n",
    "T"
   ]
  },
  {
   "cell_type": "markdown",
   "id": "00b2e9e8-4e4b-4d2c-b17d-f94db3a97717",
   "metadata": {},
   "source": [
    "Ostaje samo da se izabere parametar $M$ koji određuje koliko ćemo imati operatora vremenske evolucije. On se bira tako da bude $M = O(\\text{polylog}(N) T^2 / \\epsilon)$. Postavićemo ga na $20$, jer nemamo dovoljno jaku mašinu da simulira kvantni računar sa toliko mnogo kvantnih kola. Naime, prava vrednost bi ovde bila preko $1000$."
   ]
  },
  {
   "cell_type": "code",
   "execution_count": 10,
   "id": "383b4464-a869-4aaa-8c7a-f77497164ed6",
   "metadata": {},
   "outputs": [],
   "source": [
    "M = 20"
   ]
  },
  {
   "cell_type": "markdown",
   "id": "b6793ff8-f67e-4931-9cbf-6cf5593e5b71",
   "metadata": {},
   "source": [
    "Broj kubita je $\\log_2$ od veličine matrice $H_0$. U ovom slučaju je to $7$. Sada pravimo kvantno kolo koje će opisati vremensku evoluciju. Na to kvantno kolo najpre treba inicijalizovati $\\ket{0} \\ket{-} \\ket{b_1}$."
   ]
  },
  {
   "cell_type": "code",
   "execution_count": 11,
   "id": "ac2f4cce-05bc-4bc9-a7db-e77e46ae745a",
   "metadata": {},
   "outputs": [],
   "source": [
    "from qiskit.circuit import QuantumCircuit\n",
    "from math import log2\n",
    "from qiskit.circuit.library import PauliEvolutionGate\n",
    "from qiskit.circuit.library import StatePreparation\n",
    "from qiskit.quantum_info import SparsePauliOp\n",
    "\n",
    "# predstavljamo H0 i H1 u SparsePauliOp\n",
    "\n",
    "h0, h1 = SparsePauliOp.from_operator(H0), SparsePauliOp.from_operator(H1)\n",
    "n = int(log2(H0.shape[0]))\n",
    "\n",
    "time_evolution = QuantumCircuit(n)\n",
    "\n",
    "initial_state = np.kron(np.array([1, 0]), np.kron(minus, b1))\n",
    "stateprep = StatePreparation(initial_state)\n",
    "time_evolution.append(stateprep, range(n))\n",
    "\n",
    "h = 1.0/M\n",
    "\n",
    "for i in reversed(range(1, M + 1)):\n",
    "    si = i*h\n",
    "    time_evolution.append(PauliEvolutionGate(h1, time = T * time_function(kappa, si, 0.5) * h), range(n))\n",
    "    time_evolution.append(PauliEvolutionGate(h0, time = T * (1 - time_function(kappa, si, 0.5)) * h), range(n))"
   ]
  },
  {
   "cell_type": "markdown",
   "id": "c118073a-2c50-42c2-b327-a4fad49c4ddd",
   "metadata": {},
   "source": []
  }
 ],
 "metadata": {
  "kernelspec": {
   "display_name": "Python 3 (ipykernel)",
   "language": "python",
   "name": "python3"
  },
  "language_info": {
   "codemirror_mode": {
    "name": "ipython",
    "version": 3
   },
   "file_extension": ".py",
   "mimetype": "text/x-python",
   "name": "python",
   "nbconvert_exporter": "python",
   "pygments_lexer": "ipython3",
   "version": "3.12.3"
  }
 },
 "nbformat": 4,
 "nbformat_minor": 5
}
