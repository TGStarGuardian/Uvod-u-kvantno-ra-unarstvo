{
 "cells": [
  {
   "cell_type": "markdown",
   "id": "101053fc-00ae-4d34-a437-41e696e42820",
   "metadata": {},
   "source": [
    "# Kvantni algoritmi za aproksimativnu optimizaciju (QAOA)"
   ]
  },
  {
   "cell_type": "markdown",
   "id": "47fab9af-66c9-4be6-8514-26e0313340bf",
   "metadata": {},
   "source": [
    "Jedna bitna klasa kvantnih algoritama su QAOA algoritmi. Ovde ćemo dati teorijske osnove ovakvih algoritama.\n",
    "\n",
    "Glavni problem koji QAOA rešava je nalaženje minimuma neke funkcije $C$ koja zavisi od instance nekog problema. Na primer, problem može biti nalaženje najkraćeg puta između dve tačke u gradu, instanca problema taj grad, a funkcija koju želimo da minimizujemo je $C(\\pi_{A, B}) = \\text{length}(\\pi_{A, B})$, gde je $\\pi_{A, B}$ neki put od tačke $A$ do tačke $B$.\n",
    "\n",
    "Ovakve probleme je često jako teško rešiti egzaktno i zato postoje neke aproksimativne šeme koje nam daju garanciju da naše rešenje, koje nalazimo za dosta manje vremena, neće biti mnogo gore od onog koje je zapravo najbolje. Formalno, neka je $m$ minimum funkcije $C$, a $m'$ vrednost koju smo mi dobili. Uvodimo konstantu $\\alpha$ takvu da je:\n",
    "\\begin{align*}\n",
    "    m' \\leq \\alpha m,\n",
    "\\end{align*} za sve instance problema.\n",
    "\n",
    "Koliko je dobra aproksimacija se procenjuje na osnovu toga koliko je $\\alpha$ blizu $1$.\n",
    "\n",
    "QAOA se često naziva diskretizovanim adijabatskim računanjem. Osnovna ideja algoritma je da pretvori funkciju cene u neku ermitsku matricu koju zovemo *Hamiltonijan cene*, ili samo *Hamiltonijan*. Obično se to realizuje mapiranjem u težinsku sumu Paulijevih stringova, što olakšava dalje računanje. Za ovaj Hamiltonijan je potrebno da važi da neka sopstvena vrednost (poznato nam je koja po redu) odgovara minimumu funkcije $C$. Nakon toga, definiše se drugi Hamiltonijan, koji se zove *mikser Hamiltonijan*, ili samo *mikser*, čija je odgovarajuća sopstvena vrednost laka za računanje i čiji sopstveni vektor možemo lako da instanciramo na kvantnom računaru. Adijabatskim računanjem bismo sada instancirali taj vektor u mikseru, pa bismo ga *napadali* operatorima evolucije, dok ne dođe do sopstvenog vektora od Hamiltonijana cene koji odgovara minimumu funkcije. QAOA to radi malo drugačije: definiše se ansatz, kao što se radi u algoritmu VQE, a zatim se njegovi parametri poboljšavaju dok se dobije najbolji opis vremenske evolucije koji će prevesti mikserovo stanje u stanje minimuma.\n",
    "\n",
    "Sumirajmo korake:\n",
    "1. transformiši funkciju $C$ u ermitsku matricu $H_1$ (Hamiltonijan cene) takvu da je neka (najčešće najmanja) sopstvena vrednost te matrice minimum funkcije $C$\n",
    "2. konstruiši ermitsku matricu $H_0$ (mikser Hamiltonijan) čija je odgovarajuća (najčešće najmanja) sopstvena vrednost laka za računanje i odgovarajući sopstveni vektor može brzo da se instancira na kvantnom računaru;\n",
    "3. konstruiši ansatz, parametrizovano kvantno kolo koje opisuje evoluciju sistema iz $H_0$ u $H_1$;\n",
    "4. izaberi funkciju $F$ koju ćeš minimizovati: najčešće je to neka funkcija koja meri grešku aproksimacije kada se ansatz primeni na sopstveni vektor miksera; ta funkcija će nam reći koliko smo blizu stanju koje tražimo;\n",
    "5. izaberi omiljeni algoritam optimizacije;\n",
    "6. izaberi početne parametre za ansatz\n",
    "7. u petlji, dok optimizator ne reši da stane:\n",
    "   1. koristi ansatz i parametre da sračunaš $F$\n",
    "   2. na osnovu vrednosti $F$, odredi nove parametre za ansatz\n",
    "8. na osnovu parametara koje dobiješ na kraju optimizacije, sračunaj vrednost ansatza tu i nađi odgovarajuću sopstvenu vrednost matrice $H_1$, odnosno minimum funkcije $C$."
   ]
  },
  {
   "cell_type": "markdown",
   "id": "97a584ee-e084-4d04-a3a2-e8919fba8f15",
   "metadata": {},
   "source": [
    "## Primer:"
   ]
  },
  {
   "cell_type": "markdown",
   "id": "fa6aa8bc-ec9f-4280-ae5f-9bc843cecce0",
   "metadata": {},
   "source": [
    "Data je funkcija $f(x) = x^T Q x$ za vektor $x$ dužine $n$ i simetričnu matricu $Q$ $n \\times n$.\n",
    "\n",
    "Smenom promenljivih $x_i = \\frac{1 - z_i}{2}$, dobijamo:\n",
    "\\begin{align*}\n",
    "    x^T Q x &= \\sum_{i = 1}^{n}\\sum_{j = 1}^{n} Q_{i,j} x_i x_j, \\\\\n",
    "            &= \\frac{1}{4} \\sum_{i = 1}^{n}\\sum_{j = 1}^{n} Q_{i, j}(1 - z_i)(1 - z_j), \\\\\n",
    "            &= \\frac{1}{4} \\sum_{i = 1}^{n}\\sum_{j = 1}^{n} Q_{i, j} z_i z_j - \\frac{1}{4} \\sum_{i = 1}^{n}\\sum_{j = 1}^{n} (Q_{i, j} + Q_{j, i}) z_i + \\frac{n^2}{4}.\n",
    "\\end{align*}\n",
    "\n",
    "Postavljanjem $b_i = \\sum{j = 1}^{n} (Q_{i, j} + Q_{j, i})$, dobijamo:\n",
    "\\begin{align*}\n",
    "    4 x^T Q x &= z^T Q z + b^T z + n^2.\n",
    "\\end{align*}\n",
    "\n",
    "Iz ovoga sledi da je dovoljno naći $\\min_{z_i \\in \\{-1, 1\\}}(z^T Q z + b^T z)$ da bi se odredio minimum funkcije $f$.\n",
    "\n",
    "Odgovarajući Hamiltonijan cene je ovde:\n",
    "\\begin{align*}\n",
    "    H_1 = \\sum_{i = 1}^{n} \\sum_{j = 0}^{n} Q_{i, j} Z_i Z_j + \\sum_{i = 1}^{n} b_i Z_i.\n",
    "\\end{align*}\n",
    "\n",
    "$Z_i$ ovde odgovara Paulijevom stringu $I \\otimes \\ldots \\otimes Z_i \\otimes \\ldots \\otimes I$.\n",
    "\n",
    "Najmanja sopstvena vrednost Hamiltonijana $H_1$ je minimum funkcije $g(z) = z^T Q z + b^T z$.\n",
    "\n",
    "Za mikser Hamiltonijan se može uzeti:\n",
    "\\begin{align*}\n",
    "    H_0 = \\sum_{i = 1}^{n} X_i.\n",
    "\\end{align*}\n",
    "\n",
    "Stanje koje odgovara najmanjoj sopstvenoj vrednosti u $H_0$ je $\\ket{\\psi_0} = H^{\\otimes n} \\ket{0}^{\\otimes n}$.\n",
    "\n",
    "Ansatz će nam biti:\n",
    "\\begin{align*}\n",
    "    \\ket{\\psi(\\theta)} = e^{- i \\gamma_p H_1} e^{-i \\beta_p H_0} \\ldots e^{-i \\gamma_1 H_1} e^{-i \\beta_1 H_0} \\ket{\\psi_0}.\n",
    "\\end{align*}, gde je parametar $p$ unapred izabran i on određuje dubinu ovog kvantnog kola. Parametar $\\theta$ je vektor parametara $\\gamma_i$ i $\\beta_i$.\n",
    "\n",
    "Funkcija koju minimizuje optimizator je $\\bra{\\psi(\\theta)} H_1 \\ket{\\psi(\\theta)}$, koja određuje vrednost najmanje sopstvene vrednosti Hamiltonijana $H_1$."
   ]
  },
  {
   "cell_type": "code",
   "execution_count": null,
   "id": "c3927e2a-5748-4791-b3ef-f2550ffe7820",
   "metadata": {},
   "outputs": [],
   "source": []
  }
 ],
 "metadata": {
  "kernelspec": {
   "display_name": "Python 3 (ipykernel)",
   "language": "python",
   "name": "python3"
  },
  "language_info": {
   "codemirror_mode": {
    "name": "ipython",
    "version": 3
   },
   "file_extension": ".py",
   "mimetype": "text/x-python",
   "name": "python",
   "nbconvert_exporter": "python",
   "pygments_lexer": "ipython3",
   "version": "3.12.3"
  }
 },
 "nbformat": 4,
 "nbformat_minor": 5
}
