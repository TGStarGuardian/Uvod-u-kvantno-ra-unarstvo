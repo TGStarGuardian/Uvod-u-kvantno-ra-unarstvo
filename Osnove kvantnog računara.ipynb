{
 "cells": [
  {
   "cell_type": "markdown",
   "id": "db6bd0d3-be6e-487e-87d6-fba904f0312d",
   "metadata": {},
   "source": [
    "$\\DeclarePairedDelimiter\\bra{\\langle}{\\rvert}$\n",
    "$\\DeclarePairedDelimiter\\ket{\\lvert}{\\rangle}$\n",
    "$\\DeclarePairedDelimiter\\braket{\\langle}{\\rangle}$\n",
    "$\\DeclarePairedDelimiter{\\innerprod}\\langle\\rangle$\n",
    "# Osnove kvantnog računara"
   ]
  },
  {
   "cell_type": "markdown",
   "id": "3c6d3820-a0d5-433c-8a78-fc7aa96b8760",
   "metadata": {},
   "source": [
    "Ključan pojam u oblasti računarstva je izračunavanje. Jedan od načina da se izračunavanje definiše je da je to *proces* kojim se od nekog *početnog stanja*, primenom nekog *postupka*, dolazi do nekog *završnog stanja*. Na primer, početno stanje može biti par brojeva $(5, 1)$, a primenom operacije $+$ se dolazi do stanja $6$. Na ovaj način možemo videti vezu između fizike i računarstva - fizika se isto bavi promenom fizičkih svojstava čestica i tela pod dejstvom fizičkih procesa. Fizičke zakone možemo posmatrati kao ograničenja nad stanjima, a fizičke procese kao postupke koji definišu promenu stanja. Primenom fizičkih procesa, možemo usmeravati izračunavanje i postići željene rezultate.\n",
    "\n",
    "Za potrebe izračunavanja, možemo čestice i stanja interpretirati pomoću neke algebarske strukture, fizičke zakone kao aksiome te strukture, a fizičke procese kao operacije koje se primenjuju u toj algebarskoj strukturi. Na taj način, odbacujemo informacije koje nam nisu od suštinskog značaja i možemo lakše da opisujemo algoritme kojima rešavamo neke matematičke probleme. Na primer, Bulova algebra je osnova klasičnog računara, a ona je apstrahovani model zasnovan na zakonima elektriciteta. Klasičan računar i revolucija koju je on doneo je služio kao podsticaj naučnicima da pokušaju na sličan način da oblikuju zakone kvantne fizike i definišu model izračunavanja koji će koristiti te zakone u računske svrhe.\n",
    "\n",
    "U ovom poglavlju i njegovim potpoglavljima opisujemo teorijske osnove rada kvantnih računara. U kasnijim poglavljima ćemo opisati kvantne algoritme i uporediti ih sa algoritmima koji rešavaju iste ili slične probleme na klasičnom računaru. Ovde je bitno spomenuti da kvantni računar rešava isti skup problema koji rešava i klasični računar, što znači da se kvantnim računarom ne mogu rešiti problemi koji se ne mogu rešiti na klasičnom računaru i obrnuto. Razlike dolaze u složenosti algoritama, kao što ćemo se uveriti u narednim poglavljima."
   ]
  },
  {
   "cell_type": "markdown",
   "id": "31a9223f-af0b-44cc-a651-cd7c198c6628",
   "metadata": {},
   "source": [
    "## Kubit"
   ]
  },
  {
   "cell_type": "markdown",
   "id": "aeb477db-9452-49dc-a9b7-d6d2abbe47da",
   "metadata": {},
   "source": [
    "U klasičnim računarima, osnovna jedinica informacije je *bit*, polje koje skladišti $0$ ili $1$. Za $0$ i $1$ se kaže da su *stanja* u kojima se nalazi bit.\n",
    "Analogno tome se može definisati *kubit*, osnovna jedinica informacije u kvantnom računaru."
   ]
  },
  {
   "cell_type": "markdown",
   "id": "1568a0a7-b43c-4ca0-97cd-c622cacd3116",
   "metadata": {},
   "source": [
    "#### Definicija kubita:\n",
    "Neka je dat Hilbertov prostor $\\mathcal{H}$ dimenzije $N$ i neka je data njegova ortonormirana baza $\\ket{0}, \\ldots, \\ket{N - 1}$. Bazni vektori $\\ket{i}$ se nazivaju *stanja* kvantnog sistema. *Kubit* je bilo koji jedinični vektor $\\ket{v} \\in \\mathcal{H}$."
   ]
  },
  {
   "cell_type": "markdown",
   "id": "2c6c51f7-dd52-4049-980d-ba6b6c94b3cd",
   "metadata": {},
   "source": [
    "Najčešće se uzima da je $N = 2$, Hilbertov prostor $\\mathbb{C}^2$ i bazni vektori se obeležavaju sa $\\ket{0} = (1, 0)^T$ i $\\ket{1} = (0, 1)^T$. Ovde možemo videti analogiju sa klasičnim računarom: kubiti $\\ket{0}$ i $\\ket{1}$ liče na bitove $0$ i $1$ u klasičnom računaru. Slučaj kada je $N > 2$ je analogan slučaju Tjuringove mašine nad alfabetom sa više od dva elementa, odnosno u tom slučaju bit može da se nađe u $N$ različitih stanja.\n",
    "\n",
    "U daljem tekstu ćemo podrazumevati da je reč o Hilbertovom prostoru $\\mathbb{C}^2$, ako nije drugačije navedeno. Taj slučaj je od centralne važnosti u kvanntom računarstvu, budući da se u svim velikim kvantnim sistemima kubiti realizuju kao vektori u prostoru $\\mathbb{C}^2."
   ]
  },
  {
   "cell_type": "markdown",
   "id": "c8f36533-45cf-4938-a00a-f8508583e4ee",
   "metadata": {},
   "source": [
    "#### Primer:\n",
    "Bazni vektori $\\ket{0}$ i $\\ket{1}$ su kubiti. Bilo koji drugi jedinični vektor $\\ket{v}$ je takođe kubit."
   ]
  },
  {
   "cell_type": "markdown",
   "id": "8fc60f71-f1bc-44c3-8b72-7d40378700e8",
   "metadata": {},
   "source": [
    "Svaki vektor je moguće predstaviti kao linearnu kombinaciju baznih vektora, pa je tako:\n",
    "\\begin{align*}\n",
    "    \\ket{v} = a_0 \\ket{0} + \\ldots + a_{N - 1} \\ket{N - 1},\n",
    "\\end{align*} za $a_0, \\ldots, a_{N - 1} \\in \\mathbb{C}$ i $||a_0||^2 + \\ldots + ||a_{N - 1}||^2 = 1$.\n",
    "\n",
    "Na osnovu ovog rastavljanja na bazne vektore, za kubit se može reći da se istovremeno nalazi u više različitih stanja, gde norme koeficijenata određuju koliko se nalazi u kom stanju. Ovo će detaljnije biti objašnjeno u poglavlju o kvantnom merenju. Primetimo da ekvivalent za ovako nešto ne postoji na klasičnom računaru: svaki bit informacije se nalazi isključivo u stanju $0$ ili u stanju $1$; mešanje stanja nije moguće, odnosno nije moguće reći da je bit $\\frac{2}{3}$ u stanju $0$, a $\\frac{1}{3}$ u stanju 1.\n",
    "\n",
    "Možemo takođe primetiti da je broj različitih kubita u $\\mathbb{C}^2$ beskonačan (svakoj kombinaciji skalara $a_0, \\ldots, a_{N - 1}$ odgovara jedan kubit, a tih kombinacija ima beskonačno mnogo), dok je na klasičnom računaru broj bitova samo dva."
   ]
  },
  {
   "cell_type": "markdown",
   "id": "11859682-e8ef-438a-964a-274b31d7475b",
   "metadata": {},
   "source": [
    "#### Važni kubiti:\n",
    "\\begin{align*}\n",
    "    & \\ket{0} \\\\\n",
    "    & \\ket{1} \\\\\n",
    "    & \\ket{+} = \\frac{1}{\\sqrt{2}} \\ket{0} + \\frac{1}{\\sqrt{2}} \\ket{1} \\\\\n",
    "    & \\ket{-} = \\frac{1}{\\sqrt{2}} \\ket{0} - \\frac{1}{\\sqrt{2}} \\ket{1}.\n",
    "\\end{align*}\n",
    "\n",
    "Primetimo da je $\\{ \\ket{+}, \\ket{-} \\}$ ortonormirana baza Hilbertovog prostora $\\mathbb{C}^2$. Ova baza je poznata pod nazivom *Adamarova* baza (eng. *Hadamard basis*)."
   ]
  },
  {
   "cell_type": "markdown",
   "id": "ac2b1c49-e1d9-41cd-9cbf-2524cf5632c5",
   "metadata": {},
   "source": [
    "### Q# i kubiti\n",
    "Pošto smo utvrdili šta je kubit, bilo bi dobro da pokažemo sada kako se on predstavlja u jeziku **Q#**.\n",
    "Glavni programski jezik u Jupyter-u je Python. Na svu sreću, postoji biblioteka **qsharp** u Python-u koja nam omogućava da pokrećemo Q# kodove. Na taj način možemo kombinovati operacije iz standardnog jezika Python, koje se izvršavaju na klasičnom računaru, sa operacijama iz jezika Q# koje se većinski izvršavaju na kvantnom računaru.\n",
    "Sam jezik Q# je sadrži elemente i operacije klasičnog i kvantnog računarstva, pa je moguće sve kodove napisati i u njemu, bez pozivanja drugih Python biblioteka. Sintaksa jezika Q# je slična sintaksi poznatih programskih jezika, kao što su Python i Kotlin. Zbog toga možemo podrazumevati da će čitaoci razumeti većinu konstrukcija koje su do sada sreli u drugim programskim jezicima, te nije potrebno davati neki poseban uvod iz sintakse jezika Q#.\n",
    "Iako nemamo kvantni računar kod sebe, to ne predstavlja problem, jer ovde zapravo radimo simulaciju rada računara koji ima i klasične i kvantne operacije."
   ]
  },
  {
   "cell_type": "code",
   "execution_count": 1,
   "id": "f27293b1-daff-4c88-ae29-7338d4793a45",
   "metadata": {},
   "outputs": [
    {
     "data": {
      "application/javascript": [
       "// Copyright (c) Microsoft Corporation.\n",
       "// Licensed under the MIT License.\n",
       "\n",
       "// This file provides CodeMirror syntax highlighting for Q# magic cells\n",
       "// in classic Jupyter Notebooks. It does nothing in other (Jupyter Notebook 7,\n",
       "// VS Code, Azure Notebooks, etc.) environments.\n",
       "\n",
       "// Detect the prerequisites and do nothing if they don't exist.\n",
       "if (window.require && window.CodeMirror && window.Jupyter) {\n",
       "  // The simple mode plugin for CodeMirror is not loaded by default, so require it.\n",
       "  window.require([\"codemirror/addon/mode/simple\"], function defineMode() {\n",
       "    let rules = [\n",
       "      {\n",
       "        token: \"comment\",\n",
       "        regex: /(\\/\\/).*/,\n",
       "        beginWord: false,\n",
       "      },\n",
       "      {\n",
       "        token: \"string\",\n",
       "        regex: String.raw`^\\\"(?:[^\\\"\\\\]|\\\\[\\s\\S])*(?:\\\"|$)`,\n",
       "        beginWord: false,\n",
       "      },\n",
       "      {\n",
       "        token: \"keyword\",\n",
       "        regex: String.raw`(namespace|open|as|operation|function|body|adjoint|newtype|controlled|internal)\\b`,\n",
       "        beginWord: true,\n",
       "      },\n",
       "      {\n",
       "        token: \"keyword\",\n",
       "        regex: String.raw`(if|elif|else|repeat|until|fixup|for|in|return|fail|within|apply)\\b`,\n",
       "        beginWord: true,\n",
       "      },\n",
       "      {\n",
       "        token: \"keyword\",\n",
       "        regex: String.raw`(Adjoint|Controlled|Adj|Ctl|is|self|auto|distribute|invert|intrinsic)\\b`,\n",
       "        beginWord: true,\n",
       "      },\n",
       "      {\n",
       "        token: \"keyword\",\n",
       "        regex: String.raw`(let|set|use|borrow|mutable)\\b`,\n",
       "        beginWord: true,\n",
       "      },\n",
       "      {\n",
       "        token: \"operatorKeyword\",\n",
       "        regex: String.raw`(not|and|or)\\b|(w/)`,\n",
       "        beginWord: true,\n",
       "      },\n",
       "      {\n",
       "        token: \"operatorKeyword\",\n",
       "        regex: String.raw`(=)|(!)|(<)|(>)|(\\+)|(-)|(\\*)|(/)|(\\^)|(%)|(\\|)|(&&&)|(~~~)|(\\.\\.\\.)|(\\.\\.)|(\\?)`,\n",
       "        beginWord: false,\n",
       "      },\n",
       "      {\n",
       "        token: \"meta\",\n",
       "        regex: String.raw`(Int|BigInt|Double|Bool|Qubit|Pauli|Result|Range|String|Unit)\\b`,\n",
       "        beginWord: true,\n",
       "      },\n",
       "      {\n",
       "        token: \"atom\",\n",
       "        regex: String.raw`(true|false|Pauli(I|X|Y|Z)|One|Zero)\\b`,\n",
       "        beginWord: true,\n",
       "      },\n",
       "    ];\n",
       "    let simpleRules = [];\n",
       "    for (let rule of rules) {\n",
       "      simpleRules.push({\n",
       "        token: rule.token,\n",
       "        regex: new RegExp(rule.regex, \"g\"),\n",
       "        sol: rule.beginWord,\n",
       "      });\n",
       "      if (rule.beginWord) {\n",
       "        // Need an additional rule due to the fact that CodeMirror simple mode doesn't work with ^ token\n",
       "        simpleRules.push({\n",
       "          token: rule.token,\n",
       "          regex: new RegExp(String.raw`\\W` + rule.regex, \"g\"),\n",
       "          sol: false,\n",
       "        });\n",
       "      }\n",
       "    }\n",
       "\n",
       "    // Register the mode defined above with CodeMirror\n",
       "    window.CodeMirror.defineSimpleMode(\"qsharp\", { start: simpleRules });\n",
       "    window.CodeMirror.defineMIME(\"text/x-qsharp\", \"qsharp\");\n",
       "\n",
       "    // Tell Jupyter to associate %%qsharp magic cells with the qsharp mode\n",
       "    window.Jupyter.CodeCell.options_default.highlight_modes[\"qsharp\"] = {\n",
       "      reg: [/^%%qsharp/],\n",
       "    };\n",
       "\n",
       "    // Force re-highlighting of all cells the first time this code runs\n",
       "    for (const cell of window.Jupyter.notebook.get_cells()) {\n",
       "      cell.auto_highlight();\n",
       "    }\n",
       "  });\n",
       "}\n"
      ],
      "text/plain": []
     },
     "metadata": {},
     "output_type": "display_data"
    }
   ],
   "source": [
    "# ova komanda uključuje biblioteku qsharp za rad sa programskih jezikom Q#\n",
    "import qsharp\n",
    "# kada hoćemo da pređemo ovde u Q#, potrebno je samo u narednoj ćeliji ukucati magičnu reč"
   ]
  },
  {
   "cell_type": "code",
   "execution_count": 2,
   "id": "294cba69-9b4a-4ef9-8f97-b241d7e9ded9",
   "metadata": {},
   "outputs": [
    {
     "data": {
      "text/plain": [
       "Checkpoint 1"
      ]
     },
     "metadata": {},
     "output_type": "display_data"
    },
    {
     "data": {},
     "metadata": {},
     "output_type": "display_data"
    },
    {
     "data": {
      "text/markdown": [
       "<table class=\"qs-stateTable\">\n",
       "  <style>\n",
       "    .qs-stateTable thead tr {\n",
       "      background-color: var(\n",
       "        --vscode-list-hoverBackground,\n",
       "        var(--jp-layout-color1, inherit)\n",
       "      );\n",
       "    }\n",
       "    .qs-stateTable th {\n",
       "      text-align: left;\n",
       "      border: none;\n",
       "    }\n",
       "    .qs-stateTable tbody {\n",
       "      pointer-events: none;\n",
       "    }\n",
       "    .qs-stateTable tbody td {\n",
       "      text-align: left;\n",
       "      border: none;\n",
       "    }\n",
       "    .qs-stateTable tbody td span {\n",
       "      display: inline-block;\n",
       "    }\n",
       "    .qs-stateTable tbody tr:nth-child(even) {\n",
       "      background-color: var(\n",
       "        --vscode-list-hoverBackground,\n",
       "        var(--jp-layout-color1, inherit)\n",
       "      );\n",
       "    }\n",
       "  </style>\n",
       "  <thead>\n",
       "    <tr>\n",
       "      <th>Basis State<br />(|𝜓₁…𝜓ₙ⟩)</th>\n",
       "      <th>Amplitude</th>\n",
       "      <th>Measurement Probability</th>\n",
       "      <th colspan=\"2\">Phase</th>\n",
       "    </tr>\n",
       "  </thead>\n",
       "  <tbody>\n",
       "    <tr>\n",
       "  <td>\n",
       "    <span>|0⟩</span>\n",
       "  </td>\n",
       "  <td>\n",
       "    <span>1.0000+0.0000𝑖</span>\n",
       "  </td>\n",
       "  <td>\n",
       "    <progress max=\"100\" value=\"100\"></progress>\n",
       "    <span>100.0000%</span>\n",
       "  </td>\n",
       "  <td style=\"transform: rotate(0.0000rad)\">↑</td>\n",
       "  <td>\n",
       "    <span>0.0000</span>\n",
       "  </td>\n",
       "</tr>\n",
       "\n",
       "  </tbody>\n",
       "</table>\n",
       "\n",
       "\n",
       "$|\\psi\\rangle = |0\\rangle$"
      ],
      "text/plain": [
       "STATE:\n",
       "|0⟩: 1.0000+0.0000𝑖"
      ]
     },
     "metadata": {},
     "output_type": "display_data"
    },
    {
     "data": {},
     "metadata": {},
     "output_type": "display_data"
    }
   ],
   "source": [
    "%%qsharp\n",
    "\n",
    "// sada smo u Q# modu, pa su i komentari u stilu Q#\n",
    "\n",
    "// naredna komanda nam omogućava da koristimo funkcije kao što su DumpMachine()\n",
    "// te funkcije nam omogućavaju praćenje stanja kubita na kvantnom računaru\n",
    "open Microsoft.Quantum.Diagnostics;\n",
    "\n",
    "// za inicijalizovanje kubita se koristi komanda use, zajedno sa funkcijom Qubit()\n",
    "// Qubit() generiše kubit čije je početno stanje |0>\n",
    "use q = Qubit();\n",
    "// pogledajmo kakvo je stanje kubita\n",
    "Message(\"Checkpoint 1\");\n",
    "DumpMachine();"
   ]
  },
  {
   "cell_type": "markdown",
   "id": "72fc175d-c2cb-49f3-87c5-296ee88cb69e",
   "metadata": {},
   "source": [
    "##### Napomena:\n",
    "Ako želite više puta da pokrenete kod, restartujte Kernel sa opcijom **Kerner->Restart Kernel** and **Run All Cells**. Proverite sami šta se dešava inače."
   ]
  },
  {
   "cell_type": "markdown",
   "id": "b5fe4f1a-401f-4af1-8c0c-beebbc4b55b1",
   "metadata": {},
   "source": [
    "Dobijanje ostalih kubita u Q# se izvodi korišćenjem kvantnih operacija. Uskoro ćemo videti kakve su to kvantne operacije i šta možemo sa njima da uradimo.\n",
    "Ako želimo neki kubit q da vratimo na stanje $\\ket{0}$, to možemo uraditi pomoću naredbe **Reset(q)**. Ako želimo neki kubit da obrišemo, to nije moguće eksplicitno uraditi u jeziku Q#, ali je moguće implicitno izvesti postavljanjem vrednosti tog kubita na $\\ket{0}$, čime sistemu stavljamo do znanja da se na tom kubitu ne skladišti nikakva važna informacija."
   ]
  },
  {
   "cell_type": "markdown",
   "id": "9c4cf494-f6f1-4f82-b9d4-1f058766a5ae",
   "metadata": {},
   "source": [
    "## Evolucija kubita"
   ]
  },
  {
   "cell_type": "markdown",
   "id": "b510cf79-1299-4072-b762-0083a6958c73",
   "metadata": {},
   "source": [
    "Evolucija kubita predstavlja primenu unitarne transformacije nad kubitom. Naziv *evolucija* dolazi iz fizike i odnosi se na promenu stanja čestice tokom vremena. Kao što se menjaju prostorne koordinate i fizička svojstva tela tokom kretanja, tako se primenom unitarne transformacije menja struktura kubita.\n",
    "\n",
    "Unitarna transformacija se može posmatrati kao kolo u kvantnom računaru. Razlika u odnosu na klasični računar je u tome što kolo u kvantnom računaru predstavlja matričnu transformaciju; na klasičnom računaru je kolo operacija Bulove algebre.\n"
   ]
  },
  {
   "cell_type": "markdown",
   "id": "86788144-8e9d-4dc9-96be-344ed81ce24b",
   "metadata": {},
   "source": [
    "![Neke matrice, ebem li ga ja](./images/qubit_gates.png)"
   ]
  },
  {
   "cell_type": "markdown",
   "id": "5a943068-0cf7-4e47-b2ca-2941102b62aa",
   "metadata": {},
   "source": [
    "Na slici iznad su prikazane neke od najvažnijih unitarnih matrica.\n",
    "\n",
    "Paulijeve matrice (vidi sliku iznad) veoma su bitne u kvantnoj teoriji. Sve tri transformacije su involutivne, odnosno $X^2 = Y^2 = Z^2 = I$. Paulijeva $X$ matrica se često naziva i $NOT$ kolo, zahvaljujući činjenici da:\n",
    "\\begin{align*}\n",
    "    X \\ket{0} = \\ket{1}, \\\\\n",
    "    X \\ket{1} = \\ket{0}.\n",
    "\\end{align*}\n",
    "\n",
    "Paulijeva $Z$ matrica se naziva i \\textit{matrica promene faze}. Rezultat primene $Z$ transformacije nad proizvoljnim kubitom je:\n",
    "\\begin{align*}\n",
    "    Z (a_0 \\ket{0} + a_1 \\ket{1}) = a_0 \\ket{0} - a_1 \\ket{1}.\n",
    "\\end{align*}\n",
    "\n",
    "Paulijeva $Y$ matrica je u literaturi često zadata u obliku $\\begin{pmatrix}\n",
    "    0 & 1 \\\\ -1 & 0\n",
    "\\end{pmatrix} = ZX$. Razlog za postojanje alternativnih oblika matrice $Y$ biće objašnjeno u poglavlju o kvantnom merenju.\n",
    "\n",
    "Transformacije se mogu posmatrati i kao promena baze Hilbertovog prostora. Na primer, primenom Adamarove transformacije dobijamo:\n",
    "\\begin{align*}\n",
    "    H \\ket{0} = \\frac{(1, 1)^T}{\\sqrt{2}} = \\ket{+}, \\\\\n",
    "    H \\ket{1} = \\frac{(1, -1)^T}{\\sqrt{2}} = \\ket{-}.\n",
    "\\end{align*}"
   ]
  },
  {
   "cell_type": "markdown",
   "id": "22339541-75c7-4694-a2a6-4618c3d5b604",
   "metadata": {},
   "source": [
    "#### Q# i evolucija kubita"
   ]
  },
  {
   "cell_type": "markdown",
   "id": "d830fd67-cdda-47ce-8e49-4b832f5cb47a",
   "metadata": {},
   "source": [
    "Pošto smo objasnili kako funkcioniše promena stanja kubita primenom unitarne transformacije, možemo dati primere za to u Q#.\n",
    "\n",
    "U najpoznatijim programskim jezicima postoji pojam funkcije. Funkcija prihvata nula ili više argumenata, izvršava nula ili više naredbi na računaru, a zatim vraća povratnu vrednost nekog tipa. Funkciju je moguće definisati i moguće ju je pozvati. U nekim jezicima funkcija uvek vraća istu povratnu vrednost za iste argumente, a u drugim programskim jezicima to nije slučaj, odnosno funkcija zavisi i od stanja sistema u trenutku izvršavanja. Funkcije koje uvek vraćaju istu vrednost za iste argumente se nazivaju *determinističkim* ili *matematičkim*. Ostale se zovu *nedeterminističke*.\n",
    "\n",
    "Objekat koji se može pozvati se u Q# naziva **callable**, a u kategoriji **callable** postoje **operation** i **function**. Objekat tipa **operation** predstavlja nedeterminističku funkciju, što je ekvivalent funkcija u programskim jezicima **C**, **C++** i **Python**. Objekat tipa **function** predstavlja determinističku funkciju, što je ekvivalent lambda izrazima i funkcija u jeziku **Haskell**.\n",
    "\n",
    "Tip **callable** zavisi od tipova argumenata i tipa povratne vrednosti. Tip unitarne transformacije je **Qubit => Unit is Adj**, a ona se realizuje u Q# kao **operation**. **Qubit => Unit** nam kaže da je kubit jedini argument, a da povratne vrednosti nema. **Unit** je tip promenljive koja čuva samo jedan podatak, a on je ekvivalent tipa **void** u jezicima **C** i **C++**. Razlog zašto nema povratne vrednosti je što će poziv ove operacije izmeniti trenutno stanje kubita u sistemu, pa nije potrebno vraćati njegovu vrednost. **is Adj** nam kaže da se ova unitarna transformacija može adjungovati, odnosno invertovati.\n",
    "\n",
    "Neke od najpoznatijih transformacija su već implementirane: **H**, **X**, **Y**, **Z**, **S**, **T**. Tu su i mnoge druge, čiji se spisak može naći u *API Reference* na zvaničnoj dokumentaciji jezika Q#."
   ]
  },
  {
   "cell_type": "code",
   "execution_count": 3,
   "id": "9f1b30a8-d806-46b0-8ed3-451e2890aaf6",
   "metadata": {},
   "outputs": [
    {
     "data": {
      "text/plain": [
       "Checkpoint 1"
      ]
     },
     "metadata": {},
     "output_type": "display_data"
    },
    {
     "data": {},
     "metadata": {},
     "output_type": "display_data"
    },
    {
     "data": {
      "text/markdown": [
       "<table class=\"qs-stateTable\">\n",
       "  <style>\n",
       "    .qs-stateTable thead tr {\n",
       "      background-color: var(\n",
       "        --vscode-list-hoverBackground,\n",
       "        var(--jp-layout-color1, inherit)\n",
       "      );\n",
       "    }\n",
       "    .qs-stateTable th {\n",
       "      text-align: left;\n",
       "      border: none;\n",
       "    }\n",
       "    .qs-stateTable tbody {\n",
       "      pointer-events: none;\n",
       "    }\n",
       "    .qs-stateTable tbody td {\n",
       "      text-align: left;\n",
       "      border: none;\n",
       "    }\n",
       "    .qs-stateTable tbody td span {\n",
       "      display: inline-block;\n",
       "    }\n",
       "    .qs-stateTable tbody tr:nth-child(even) {\n",
       "      background-color: var(\n",
       "        --vscode-list-hoverBackground,\n",
       "        var(--jp-layout-color1, inherit)\n",
       "      );\n",
       "    }\n",
       "  </style>\n",
       "  <thead>\n",
       "    <tr>\n",
       "      <th>Basis State<br />(|𝜓₁…𝜓ₙ⟩)</th>\n",
       "      <th>Amplitude</th>\n",
       "      <th>Measurement Probability</th>\n",
       "      <th colspan=\"2\">Phase</th>\n",
       "    </tr>\n",
       "  </thead>\n",
       "  <tbody>\n",
       "    <tr>\n",
       "  <td>\n",
       "    <span>|1⟩</span>\n",
       "  </td>\n",
       "  <td>\n",
       "    <span>1.0000+0.0000𝑖</span>\n",
       "  </td>\n",
       "  <td>\n",
       "    <progress max=\"100\" value=\"100\"></progress>\n",
       "    <span>100.0000%</span>\n",
       "  </td>\n",
       "  <td style=\"transform: rotate(0.0000rad)\">↑</td>\n",
       "  <td>\n",
       "    <span>0.0000</span>\n",
       "  </td>\n",
       "</tr>\n",
       "\n",
       "  </tbody>\n",
       "</table>\n",
       "\n",
       "\n",
       "$|\\psi\\rangle = |1\\rangle$"
      ],
      "text/plain": [
       "STATE:\n",
       "|1⟩: 1.0000+0.0000𝑖"
      ]
     },
     "metadata": {},
     "output_type": "display_data"
    },
    {
     "data": {},
     "metadata": {},
     "output_type": "display_data"
    },
    {
     "data": {
      "text/plain": [
       "Checkpoint 2"
      ]
     },
     "metadata": {},
     "output_type": "display_data"
    },
    {
     "data": {},
     "metadata": {},
     "output_type": "display_data"
    },
    {
     "data": {
      "text/markdown": [
       "<table class=\"qs-stateTable\">\n",
       "  <style>\n",
       "    .qs-stateTable thead tr {\n",
       "      background-color: var(\n",
       "        --vscode-list-hoverBackground,\n",
       "        var(--jp-layout-color1, inherit)\n",
       "      );\n",
       "    }\n",
       "    .qs-stateTable th {\n",
       "      text-align: left;\n",
       "      border: none;\n",
       "    }\n",
       "    .qs-stateTable tbody {\n",
       "      pointer-events: none;\n",
       "    }\n",
       "    .qs-stateTable tbody td {\n",
       "      text-align: left;\n",
       "      border: none;\n",
       "    }\n",
       "    .qs-stateTable tbody td span {\n",
       "      display: inline-block;\n",
       "    }\n",
       "    .qs-stateTable tbody tr:nth-child(even) {\n",
       "      background-color: var(\n",
       "        --vscode-list-hoverBackground,\n",
       "        var(--jp-layout-color1, inherit)\n",
       "      );\n",
       "    }\n",
       "  </style>\n",
       "  <thead>\n",
       "    <tr>\n",
       "      <th>Basis State<br />(|𝜓₁…𝜓ₙ⟩)</th>\n",
       "      <th>Amplitude</th>\n",
       "      <th>Measurement Probability</th>\n",
       "      <th colspan=\"2\">Phase</th>\n",
       "    </tr>\n",
       "  </thead>\n",
       "  <tbody>\n",
       "    <tr>\n",
       "  <td>\n",
       "    <span>|0⟩</span>\n",
       "  </td>\n",
       "  <td>\n",
       "    <span>0.7071+0.0000𝑖</span>\n",
       "  </td>\n",
       "  <td>\n",
       "    <progress max=\"100\" value=\"50.000000000000014\"></progress>\n",
       "    <span>50.0000%</span>\n",
       "  </td>\n",
       "  <td style=\"transform: rotate(0.0000rad)\">↑</td>\n",
       "  <td>\n",
       "    <span>0.0000</span>\n",
       "  </td>\n",
       "</tr>\n",
       "<tr>\n",
       "  <td>\n",
       "    <span>|1⟩</span>\n",
       "  </td>\n",
       "  <td>\n",
       "    <span>0.7071+0.0000𝑖</span>\n",
       "  </td>\n",
       "  <td>\n",
       "    <progress max=\"100\" value=\"50.000000000000014\"></progress>\n",
       "    <span>50.0000%</span>\n",
       "  </td>\n",
       "  <td style=\"transform: rotate(0.0000rad)\">↑</td>\n",
       "  <td>\n",
       "    <span>0.0000</span>\n",
       "  </td>\n",
       "</tr>\n",
       "\n",
       "  </tbody>\n",
       "</table>\n",
       "\n",
       "\n",
       "$|\\psi\\rangle = \\frac{\\sqrt{2}}{2}|0\\rangle+\\frac{\\sqrt{2}}{2}|1\\rangle$"
      ],
      "text/plain": [
       "STATE:\n",
       "|0⟩: 0.7071+0.0000𝑖\n",
       "|1⟩: 0.7071+0.0000𝑖"
      ]
     },
     "metadata": {},
     "output_type": "display_data"
    },
    {
     "data": {},
     "metadata": {},
     "output_type": "display_data"
    },
    {
     "data": {
      "text/plain": [
       "Checkpoint 3"
      ]
     },
     "metadata": {},
     "output_type": "display_data"
    },
    {
     "data": {},
     "metadata": {},
     "output_type": "display_data"
    },
    {
     "data": {
      "text/markdown": [
       "<table class=\"qs-stateTable\">\n",
       "  <style>\n",
       "    .qs-stateTable thead tr {\n",
       "      background-color: var(\n",
       "        --vscode-list-hoverBackground,\n",
       "        var(--jp-layout-color1, inherit)\n",
       "      );\n",
       "    }\n",
       "    .qs-stateTable th {\n",
       "      text-align: left;\n",
       "      border: none;\n",
       "    }\n",
       "    .qs-stateTable tbody {\n",
       "      pointer-events: none;\n",
       "    }\n",
       "    .qs-stateTable tbody td {\n",
       "      text-align: left;\n",
       "      border: none;\n",
       "    }\n",
       "    .qs-stateTable tbody td span {\n",
       "      display: inline-block;\n",
       "    }\n",
       "    .qs-stateTable tbody tr:nth-child(even) {\n",
       "      background-color: var(\n",
       "        --vscode-list-hoverBackground,\n",
       "        var(--jp-layout-color1, inherit)\n",
       "      );\n",
       "    }\n",
       "  </style>\n",
       "  <thead>\n",
       "    <tr>\n",
       "      <th>Basis State<br />(|𝜓₁…𝜓ₙ⟩)</th>\n",
       "      <th>Amplitude</th>\n",
       "      <th>Measurement Probability</th>\n",
       "      <th colspan=\"2\">Phase</th>\n",
       "    </tr>\n",
       "  </thead>\n",
       "  <tbody>\n",
       "    <tr>\n",
       "  <td>\n",
       "    <span>|0⟩</span>\n",
       "  </td>\n",
       "  <td>\n",
       "    <span>0.7071+0.0000𝑖</span>\n",
       "  </td>\n",
       "  <td>\n",
       "    <progress max=\"100\" value=\"50.000000000000014\"></progress>\n",
       "    <span>50.0000%</span>\n",
       "  </td>\n",
       "  <td style=\"transform: rotate(0.0000rad)\">↑</td>\n",
       "  <td>\n",
       "    <span>0.0000</span>\n",
       "  </td>\n",
       "</tr>\n",
       "<tr>\n",
       "  <td>\n",
       "    <span>|1⟩</span>\n",
       "  </td>\n",
       "  <td>\n",
       "    <span>−0.7071+0.0000𝑖</span>\n",
       "  </td>\n",
       "  <td>\n",
       "    <progress max=\"100\" value=\"50.000000000000014\"></progress>\n",
       "    <span>50.0000%</span>\n",
       "  </td>\n",
       "  <td style=\"transform: rotate(-3.1416rad)\">↑</td>\n",
       "  <td>\n",
       "    <span>-3.1416</span>\n",
       "  </td>\n",
       "</tr>\n",
       "\n",
       "  </tbody>\n",
       "</table>\n",
       "\n",
       "\n",
       "$|\\psi\\rangle = \\frac{\\sqrt{2}}{2}|0\\rangle-\\frac{\\sqrt{2}}{2}|1\\rangle$"
      ],
      "text/plain": [
       "STATE:\n",
       "|0⟩: 0.7071+0.0000𝑖\n",
       "|1⟩: −0.7071+0.0000𝑖"
      ]
     },
     "metadata": {},
     "output_type": "display_data"
    },
    {
     "data": {},
     "metadata": {},
     "output_type": "display_data"
    }
   ],
   "source": [
    "%%qsharp\n",
    "\n",
    "Reset(q);\n",
    "\n",
    "// napravimo da q bude u stanju |1>\n",
    "X(q);\n",
    "\n",
    "Message(\"Checkpoint 1\");\n",
    "DumpMachine();\n",
    "\n",
    "Reset(q);\n",
    "\n",
    "// pretvorimo ga u |+>\n",
    "\n",
    "H(q);\n",
    "\n",
    "Message(\"Checkpoint 2\");\n",
    "DumpMachine();\n",
    "\n",
    "// Stanje |-> dobijamo nakon HX:\n",
    "Reset(q);\n",
    "X(q);\n",
    "H(q);\n",
    "\n",
    "Message(\"Checkpoint 3\");\n",
    "DumpMachine();"
   ]
  },
  {
   "cell_type": "markdown",
   "id": "4555b7b6-ad77-4842-9b08-161e4ca506f3",
   "metadata": {},
   "source": [
    "Definišimo sada svoju unitarnu transformaciju, na osnovu već zadatih."
   ]
  },
  {
   "cell_type": "code",
   "execution_count": 4,
   "id": "8a6c9037-aae2-4b57-9649-f4e5888a5803",
   "metadata": {},
   "outputs": [
    {
     "data": {
      "text/plain": [
       "Checkpoint 4"
      ]
     },
     "metadata": {},
     "output_type": "display_data"
    },
    {
     "data": {},
     "metadata": {},
     "output_type": "display_data"
    },
    {
     "data": {
      "text/markdown": [
       "<table class=\"qs-stateTable\">\n",
       "  <style>\n",
       "    .qs-stateTable thead tr {\n",
       "      background-color: var(\n",
       "        --vscode-list-hoverBackground,\n",
       "        var(--jp-layout-color1, inherit)\n",
       "      );\n",
       "    }\n",
       "    .qs-stateTable th {\n",
       "      text-align: left;\n",
       "      border: none;\n",
       "    }\n",
       "    .qs-stateTable tbody {\n",
       "      pointer-events: none;\n",
       "    }\n",
       "    .qs-stateTable tbody td {\n",
       "      text-align: left;\n",
       "      border: none;\n",
       "    }\n",
       "    .qs-stateTable tbody td span {\n",
       "      display: inline-block;\n",
       "    }\n",
       "    .qs-stateTable tbody tr:nth-child(even) {\n",
       "      background-color: var(\n",
       "        --vscode-list-hoverBackground,\n",
       "        var(--jp-layout-color1, inherit)\n",
       "      );\n",
       "    }\n",
       "  </style>\n",
       "  <thead>\n",
       "    <tr>\n",
       "      <th>Basis State<br />(|𝜓₁…𝜓ₙ⟩)</th>\n",
       "      <th>Amplitude</th>\n",
       "      <th>Measurement Probability</th>\n",
       "      <th colspan=\"2\">Phase</th>\n",
       "    </tr>\n",
       "  </thead>\n",
       "  <tbody>\n",
       "    <tr>\n",
       "  <td>\n",
       "    <span>|0⟩</span>\n",
       "  </td>\n",
       "  <td>\n",
       "    <span>0.7071+0.0000𝑖</span>\n",
       "  </td>\n",
       "  <td>\n",
       "    <progress max=\"100\" value=\"50.000000000000014\"></progress>\n",
       "    <span>50.0000%</span>\n",
       "  </td>\n",
       "  <td style=\"transform: rotate(0.0000rad)\">↑</td>\n",
       "  <td>\n",
       "    <span>0.0000</span>\n",
       "  </td>\n",
       "</tr>\n",
       "<tr>\n",
       "  <td>\n",
       "    <span>|1⟩</span>\n",
       "  </td>\n",
       "  <td>\n",
       "    <span>0.7071+0.0000𝑖</span>\n",
       "  </td>\n",
       "  <td>\n",
       "    <progress max=\"100\" value=\"50.000000000000014\"></progress>\n",
       "    <span>50.0000%</span>\n",
       "  </td>\n",
       "  <td style=\"transform: rotate(0.0000rad)\">↑</td>\n",
       "  <td>\n",
       "    <span>0.0000</span>\n",
       "  </td>\n",
       "</tr>\n",
       "\n",
       "  </tbody>\n",
       "</table>\n",
       "\n",
       "\n",
       "$|\\psi\\rangle = \\frac{\\sqrt{2}}{2}|0\\rangle+\\frac{\\sqrt{2}}{2}|1\\rangle$"
      ],
      "text/plain": [
       "STATE:\n",
       "|0⟩: 0.7071+0.0000𝑖\n",
       "|1⟩: 0.7071+0.0000𝑖"
      ]
     },
     "metadata": {},
     "output_type": "display_data"
    },
    {
     "data": {},
     "metadata": {},
     "output_type": "display_data"
    }
   ],
   "source": [
    "%%qsharp\n",
    "\n",
    "// qubit je naziv argumenta, tip mu je Qubit\n",
    "operation makeMinus(qubit : Qubit) : Unit is Adj {\n",
    "    H(qubit);\n",
    "    X(qubit);\n",
    "}\n",
    "\n",
    "Reset(q);\n",
    "\n",
    "makeMinus(q);\n",
    "Message(\"Checkpoint 4\");\n",
    "DumpMachine();"
   ]
  },
  {
   "cell_type": "markdown",
   "id": "17f0db00-8bf4-4f10-aa2a-b81eb4ba8502",
   "metadata": {},
   "source": [
    "Da ne bismo ponavljali ove funkcije za ispis, definisaćemo funkciju koja sada radi samo sa klasičnim podacima."
   ]
  },
  {
   "cell_type": "code",
   "execution_count": 5,
   "id": "e942fded-8a8a-422d-857a-50db94c3a023",
   "metadata": {},
   "outputs": [
    {
     "data": {
      "text/plain": [
       "Checkpoint 5"
      ]
     },
     "metadata": {},
     "output_type": "display_data"
    },
    {
     "data": {},
     "metadata": {},
     "output_type": "display_data"
    },
    {
     "data": {
      "text/markdown": [
       "<table class=\"qs-stateTable\">\n",
       "  <style>\n",
       "    .qs-stateTable thead tr {\n",
       "      background-color: var(\n",
       "        --vscode-list-hoverBackground,\n",
       "        var(--jp-layout-color1, inherit)\n",
       "      );\n",
       "    }\n",
       "    .qs-stateTable th {\n",
       "      text-align: left;\n",
       "      border: none;\n",
       "    }\n",
       "    .qs-stateTable tbody {\n",
       "      pointer-events: none;\n",
       "    }\n",
       "    .qs-stateTable tbody td {\n",
       "      text-align: left;\n",
       "      border: none;\n",
       "    }\n",
       "    .qs-stateTable tbody td span {\n",
       "      display: inline-block;\n",
       "    }\n",
       "    .qs-stateTable tbody tr:nth-child(even) {\n",
       "      background-color: var(\n",
       "        --vscode-list-hoverBackground,\n",
       "        var(--jp-layout-color1, inherit)\n",
       "      );\n",
       "    }\n",
       "  </style>\n",
       "  <thead>\n",
       "    <tr>\n",
       "      <th>Basis State<br />(|𝜓₁…𝜓ₙ⟩)</th>\n",
       "      <th>Amplitude</th>\n",
       "      <th>Measurement Probability</th>\n",
       "      <th colspan=\"2\">Phase</th>\n",
       "    </tr>\n",
       "  </thead>\n",
       "  <tbody>\n",
       "    <tr>\n",
       "  <td>\n",
       "    <span>|0⟩</span>\n",
       "  </td>\n",
       "  <td>\n",
       "    <span>1.0000+0.0000𝑖</span>\n",
       "  </td>\n",
       "  <td>\n",
       "    <progress max=\"100\" value=\"100\"></progress>\n",
       "    <span>100.0000%</span>\n",
       "  </td>\n",
       "  <td style=\"transform: rotate(0.0000rad)\">↑</td>\n",
       "  <td>\n",
       "    <span>0.0000</span>\n",
       "  </td>\n",
       "</tr>\n",
       "\n",
       "  </tbody>\n",
       "</table>\n",
       "\n",
       "\n",
       "$|\\psi\\rangle = |0\\rangle$"
      ],
      "text/plain": [
       "STATE:\n",
       "|0⟩: 1.0000+0.0000𝑖"
      ]
     },
     "metadata": {},
     "output_type": "display_data"
    },
    {
     "data": {},
     "metadata": {},
     "output_type": "display_data"
    }
   ],
   "source": [
    "%%qsharp\n",
    "\n",
    "operation printState(checkpoint : Int) : Unit {\n",
    "    Message($\"Checkpoint {checkpoint}\");\n",
    "    DumpMachine();\n",
    "}\n",
    "\n",
    "\n",
    "Reset(q);\n",
    "printState(5);"
   ]
  },
  {
   "cell_type": "code",
   "execution_count": null,
   "id": "850ff110-f1ef-4f46-9a90-cac6e7d50b6f",
   "metadata": {},
   "outputs": [],
   "source": []
  }
 ],
 "metadata": {
  "kernelspec": {
   "display_name": "Python 3 (ipykernel)",
   "language": "python",
   "name": "python3"
  },
  "language_info": {
   "codemirror_mode": {
    "name": "ipython",
    "version": 3
   },
   "file_extension": ".py",
   "mimetype": "text/x-python",
   "name": "python",
   "nbconvert_exporter": "python",
   "pygments_lexer": "ipython3",
   "version": "3.12.3"
  }
 },
 "nbformat": 4,
 "nbformat_minor": 5
}
