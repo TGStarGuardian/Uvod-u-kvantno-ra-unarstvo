{
 "cells": [
  {
   "cell_type": "markdown",
   "id": "946940bb-3331-4161-9ec4-6f554a85da75",
   "metadata": {},
   "source": [
    "# Kvantni algoritmi 1"
   ]
  },
  {
   "cell_type": "markdown",
   "id": "657130bd-25b0-429b-8f69-3ed2cf3ee39f",
   "metadata": {},
   "source": [
    "U ovom poglavlju opisaćemo neke od najvažnijih kvantnih algoritama i uporediti ih sa algoritmima koji rešavaju isti problem na klasičnom računaru. Da bi se što bolje iskoristile prednosti oba pristupa (klasičnog i kvantnog), zamišljeno je da se koriste i kvantni i klasični komunikacioni kanali, kao i kvantni i klasični algoritmi.\n",
    "\n",
    "Kao meru složenosti algoritama, računaćemo broj kvantnih kola koja su potrebna da se izračuna rešenje, budući da broj kvantnih kola određuje broj transformacija koje je potrebno izvršiti. Kao i u klasičnom računaru, neke transformacije se smatraju osnovnim, a neke se izvode na osnovu drugih. Ipak, postoje razlike: na klasičnom računaru je moguće sve operacije izraziti preko $NAND$ operacija, dok na kvantnom računaru (za sad) nije pronađen takav konačan skup kvantnih kola.\n",
    "\n",
    "Pokazano je da se operacijama iz skupa svih unitarnih transformacija nad jednim kubitom i transformacije $CNOT$ nad dva kubita mogu odrediti sve ostale unitarne transformacije. Ipak, nije realistično očekivati da se implementira svako kolo nad jednim kubitom, jer njih ima beskonačno mnogo \\footnote{Na primer, za $t > 0$, matrice $\\begin{pmatrix} 1 & 0 \\\\ 0 & e^{i \\pi / t}\\end{pmatrix}$ su unitarne i njih ima beskonačno mnogo.}. Dokazano je da se sve unitarne transformacije nad jednim ili dva kubita mogu aproksimirati onima iz skupa koji čine $CNOT$, Adamarova $H$ transformacija i promena faze $T_{\\pi/8}$. Ako je greška aproksimacije $\\epsilon$, broj kvantnih kola u aproksimaciji je polinom po $\\log\\epsilon$.\n",
    "\n",
    "U nastavku ćemo podrazumevati da je nešto veći skup osnovnih operacija. U taj skup ćemo uključiti transformacije $I$, $X$, $Y$, $Z$, $H$, promenu faze $T_{\\pi/8}$, $CNOT$ i ostala kontrolisana kola, $SWAP$ i $CCNOT$.\n",
    "\n",
    "Kvantna merenja u odnosu na bilo koju bazu se mogu svesti na kvantna merenja u odnosu na kanonsku bazu. Zbog toga smatramo da je na kvantnom računaru implementirano jedino merenje u odnosu na kanonsku bazu."
   ]
  },
  {
   "cell_type": "markdown",
   "id": "4128ac7e-92cb-4676-b5dd-34c4849795bb",
   "metadata": {},
   "source": [
    "## Kvantna teleportacija"
   ]
  },
  {
   "cell_type": "markdown",
   "id": "935c16b2-f7db-44e7-8896-5421d8294ea7",
   "metadata": {},
   "source": [
    "*Kvantna teleportacija* predstavlja postupak slanja kvantnog stanja jednog kubita sa jednog kvantnog računara na drugi kvantni računar preko klasičnog kanala (kanala preko kojeg se šalju klasični bitovi).\n",
    "\n",
    "Algoritam koji sledi je predstavljen 1993. od strane Čarlsa Beneta (eng. *Charles H. Bennett*), Žila Brasara (fr. *Gilles Brassard*), Kloda Krepoa (fr. *Claude Crépeau*), Ričarda Jože (eng. *Richard Jozsa*), Ašera Peresa (eng. *Asher Peres*) i Vilijama Vutersa (eng. -*William K. Wootters*). Pretpostavke su sledeće:\n",
    "\n",
    "- postoje dva aktera: Alisa i Boban;\n",
    "- Alisa poseduje kubit $a_0 \\ket{0} + a_1 \\ket{1}$;\n",
    "- Alisa i Boban poseduju svako po jedan kubit tako da je sistem od ta dva kubita u stanju $\\ket{\\Phi}^{+}$. Skraćeno ćemo reći da Alisa i Boban \\textit{dele} sistem $\\ket{\\Phi}^{+}$, a njegovo kvantno stanje zapisujemo u obliku $\\frac{1}{\\sqrt{2}} (\\ket{0}_A \\ket{0}_B) + \\ket{1}_A \\ket{1}_B)$, gde indeks označava kome pripada pojedinačni kubit u sistemu;\n",
    "- Alisa i Boban smeju da primenjuju jedino kvantno merenje i unitarne transformacije nad kubitima koji se nalaze na njihovim računarima. Za takve operacije se kaže da su *lokalne*;\n",
    "- Dozovljena je komunikacija između Alise i Bobana klasičnim kanalom.\n",
    "\n",
    "Cilj algoritma je da Boban na kraju poseduje kubit čije je kvantno stanje isto kao Alisin kubit $a_0 \\ket{0} + a_1 \\ket{1}$.\n",
    "\n",
    "Stanje sistema od sva tri kubita koje Alisa i Boban poseduju se može zapisati na sledeći način:\n",
    "\\begin{align*}\n",
    "    \\frac{1}{\\sqrt{2}} (a_0 \\ket{0}_A + a_1 \\ket{1}_A) \\otimes (\\ket{0}_A \\ket{0}_B + \\ket{1}_A \\ket{1}_B).\n",
    "\\end{align*}\n",
    "\n",
    "Algoritam se sastoji od narednih koraka:\n",
    "\n",
    "1. Alisa primenjuje transformaciju $CNOT$ na svoja dva kubita, odnosno $CNOT \\otimes I$ na celom sistemu. Ova operacija je lokalna, jer ne utiče na Bobanov kubit.\n",
    "\n",
    "    Rezultat ove transformacije je:\n",
    "    \\begin{align*}\n",
    "        \\frac{a_0}{\\sqrt{2}} \\ket{0}_A \\otimes (\\ket{0}_A \\ket{0}_B + \\ket{1}_A \\ket{1}_B) + \\frac{a_1}{\\sqrt{2}} \\ket{1}_A \\otimes (\\ket{1}_A \\ket{0}_B + \\ket{0}_A \\ket{1}_B).\n",
    "    \\end{align*}\n",
    "    \\item Alisa primenjuje transformaciju $H$ na prvom kubitu, odnosno transformaciju $H \\otimes I \\otimes I$ na celom sistemu.\n",
    "\n",
    "    Rezultat ove transformacije je:\n",
    "    \\begin{align*}\n",
    "        &\\frac{a_0}{2} (\\ket{0}_A + \\ket{1}_A) (\\ket{0}_A \\ket{0}_B + \\ket{1}_A \\ket{1}_B)\n",
    "        + \\frac{a_1}{2} (\\ket{0}_A - \\ket{1}_A) (\\ket{1}_A \\ket{0}_B + \\ket{0}_A \\ket{1}_B), \\\\\n",
    "        = &\\frac{1}{2} \\ket{00}_A (a_0 \\ket{0}_B + a_1 \\ket{1}_B) \\\\\n",
    "        + &\\frac{1}{2} \\ket{01}_A (a_0 \\ket{1}_B + a_1 \\ket{0}_B) & \\\\\n",
    "        + &\\frac{1}{2} \\ket{10}_A (a_0 \\ket{0}_B - a_1 \\ket{1}_B) & \\\\\n",
    "        + &\\frac{1}{2} \\ket{11}_A (a_0 \\ket{1}_B - a_1 \\ket{0}_B).\n",
    "    \\end{align*}\n",
    "\n",
    "2. Alisa vrši merenje u odnosu na kanonsku bazu u $\\mathbb{C}^2 \\otimes \\mathbb{C}^2$ i rezultat $(a, b)$ šalje Bobanu kao dva klasična bita.\n",
    "\n",
    "    U narednoj tabeli je ilustrovan svaki od mogućih scenarija.\n",
    "\n",
    "   | $(a, b)$ | Bobanov kubit                   |\n",
    "   |:--------:|:-------------------------------:|\n",
    "   | $00$     | $a_0 \\ket{0}_B + a_1 \\ket{1}_B$ |\n",
    "   | $01$     | $a_0 \\ket{1}_B + a_1 \\ket{0}_B$ |\n",
    "   | $10$     | $a_0 \\ket{0}_B - a_1 \\ket{1}_B$ |\n",
    "   | $11$     | $a_0 \\ket{1}_B - a_1 \\ket{0}_B$ |\n",
    "\n",
    "4. Ako je $b = 1$, Boban najpre primenjuje $X$ nad svojim bitom. Ako je $a = 1$, nakon toga će primeniti $Z$ transformaciju.\n",
    "\n",
    "    U tabeli iznad možemo videti da, kada je $b = 1$, skalari nisu uz odgovarajuća stanja. $X$ kolo će zameniti mesta stanjima $\\ket{0}$ i $\\ket{1}$. Nakon toga, stanje Bobanovog kubita će biti kao u tabeli ispod:\n",
    "|$(a, b)$ | Bobanov kubit                   |\n",
    "|:-------:|:-------------------------------:|\n",
    "|$00$     | $a_0 \\ket{0}_B + a_1 \\ket{1}_B$ | \n",
    "|$01$     | $a_0 \\ket{0}_B + a_1 \\ket{1}_B$ |\n",
    "|$10$     | $a_0 \\ket{0}_B - a_1 \\ket{1}_B$ |\n",
    "|$11$     | $a_0 \\ket{0}_B - a_1 \\ket{1}_B$ |\n",
    "\n",
    "Sada, za $a = 1$, vidimo da je znak uz $\\ket{1}$ negativan, što se popravlja primenom $Z$ kola. Na taj način će Boban u sva četiri slučaja uspeti da rekreira Alisin kubit, čime je teleportacija izvršena."
   ]
  },
  {
   "cell_type": "markdown",
   "id": "49b37fe3-3763-4773-92fd-7912750b41fc",
   "metadata": {},
   "source": [
    "### Q# i kvantna teleportacija"
   ]
  },
  {
   "cell_type": "markdown",
   "id": "8fefe8bd-2404-4dc2-a720-e7375c102b66",
   "metadata": {},
   "source": [
    "Sada ćemo videti kako se ovo može implementirati u Q#. Kao i kod protokola **BB84**, ova implementacija upotrebljiva u praksi, niti možemo implementirati algoritam tako da on bude upotrebljiv u praksi, jer odgovarajuća tehnologija nam još nije dostupna. Ono što predstavlja problem je nameštanje situacije u kojoj Alisa i Boban dele stanje $\\ket{Phi^+}$. Trenutno ne možemo na svojim računarima to da izvedemo, ali vredi napomenuti da su naučnici uspeli to da reše eksperimentalno tako što je Alisa napravila to kvantno stanje, nakon čega je prosledila Bobanu jedan kubit. Više o tome možete naći u sledećem [članku](https://www.innovationnewsnetwork.com/quantum-teleportation-breakthrough-advances-quantum-computing/55351/)."
   ]
  },
  {
   "cell_type": "code",
   "execution_count": 1,
   "id": "95659af1-cc39-44ad-84e9-41aefa6c3db0",
   "metadata": {},
   "outputs": [
    {
     "data": {
      "application/javascript": [
       "// Copyright (c) Microsoft Corporation.\n",
       "// Licensed under the MIT License.\n",
       "\n",
       "// This file provides CodeMirror syntax highlighting for Q# magic cells\n",
       "// in classic Jupyter Notebooks. It does nothing in other (Jupyter Notebook 7,\n",
       "// VS Code, Azure Notebooks, etc.) environments.\n",
       "\n",
       "// Detect the prerequisites and do nothing if they don't exist.\n",
       "if (window.require && window.CodeMirror && window.Jupyter) {\n",
       "  // The simple mode plugin for CodeMirror is not loaded by default, so require it.\n",
       "  window.require([\"codemirror/addon/mode/simple\"], function defineMode() {\n",
       "    let rules = [\n",
       "      {\n",
       "        token: \"comment\",\n",
       "        regex: /(\\/\\/).*/,\n",
       "        beginWord: false,\n",
       "      },\n",
       "      {\n",
       "        token: \"string\",\n",
       "        regex: String.raw`^\\\"(?:[^\\\"\\\\]|\\\\[\\s\\S])*(?:\\\"|$)`,\n",
       "        beginWord: false,\n",
       "      },\n",
       "      {\n",
       "        token: \"keyword\",\n",
       "        regex: String.raw`(namespace|open|as|operation|function|body|adjoint|newtype|controlled|internal)\\b`,\n",
       "        beginWord: true,\n",
       "      },\n",
       "      {\n",
       "        token: \"keyword\",\n",
       "        regex: String.raw`(if|elif|else|repeat|until|fixup|for|in|return|fail|within|apply)\\b`,\n",
       "        beginWord: true,\n",
       "      },\n",
       "      {\n",
       "        token: \"keyword\",\n",
       "        regex: String.raw`(Adjoint|Controlled|Adj|Ctl|is|self|auto|distribute|invert|intrinsic)\\b`,\n",
       "        beginWord: true,\n",
       "      },\n",
       "      {\n",
       "        token: \"keyword\",\n",
       "        regex: String.raw`(let|set|use|borrow|mutable)\\b`,\n",
       "        beginWord: true,\n",
       "      },\n",
       "      {\n",
       "        token: \"operatorKeyword\",\n",
       "        regex: String.raw`(not|and|or)\\b|(w/)`,\n",
       "        beginWord: true,\n",
       "      },\n",
       "      {\n",
       "        token: \"operatorKeyword\",\n",
       "        regex: String.raw`(=)|(!)|(<)|(>)|(\\+)|(-)|(\\*)|(/)|(\\^)|(%)|(\\|)|(&&&)|(~~~)|(\\.\\.\\.)|(\\.\\.)|(\\?)`,\n",
       "        beginWord: false,\n",
       "      },\n",
       "      {\n",
       "        token: \"meta\",\n",
       "        regex: String.raw`(Int|BigInt|Double|Bool|Qubit|Pauli|Result|Range|String|Unit)\\b`,\n",
       "        beginWord: true,\n",
       "      },\n",
       "      {\n",
       "        token: \"atom\",\n",
       "        regex: String.raw`(true|false|Pauli(I|X|Y|Z)|One|Zero)\\b`,\n",
       "        beginWord: true,\n",
       "      },\n",
       "    ];\n",
       "    let simpleRules = [];\n",
       "    for (let rule of rules) {\n",
       "      simpleRules.push({\n",
       "        token: rule.token,\n",
       "        regex: new RegExp(rule.regex, \"g\"),\n",
       "        sol: rule.beginWord,\n",
       "      });\n",
       "      if (rule.beginWord) {\n",
       "        // Need an additional rule due to the fact that CodeMirror simple mode doesn't work with ^ token\n",
       "        simpleRules.push({\n",
       "          token: rule.token,\n",
       "          regex: new RegExp(String.raw`\\W` + rule.regex, \"g\"),\n",
       "          sol: false,\n",
       "        });\n",
       "      }\n",
       "    }\n",
       "\n",
       "    // Register the mode defined above with CodeMirror\n",
       "    window.CodeMirror.defineSimpleMode(\"qsharp\", { start: simpleRules });\n",
       "    window.CodeMirror.defineMIME(\"text/x-qsharp\", \"qsharp\");\n",
       "\n",
       "    // Tell Jupyter to associate %%qsharp magic cells with the qsharp mode\n",
       "    window.Jupyter.CodeCell.options_default.highlight_modes[\"qsharp\"] = {\n",
       "      reg: [/^%%qsharp/],\n",
       "    };\n",
       "\n",
       "    // Force re-highlighting of all cells the first time this code runs\n",
       "    for (const cell of window.Jupyter.notebook.get_cells()) {\n",
       "      cell.auto_highlight();\n",
       "    }\n",
       "  });\n",
       "}\n"
      ],
      "text/plain": []
     },
     "metadata": {},
     "output_type": "display_data"
    }
   ],
   "source": [
    "import qsharp"
   ]
  },
  {
   "cell_type": "code",
   "execution_count": 2,
   "id": "296568b0-b98e-4094-b7c6-746b2d42f468",
   "metadata": {},
   "outputs": [
    {
     "data": {
      "text/plain": [
       "Checkpoint 1"
      ]
     },
     "metadata": {},
     "output_type": "display_data"
    },
    {
     "data": {},
     "metadata": {},
     "output_type": "display_data"
    },
    {
     "data": {
      "text/markdown": [
       "<table class=\"qs-stateTable\">\n",
       "  <style>\n",
       "    .qs-stateTable thead tr {\n",
       "      background-color: var(\n",
       "        --vscode-list-hoverBackground,\n",
       "        var(--jp-layout-color1, inherit)\n",
       "      );\n",
       "    }\n",
       "    .qs-stateTable th {\n",
       "      text-align: left;\n",
       "      border: none;\n",
       "    }\n",
       "    .qs-stateTable tbody {\n",
       "      pointer-events: none;\n",
       "    }\n",
       "    .qs-stateTable tbody td {\n",
       "      text-align: left;\n",
       "      border: none;\n",
       "    }\n",
       "    .qs-stateTable tbody td span {\n",
       "      display: inline-block;\n",
       "    }\n",
       "    .qs-stateTable tbody tr:nth-child(even) {\n",
       "      background-color: var(\n",
       "        --vscode-list-hoverBackground,\n",
       "        var(--jp-layout-color1, inherit)\n",
       "      );\n",
       "    }\n",
       "  </style>\n",
       "  <thead>\n",
       "    <tr>\n",
       "      <th>Basis State<br />(|𝜓₁…𝜓ₙ⟩)</th>\n",
       "      <th>Amplitude</th>\n",
       "      <th>Measurement Probability</th>\n",
       "      <th colspan=\"2\">Phase</th>\n",
       "    </tr>\n",
       "  </thead>\n",
       "  <tbody>\n",
       "    <tr>\n",
       "  <td>\n",
       "    <span>|000⟩</span>\n",
       "  </td>\n",
       "  <td>\n",
       "    <span>0.5000+0.0000𝑖</span>\n",
       "  </td>\n",
       "  <td>\n",
       "    <progress max=\"100\" value=\"25.00000000000001\"></progress>\n",
       "    <span>25.0000%</span>\n",
       "  </td>\n",
       "  <td style=\"transform: rotate(0.0000rad)\">↑</td>\n",
       "  <td>\n",
       "    <span>0.0000</span>\n",
       "  </td>\n",
       "</tr>\n",
       "<tr>\n",
       "  <td>\n",
       "    <span>|001⟩</span>\n",
       "  </td>\n",
       "  <td>\n",
       "    <span>0.5000+0.0000𝑖</span>\n",
       "  </td>\n",
       "  <td>\n",
       "    <progress max=\"100\" value=\"25.00000000000001\"></progress>\n",
       "    <span>25.0000%</span>\n",
       "  </td>\n",
       "  <td style=\"transform: rotate(0.0000rad)\">↑</td>\n",
       "  <td>\n",
       "    <span>0.0000</span>\n",
       "  </td>\n",
       "</tr>\n",
       "<tr>\n",
       "  <td>\n",
       "    <span>|110⟩</span>\n",
       "  </td>\n",
       "  <td>\n",
       "    <span>0.5000+0.0000𝑖</span>\n",
       "  </td>\n",
       "  <td>\n",
       "    <progress max=\"100\" value=\"25.00000000000001\"></progress>\n",
       "    <span>25.0000%</span>\n",
       "  </td>\n",
       "  <td style=\"transform: rotate(0.0000rad)\">↑</td>\n",
       "  <td>\n",
       "    <span>0.0000</span>\n",
       "  </td>\n",
       "</tr>\n",
       "<tr>\n",
       "  <td>\n",
       "    <span>|111⟩</span>\n",
       "  </td>\n",
       "  <td>\n",
       "    <span>0.5000+0.0000𝑖</span>\n",
       "  </td>\n",
       "  <td>\n",
       "    <progress max=\"100\" value=\"25.00000000000001\"></progress>\n",
       "    <span>25.0000%</span>\n",
       "  </td>\n",
       "  <td style=\"transform: rotate(0.0000rad)\">↑</td>\n",
       "  <td>\n",
       "    <span>0.0000</span>\n",
       "  </td>\n",
       "</tr>\n",
       "\n",
       "  </tbody>\n",
       "</table>\n",
       "\n",
       "\n",
       "$|\\psi\\rangle = \\frac{1}{2}|000\\rangle+\\frac{1}{2}|001\\rangle+\\frac{1}{2}|110\\rangle+\\frac{1}{2}|111\\rangle$"
      ],
      "text/plain": [
       "STATE:\n",
       "|000⟩: 0.5000+0.0000𝑖\n",
       "|001⟩: 0.5000+0.0000𝑖\n",
       "|110⟩: 0.5000+0.0000𝑖\n",
       "|111⟩: 0.5000+0.0000𝑖"
      ]
     },
     "metadata": {},
     "output_type": "display_data"
    },
    {
     "data": {},
     "metadata": {},
     "output_type": "display_data"
    },
    {
     "data": {
      "text/plain": [
       "Checkpoint 2"
      ]
     },
     "metadata": {},
     "output_type": "display_data"
    },
    {
     "data": {},
     "metadata": {},
     "output_type": "display_data"
    },
    {
     "data": {
      "text/markdown": [
       "<table class=\"qs-stateTable\">\n",
       "  <style>\n",
       "    .qs-stateTable thead tr {\n",
       "      background-color: var(\n",
       "        --vscode-list-hoverBackground,\n",
       "        var(--jp-layout-color1, inherit)\n",
       "      );\n",
       "    }\n",
       "    .qs-stateTable th {\n",
       "      text-align: left;\n",
       "      border: none;\n",
       "    }\n",
       "    .qs-stateTable tbody {\n",
       "      pointer-events: none;\n",
       "    }\n",
       "    .qs-stateTable tbody td {\n",
       "      text-align: left;\n",
       "      border: none;\n",
       "    }\n",
       "    .qs-stateTable tbody td span {\n",
       "      display: inline-block;\n",
       "    }\n",
       "    .qs-stateTable tbody tr:nth-child(even) {\n",
       "      background-color: var(\n",
       "        --vscode-list-hoverBackground,\n",
       "        var(--jp-layout-color1, inherit)\n",
       "      );\n",
       "    }\n",
       "  </style>\n",
       "  <thead>\n",
       "    <tr>\n",
       "      <th>Basis State<br />(|𝜓₁…𝜓ₙ⟩)</th>\n",
       "      <th>Amplitude</th>\n",
       "      <th>Measurement Probability</th>\n",
       "      <th colspan=\"2\">Phase</th>\n",
       "    </tr>\n",
       "  </thead>\n",
       "  <tbody>\n",
       "    <tr>\n",
       "  <td>\n",
       "    <span>|001⟩</span>\n",
       "  </td>\n",
       "  <td>\n",
       "    <span>0.7071+0.0000𝑖</span>\n",
       "  </td>\n",
       "  <td>\n",
       "    <progress max=\"100\" value=\"49.999999999999986\"></progress>\n",
       "    <span>50.0000%</span>\n",
       "  </td>\n",
       "  <td style=\"transform: rotate(0.0000rad)\">↑</td>\n",
       "  <td>\n",
       "    <span>0.0000</span>\n",
       "  </td>\n",
       "</tr>\n",
       "<tr>\n",
       "  <td>\n",
       "    <span>|011⟩</span>\n",
       "  </td>\n",
       "  <td>\n",
       "    <span>0.7071+0.0000𝑖</span>\n",
       "  </td>\n",
       "  <td>\n",
       "    <progress max=\"100\" value=\"49.999999999999986\"></progress>\n",
       "    <span>50.0000%</span>\n",
       "  </td>\n",
       "  <td style=\"transform: rotate(0.0000rad)\">↑</td>\n",
       "  <td>\n",
       "    <span>0.0000</span>\n",
       "  </td>\n",
       "</tr>\n",
       "\n",
       "  </tbody>\n",
       "</table>\n",
       "\n",
       "\n",
       "$|\\psi\\rangle = \\frac{\\sqrt{2}}{2}|001\\rangle+\\frac{\\sqrt{2}}{2}|011\\rangle$"
      ],
      "text/plain": [
       "STATE:\n",
       "|001⟩: 0.7071+0.0000𝑖\n",
       "|011⟩: 0.7071+0.0000𝑖"
      ]
     },
     "metadata": {},
     "output_type": "display_data"
    },
    {
     "data": {},
     "metadata": {},
     "output_type": "display_data"
    }
   ],
   "source": [
    "%%qsharp\n",
    "\n",
    "open Microsoft.Quantum.Diagnostics;\n",
    "\n",
    "// prva pretpostavka algoritma: Alisa i Boban dele sistem u Belovom stanju\n",
    "// za potrebe testiranja, definišaćemo funkciju koja će od dva kubita napraviti taj sistem\n",
    "\n",
    "operation makeBellState(aliceQubit : Qubit, bobQubit : Qubit) : Unit {\n",
    "    // prebacujemo oba kubita u stanje |0>\n",
    "    Reset(aliceQubit);\n",
    "    Reset(bobQubit);\n",
    "    H(aliceQubit);\n",
    "    CNOT(aliceQubit, bobQubit);\n",
    "}\n",
    "\n",
    "// sada možemo definisati funkciju teleportacije\n",
    "operation TeleportMessage(message : Qubit, aliceQubit : Qubit, bobQubit : Qubit) : Unit {\n",
    "\n",
    "    // korak 1: Alisa primenjuje CNOT na svoja dva kubita\n",
    "    CNOT(message, aliceQubit);\n",
    "\n",
    "    // korak 2: Alisa primenjuje H na svom kubitu\n",
    "    H(message);\n",
    "\n",
    "    // korak 3: Alisa vrši kvantno merenje na svoja dva kubita\n",
    "    let m1 = M(message);\n",
    "    let m2 = M(aliceQubit);\n",
    "\n",
    "    // korak 4: Boban koristi rezultate Alisinog merenja da u svoj kubit upiše Alisinu poruku\n",
    "    if m2 == One {\n",
    "        X(bobQubit);\n",
    "    }\n",
    "\n",
    "    if m1 == One {\n",
    "        Z(bobQubit);\n",
    "    }\n",
    "    \n",
    "}\n",
    "\n",
    "use A = Qubit();\n",
    "use B = Qubit();\n",
    "\n",
    "// uzećemo da je početno stanje poruke |+>\n",
    "use mess = Qubit();\n",
    "H(mess);\n",
    "\n",
    "// obezbeđujemo da Alisa i Boban dele sistem u Belovom stanju\n",
    "makeBellState(A, B);\n",
    "\n",
    "\n",
    "Message(\"Checkpoint 1\");\n",
    "DumpMachine();\n",
    "\n",
    "TeleportMessage(mess, A, B);\n",
    "\n",
    "Message(\"Checkpoint 2\");\n",
    "DumpMachine();"
   ]
  },
  {
   "cell_type": "markdown",
   "id": "12aabf6e-863c-4334-b1e6-054d29752764",
   "metadata": {},
   "source": [
    "Kao što vidimo na *Checkpoint 1*, kvantni sistem $A \\otimes B \\otimes mess$ je u stanju $\\ket{\\Phi^+} \\otimes \\ket{+}$. Nakon izvršavanja algoritma, kao što vidimo u *Checkpoint 2*, sistem je u stanju $\\ket{1} \\otimes \\ket{+} \\otimes \\ket{1}$. Dakle, Bobanov kubit $B$ je sada u istom kvantnom stanju kao poruka $mess$ pre izvršavanja algoritma."
   ]
  },
  {
   "cell_type": "markdown",
   "id": "0d649f6b-ae4f-4a07-afe1-4ef26634f58b",
   "metadata": {},
   "source": [
    "## Dojčov problem"
   ]
  },
  {
   "cell_type": "markdown",
   "id": "36f581af-b644-4ad0-b069-d2bc71352aac",
   "metadata": {},
   "source": [
    "Sada ćemo prikazati algoritam koji je eksponencijalno puta brži na kvantnom računaru nego na klasičnom. Algoritam, koji je dobio naziv po engleskom naučniku Dejvidu Dojču (eng. *David Deutsch*), rešava sledeći problem: za datu funkciju $f: \\mathbb{Z}_2 \\xrightarrow{} \\mathbb{Z}_2$, odrediti da li je $f$ bijekcija, odnosno da li je $f(0) \\neq f(1)$ ili je $f(0) = f(1)$.\n",
    "\n",
    "Kako bismo pristupili problemu, najpre ćemo posmatrati sledeću unitarnu transformaciju:\n",
    "\\begin{align*}\n",
    "    \\sqcup_f \\ket{x}\\ket{y} = \\ket{x}\\ket{y +_2 f(x)},\n",
    "\\end{align*} gde su $x, y$ iz skupa $\\{0, 1\\}$. Kao što smo videli u prethdnoj lekciji, ova unitarna transformacija predstavlja kvantni algoritam za izračunavanje funkcije $f(x)$.  Može se pretpostaviti da je $\\sqcup_f$ već dato kao *crna kutija* i da je potrebno, sa što manje poziva te funkcije (primene transformacije $\\sqcup_f$) otkriti da li je $f$ bijekcija ili nije.\n",
    "\n",
    "Pre nego što predstavimo algoritam, daćemo primer ovakvog preslikavanja."
   ]
  },
  {
   "cell_type": "markdown",
   "id": "8b0b4715-6861-418e-b7f2-8102448b93bb",
   "metadata": {},
   "source": [
    "#### Primer transformacije $\\sqcup_f$:"
   ]
  },
  {
   "cell_type": "markdown",
   "id": "5a8fc16e-e05d-449a-a863-88bcac2f3919",
   "metadata": {},
   "source": [
    "Neka je data funkcija $f : \\mathbb{Z}_2 \\xrightarrow[]{} \\mathbb{Z}_2$ za koju važi $f(x) = 1$, za $x \\in \\mathbb{Z}_2$.\n",
    "\n",
    "Dakle, $\\sqcup_f \\ket{x} \\ket{y} = \\ket{x} \\ket{y +_2 1}$. Kao što je poznato u linearnoj algebri, da bismo dobili matricu koja predstavlja linearno preslikavanje $\\sqcup_f$, dovoljno je da odredimo rezultat tog preslikavanja na baznim vektorima. Odatle dobijamo sledeće:\n",
    "\n",
    "\\begin{align*}\n",
    "        \\sqcup_f \\ket{00} = \\ket{01}, \\\\\n",
    "        \\sqcup_f \\ket{01} = \\ket{00}, \\\\\n",
    "        \\sqcup_f \\ket{10} = \\ket{11}, \\\\\n",
    "        \\sqcup_f \\ket{11} = \\ket{10}.\n",
    "\\end{align*}\n",
    "\n",
    "Budući da je $\\ket{0} = (1, 0)^T$, a $\\ket{1} = (0, 1)^T$, dobijamo:\n",
    "\\begin{align*}\n",
    "        \\ket{00} = (1, 0, 0, 0)^T, \\\\\n",
    "        \\ket{01} = (0, 1, 0, 0)^T, \\\\\n",
    "        \\ket{10} = (0, 0, 1, 0)^T, \\\\\n",
    "        \\ket{11} = (0, 0, 0, 1)^T.\n",
    "\\end{align*}\n",
    "\n",
    "Dakle, $\\sqcup_f = \\begin{pmatrix}\n",
    "        0 & 1 & 0 & 0 \\\\\n",
    "        1 & 0 & 0 & 0 \\\\\n",
    "        0 & 0 & 0 & 1 \\\\\n",
    "        0 & 0 & 1 & 0\n",
    "    \\end{pmatrix}$.\n",
    "\n",
    "Primetimo da je ovo preslikavanje ekvivalentno sa $I \\otimes X$."
   ]
  },
  {
   "cell_type": "markdown",
   "id": "2388d8d0-ef01-426b-8e9a-5d8792ca1cad",
   "metadata": {},
   "source": [
    "Algoritam se zasniva na jednom *triku*. Ako postavimo $x \\in \\{0, 1\\}$, $y = \\ket{-} = \\frac{1}{\\sqrt{2}}(\\ket{0} - \\ket{1})$, dobijamo:\n",
    "\\begin{align*}\n",
    "    \\sqcup_f \\ket{x} \\ket{-} = & \\frac{1}{\\sqrt{2}} \\sqcup_f \\ket{x} \\ket{0} - \\frac{1}{\\sqrt{2}} \\sqcup_f \\ket{x} \\ket{1} \\\\\n",
    "    = & \\frac{1}{\\sqrt{2}} \\ket{x} \\ket{f(x)} - \\frac{1}{\\sqrt{2}} \\ket{x} \\ket{f(x) +_2 1} \\\\\n",
    "    = & (-1)^{f(x)} \\ket{x}\\ket{-}.\n",
    "\\end{align*}\n",
    "\n",
    "Ako postavimo sada $x = \\ket{+}$, dobijamo:\n",
    "\\begin{align*}\n",
    "    \\sqcup_f \\ket{+} \\ket{-} = & \\frac{1}{\\sqrt{2}} \\sqcup_f \\ket{0}\\ket{-} + \\frac{1}{\\sqrt{2}} \\sqcup_f \\ket{1}\\ket{-} \\\\\n",
    "    = & \\frac{1}{\\sqrt{2}}\\left( (-1)^{f(0)} \\ket{0}\\ket{-} + (-1)^{f(1)} \\ket{1}\\ket{-} \\right) \\\\\n",
    "    = & \\frac{(-1)^{f(0)}}{\\sqrt{2}} \\left(\\ket{0}\\ket{-} + (-1)^{f(0) +_2 f(1)} \\ket{1} \\ket{-} \\right).\n",
    "\\end{align*}\n",
    "\n",
    "Ako je $f$ bijekcija, biće $f(0) +_2 f(1) = 1$, a u suprotnom će biti $f(0) +_2 f(1) = 0$. Kada je $f(0) +_2 f(1) = 1$, $\\sqcup_f \\ket{+} \\ket{-} = (-1)^{f(0)} \\ket{-} \\ket{-}$; za $f(0) +_2 f(1) = 0$, $\\sqcup_f \\ket{+} \\ket{-} = (-1)^{f(0)} \\ket{+} \\ket{-}$. Odavde sledi da možemo, nakon primene $\\sqcup_f$ na ulazu $\\ket{+}\\ket{-}$, da razlikujemo da li je $f$ bijekcija ili nije, tako što primenimo kvantno merenje u Adamarovoj bazi na prvom kubitu."
   ]
  },
  {
   "cell_type": "markdown",
   "id": "71b0c8d3-26e1-4eaa-a7fc-b84a86299d70",
   "metadata": {},
   "source": [
    "#### Primer:\n",
    "\n",
    "Neka je $\\sqcup_f$ kao u prethodnom primeru. Odatle sledi:\n",
    "    \\begin{align*}\n",
    "        \\sqcup_f \\ket{+} \\ket{-} &= \\begin{pmatrix}\n",
    "        0 & 1 & 0 & 0 \\\\\n",
    "        1 & 0 & 0 & 0 \\\\\n",
    "        0 & 0 & 0 & 1 \\\\\n",
    "        0 & 0 & 1 & 0\n",
    "    \\end{pmatrix} \\left( \\begin{pmatrix}\n",
    "        \\frac{1}{\\sqrt{2}} \\\\  \\frac{1}{\\sqrt{2}}\n",
    "    \\end{pmatrix} \\otimes \\begin{pmatrix}\n",
    "        \\frac{1}{\\sqrt{2}} \\\\ -\\frac{1}{\\sqrt{2}}\n",
    "    \\end{pmatrix} \\right) \\\\\n",
    "    &= \\begin{pmatrix}\n",
    "        0 & 1 & 0 & 0 \\\\\n",
    "        1 & 0 & 0 & 0 \\\\\n",
    "        0 & 0 & 0 & 1 \\\\\n",
    "        0 & 0 & 1 & 0\n",
    "    \\end{pmatrix} \\begin{pmatrix}\n",
    "        \\frac{1}{2} \\\\ -\\frac{1}{2} \\\\ \\frac{1}{2} \\\\ -\\frac{1}{2}\n",
    "    \\end{pmatrix} = \\begin{pmatrix}\n",
    "        -\\frac{1}{2} \\\\ \\frac{1}{2} \\\\ -\\frac{1}{2} \\\\ \\frac{1}{2}\n",
    "    \\end{pmatrix} = -\\ket{+}\\ket{-}.\n",
    "    \\end{align*}"
   ]
  },
  {
   "cell_type": "markdown",
   "id": "7da2a640-7e09-47f8-bfd6-c43624d29860",
   "metadata": {},
   "source": [
    "Obično se algoritam realizuje ovako:\n",
    "\\begin{enumerate}\n",
    "1. Početno stanje je $\\ket{00}$.\n",
    "2. Primeni Adamarovu transformaciju na prvom kubitu, a na drugom primeni Paulijevu $X$ transformaciju. Sada je stanje $\\ket{+}\\ket{1}$.\n",
    "3. Primeni Adamarovu transformaciju na drugom kubitu. Sada je stanje $\\ket{+}\\ket{-}$.\n",
    "4. Primeni transformaciju $\\sqcup_f$ na oba kubita. Sada je stanje $\\ket{+}\\ket{-}$ ako $f$ nije bijekcija, a inače je $\\ket{-}\\ket{-}$.\n",
    "5. Primeni Adamarovu transformaciju na prvom kubitu. Ako $f$ nije bijekcija, $\\sqcup_f \\ket{+}\\ket{-} = (-1)^{f(0)} \\ket{+}\\ket{-}$. Primenom Adamarove transformacije na prvom kubitu, stanje ovog sistema postaje $(-1)^{f(0)} \\ket{0}\\ket{-}$. Slično, ako je $f$ bijekcija, stanje sistema postaje $(-1)^{f(0)} \\ket{1}\\ket{-}$.\n",
    "6. Primeni merenje u kanonskoj bazi. Ako je rezultat $0$, $f$ nije bijekcija, a inače jeste.\n",
    "\n",
    "Na klasičnom računaru su potrebna dva poziva funkcije $f$ da bi se ovo odredilo, dok je na kvantnom računaru dovoljan jedan poziv unitarne transformacije $\\sqcup_f$. Dakle, kvantni algoritam radi sa duplo manje poziva funkcije $f$, odnosno $\\sqcup_f$."
   ]
  },
  {
   "cell_type": "markdown",
   "id": "e4cdecc6-0754-4920-a2be-fd5de0151365",
   "metadata": {},
   "source": [
    "### Q# i Dojčov problem"
   ]
  },
  {
   "cell_type": "code",
   "execution_count": 3,
   "id": "c71a7942-1d5e-4354-91e5-66847a22246f",
   "metadata": {},
   "outputs": [
    {
     "data": {
      "text/plain": [
       "U1 je bijekcija: false"
      ]
     },
     "metadata": {},
     "output_type": "display_data"
    },
    {
     "data": {},
     "metadata": {},
     "output_type": "display_data"
    }
   ],
   "source": [
    "%%qsharp\n",
    "\n",
    "operation HadamardMeasurement(q : Qubit) : Result {\n",
    "    H(q);\n",
    "    return M(q);\n",
    "}\n",
    "\n",
    "operation Deutsch(U : (Qubit, Qubit) => Unit is Adj) : Bool {\n",
    "    use q1 = Qubit();\n",
    "    use q2 = Qubit();\n",
    "\n",
    "    // q1 = |0>  --> |+>\n",
    "    H(q1);\n",
    "    // q2 = |0> --> |1> --> |->\n",
    "    X(q2);\n",
    "    H(q2);\n",
    "\n",
    "    U(q1, q2);\n",
    "\n",
    "    let m = HadamardMeasurement(q1);\n",
    "\n",
    "    // pre završetka funkcije, moramo resetovati kubite\n",
    "    Reset(q1);\n",
    "    Reset(q2);\n",
    "\n",
    "    return m == One;\n",
    "\n",
    "}\n",
    "\n",
    "operation U1(q1 : Qubit, q2 : Qubit) : Unit is Adj {\n",
    "    X(q2);  \n",
    "}\n",
    "\n",
    "\n",
    "Message($\"U1 je bijekcija: {Deutsch(U1)}\");"
   ]
  },
  {
   "cell_type": "markdown",
   "id": "4a35aa46-fc4c-4a63-ba9a-b933314ff2b9",
   "metadata": {},
   "source": [
    "Pokušajmo sada sa funkcijom koja jeste bijekcija, recimo $f(0) = 1$, $f(1) = 0$. Nju opisuje transformacija:\n",
    "\\begin{align*}\n",
    "\\sqcup_f \\ket{00} = \\ket{01}, \\\\\n",
    "\\sqcup_f \\ket{01} = \\ket{00}, \\\\\n",
    "\\sqcup_f \\ket{10} = \\ket{10}, \\\\\n",
    "\\sqcup_f \\ket{11} = \\ket{11}.\n",
    "\\end{align*}\n",
    "\n",
    "Ova transformacija je ekvivalentna sa $(X \\otimes I)(CNOT(X \\otimes I))$."
   ]
  },
  {
   "cell_type": "code",
   "execution_count": 4,
   "id": "8e422d2a-c3a2-4e24-9251-91d7e4c6066e",
   "metadata": {},
   "outputs": [
    {
     "data": {
      "text/plain": [
       "U2 je bijekcija: true"
      ]
     },
     "metadata": {},
     "output_type": "display_data"
    },
    {
     "data": {},
     "metadata": {},
     "output_type": "display_data"
    }
   ],
   "source": [
    "%%qsharp\n",
    "\n",
    "operation U2(q1 : Qubit, q2 : Qubit) : Unit is Adj {\n",
    "    X(q1);\n",
    "    CNOT(q1, q2);\n",
    "    X(q1);\n",
    "}\n",
    "\n",
    "Message($\"U2 je bijekcija: {Deutsch(U2)}\");"
   ]
  },
  {
   "cell_type": "markdown",
   "id": "b50f0e36-748b-468b-9c36-93d5e6c96b41",
   "metadata": {},
   "source": [
    "## Algoritam Dojča i Jože"
   ]
  },
  {
   "cell_type": "markdown",
   "id": "29afc4e3-9271-4ebf-9687-a1d67e605a1f",
   "metadata": {},
   "source": [
    "Ovaj algoritam, koji je dobio naziv po Dejvidu Dojču i profesoru Ričardu Joži, rešava opštiji slučaj Dojčovog problema. Funkcija $f: \\{0, 1\\}^n \\xrightarrow{} \\{0, 1\\}$ sada može uzeti vrednosti od $0$ do $2^{n - 1}$, za neko $n$ i ona je ili konstantna, ili je *balansirana*, odnosno $2^{n - 1}$ vrednosti je $0$, a $2^{n - 1}$ vrednosti je $1$.\n",
    "\n",
    "Originalni algoritam je zahtevao dva poziva funkcije $\\sqcup_f$, ali je kasnije pokazano kako se broj poziva može smanjiti na jedan.\n",
    "\n",
    "Osnovna ideja se zasniva na slučaju $n = 1$. Ako posmatramo niz kubita $\\ket{x_i}$, gde je $x_i \\in \\{0, 1\\}^{n}$ kao stanje $\\ket{i}$, gde je $x_i$ binarni zapis broja $i$, ispostavlja se da važi:\n",
    "\\begin{align*}\n",
    "    \\sqcup_f \\ket{i}\\ket{-} = (-1)^{f(i)} \\ket{i} \\ket{-}.\n",
    "\\end{align*}\n",
    "\n",
    "Na osnovu ovoga se pokazuje da se prethodni algoritam može uopštiti na sledeći način:\n",
    "1. Početno stanje je $\\ket{0}^{\\otimes (n + 1)}$.\n",
    "2. Primeni Adamarovu transformaciju na niz od prvih $n$ kubita, a na poslednjem primeni Paulijevu $X$ transformaciju. Sada je stanje $\\ket{+}^{\\otimes n} \\ket{1}$\n",
    "3. Primeni Adamarovu transformaciju na poslednjem kubitu od $\\ket{+}^{\\otimes n} \\ket{1}$, čime dobijaš stanje $\\ket{+}^{\\otimes n} \\ket{-}$\n",
    "4. Primeni transformaciju $\\sqcup_f$ na svim kubitima.\n",
    "5. Primeni Adamarovu transformaciju na nizu od prvih $n$ kubita. Ako $f$ nije balansirana, stanje je $\\ket{0}^{\\otimes n}\\ket{-}$.\n",
    "6. Primeni merenje u kanonskoj bazi. Ako je rezultat $0$, $f$ nije balansirana, a inače jeste.\n",
    "\n",
    "Ovde možemo primetiti da je potreban samo jedan poziv funkcije $\\sqcup_f$ i $O(n)$ ostalih operacija, dok je na klasičnom računaru potrebno bar $2^{n - 1} + 1$ poziva funkcije $f$ da bi se odredilo da li je $f$ balansirana. Jedan od razloga za ovoliko ubrzanje dolazi od toga što na kvantnim računarima jedan kubit predstavlja veći broj podataka nego što to čini jedan bit u klasičnom računaru. Zbog toga smo, analizom rada funkcije $\\sqcup_f$ na nizu kubita $\\ket{+}^{\\otimes(n - 1)}\\ket{-}$ mogli da odredimo njeno ponašanje na kubitima $\\ket{x_i}$."
   ]
  },
  {
   "cell_type": "markdown",
   "id": "7e0b7556-1434-4930-ab74-8cd3f25182f0",
   "metadata": {},
   "source": [
    "### Q# i algoritam Dojča i Jože"
   ]
  },
  {
   "cell_type": "markdown",
   "id": "4d69c7c5-e092-4768-8a15-88a74ee12e08",
   "metadata": {},
   "source": [
    "Implementacija sledi iz opisa algoritma. Testiraćemo algoritam na istom ulazu koji smo koristili kad smo testirali Dojčov."
   ]
  },
  {
   "cell_type": "code",
   "execution_count": 5,
   "id": "0c72e7ee-22cb-486d-a1ef-b94688c9c31f",
   "metadata": {},
   "outputs": [
    {
     "data": {
      "text/plain": [
       "U3 je balansirana: false"
      ]
     },
     "metadata": {},
     "output_type": "display_data"
    },
    {
     "data": {},
     "metadata": {},
     "output_type": "display_data"
    },
    {
     "data": {
      "text/plain": [
       "U4 je balansirana: true"
      ]
     },
     "metadata": {},
     "output_type": "display_data"
    },
    {
     "data": {},
     "metadata": {},
     "output_type": "display_data"
    }
   ],
   "source": [
    "%%qsharp\n",
    "\n",
    "operation DeutschJozsa(n : Int, U : Qubit[] => Unit) : Bool {\n",
    "    // korak 1: početno stanje je |0>^{n + 1}\n",
    "    use qubits = Qubit[n + 1];\n",
    "\n",
    "    // korak 2: Adamar na svima, osim na poslednjem; na poslednjem X\n",
    "    for i in 0..n-1 {\n",
    "        H(qubits[i]);\n",
    "    }\n",
    "    X(qubits[n]);\n",
    "\n",
    "    // korak 3: Adamar na poslednjem\n",
    "    H(qubits[n]);\n",
    "\n",
    "    // korak 4: Uf\n",
    "    U(qubits);\n",
    "\n",
    "    // korak 5: Adamar na prvih n\n",
    "    for i in 0..n-1 {\n",
    "        H(qubits[i]);\n",
    "    }\n",
    "\n",
    "    // korak 6: merenje u kanonskoj bazi\n",
    "    mutable r = 0;\n",
    "    for i in 0..n-1 {\n",
    "        r *= 2;\n",
    "        if M(qubits[i]) == One {\n",
    "            r += 1;\n",
    "        }\n",
    "    }\n",
    "\n",
    "    // moramo resetovati sve kubite\n",
    "    for i in 0..n {\n",
    "        Reset(qubits[i]);\n",
    "    }\n",
    "\n",
    "    // ako je r = 0, onda nije balansirana; inače jeste\n",
    "    return r != 0;\n",
    "}\n",
    "\n",
    "operation U3(qubits : Qubit[]) : Unit {\n",
    "    U1(qubits[0], qubits[1]);\n",
    "}\n",
    "\n",
    "operation U4(qubits : Qubit[]) : Unit {\n",
    "    U2(qubits[0], qubits[1]);\n",
    "}\n",
    "\n",
    "\n",
    "Message($\"U3 je balansirana: {DeutschJozsa(1, U3)}\");\n",
    "Message($\"U4 je balansirana: {DeutschJozsa(1, U4)}\");"
   ]
  },
  {
   "cell_type": "markdown",
   "id": "4f94efe0-62ce-4140-8bc8-1797e098449d",
   "metadata": {},
   "source": [
    "Možda ne bi bilo loše da testiramo algoritam na malo većoj funkciji. Probaćemo na funkciji $f : \\{0, 1\\}^2 \\xrightarrow{} \\{0, 1\\}$. Neka je $f(0) = 0$, $f(1) = 1$, $f(2) = 0$, $f(3) = 1$. Odatle je $\\sqcup_f$ definisana narednim jednačinama:\n",
    "\\begin{align*}\n",
    "\\sqcup_f \\ket{000} = \\ket{000}, \\\\\n",
    "\\sqcup_f \\ket{001} = \\ket{001}, \\\\\n",
    "\\sqcup_f \\ket{010} = \\ket{011}, \\\\\n",
    "\\sqcup_f \\ket{011} = \\ket{010}, \\\\\n",
    "\\sqcup_f \\ket{100} = \\ket{100}, \\\\\n",
    "\\sqcup_f \\ket{101} = \\ket{101}, \\\\\n",
    "\\sqcup_f \\ket{110} = \\ket{111}, \\\\\n",
    "\\sqcup_f \\ket{111} = \\ket{110}, \\\\\n",
    "\\end{align*}\n",
    "\n",
    "Sada ćemo predstaviti $\\sqcup_f$ preko elementarnih transformacija. Primetimo da se stanje trećeg bita menja ako je stanje prva dva $\\ket{01}$ ili $\\ket{11}$. Ako primenimo $CCNOT$, rešili smo drugi slučaj. Ako primenimo $X \\otimes I \\otimes I$, pa $CCNOT$, pa $X \\otimes I \\otimes I$, rešili smo i prvi slučaj. Dakle, tvrdimo da naredni kod opisuje funkciju $\\sqcup_f$."
   ]
  },
  {
   "cell_type": "code",
   "execution_count": 6,
   "id": "2c141d8c-0dee-4e2f-a805-149185809a2c",
   "metadata": {},
   "outputs": [],
   "source": [
    "%%qsharp\n",
    "\n",
    "operation U5(qubits : Qubit[]) : Unit {\n",
    "    let x1 = qubits[0];\n",
    "    let x2 = qubits[1];\n",
    "    let y = qubits[2];\n",
    "\n",
    "    CCNOT(x1, x2, y);\n",
    "    X(x1);\n",
    "    CCNOT(x1, x2, y);\n",
    "    X(x1);\n",
    "}"
   ]
  },
  {
   "cell_type": "markdown",
   "id": "528aedf9-1295-4558-8884-a27116f2b749",
   "metadata": {},
   "source": [
    "Lako se proverava da je ova funkcija ispravna. To se može uraditi tako što se preko DumpMachine() testira rezultat svakog baznog vektora. Potrebno je posmatrati poslednja tri kubita u sistemu, jer prva tri su vezana za testiranje kvantne teleportacije."
   ]
  },
  {
   "cell_type": "code",
   "execution_count": 7,
   "id": "0b09d514-09cc-4f2b-a8ac-52f1e729ff86",
   "metadata": {},
   "outputs": [
    {
     "data": {
      "text/plain": [
       "U5 je balansirana: true"
      ]
     },
     "metadata": {},
     "output_type": "display_data"
    },
    {
     "data": {},
     "metadata": {},
     "output_type": "display_data"
    }
   ],
   "source": [
    "%%qsharp\n",
    "\n",
    "Message($\"U5 je balansirana: {DeutschJozsa(2, U5)}\");"
   ]
  }
 ],
 "metadata": {
  "kernelspec": {
   "display_name": "Python 3 (ipykernel)",
   "language": "python",
   "name": "python3"
  },
  "language_info": {
   "codemirror_mode": {
    "name": "ipython",
    "version": 3
   },
   "file_extension": ".py",
   "mimetype": "text/x-python",
   "name": "python",
   "nbconvert_exporter": "python",
   "pygments_lexer": "ipython3",
   "version": "3.12.3"
  }
 },
 "nbformat": 4,
 "nbformat_minor": 5
}
