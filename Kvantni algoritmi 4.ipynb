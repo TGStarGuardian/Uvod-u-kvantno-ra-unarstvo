{
 "cells": [
  {
   "cell_type": "markdown",
   "id": "c36c955e-16ee-4a30-b564-6265a365e55b",
   "metadata": {},
   "source": [
    "# Kvantni algoritmi 4"
   ]
  },
  {
   "cell_type": "markdown",
   "id": "43872d80-6f4f-419f-bc6a-ed705b4579bb",
   "metadata": {},
   "source": [
    "## Kvantna kola za računanje klasičnih funkcija"
   ]
  },
  {
   "cell_type": "markdown",
   "id": "794e5469-9eb7-4eab-ae7b-fee1f460b8e5",
   "metadata": {},
   "source": [
    "Pre nego što opišemo Šorov algoritam, obradićemo jednu klasu kvantnih algoritama: algoritmi koji izračunavaju klasične funkcije. Klasične funkcije su bitne i u kvantnom računarstvu, jer one su osnova nekih bitnih kvantnih algoritama, kao što je Šorov algoritam koji se zasniva na efikasnoj implementaciji kvantnog kola koje računa modularno stepenovanje broja.\n",
    "\n",
    "Što se uvoda tiče i kvantnih sabirača, koristimo algoritme iz ove [knjige](https://mitpress.mit.edu/9780262526678/quantum-computing/). Nažalost, algoritmi koji rade modularne operacije iz iste knjige sadrže neotklonjive greške. Zbog toga ćemo pokušati da implementiramo svoje algoritme koji rade isti zadatak."
   ]
  },
  {
   "cell_type": "markdown",
   "id": "8195e242-0b69-42f0-9c6b-c8a17c9cdd15",
   "metadata": {},
   "source": [
    "#### Glavna ideja:"
   ]
  },
  {
   "cell_type": "markdown",
   "id": "043d3cb8-1488-4c16-8791-4daf4df25af0",
   "metadata": {},
   "source": [
    "Kvantna kola bez kvantnog merenja su *reverzibilna*, jer je unitarna transformacija invertibilna. Klasična kola u opštem slučaju nisu reverzibilna."
   ]
  },
  {
   "cell_type": "markdown",
   "id": "a2ff196a-4922-4bd9-a1dc-74e3cf0d08eb",
   "metadata": {},
   "source": [
    "Reverzibilno klasično kolo koje ima $n$ bitova na ulazu i $n$ bitova na izlazu se može predstaviti kao bijekcija $f: \\mathbb{Z}^n \\xrightarrow{} \\mathbb{Z}^n$, odnosno kao permutacija skupa $\\mathbb{Z}^n$. Kada nam je ova funkcija poznata, kvantno kolo koje izračunava $f$ se može, na baznim vektorima $\\ket{x}$, odrediti jednačinom:\n",
    "\\begin{align*}\n",
    "\\sqcup_f \\ket{x} = \\sqcup_f \\ket{f(x)}.\n",
    "\\end{align*}"
   ]
  },
  {
   "cell_type": "markdown",
   "id": "32eba1cc-b464-459c-aa7d-90ed4c67f1d3",
   "metadata": {},
   "source": [
    "U slučaju da je $f: \\mathbb{Z}^n \\xrightarrow{} \\mathbb{Z}^m$, za $n \\neq m$, ovo klasično kolo možemo prevesti u reverzibilno klasično kolo definisanjem funkcije $g: \\mathbb{Z}^{n + m} \\xrightarrow{} \\mathbb{Z}^{n + m}$:\n",
    "\\begin{align*}\n",
    "g(x, y) = (x, y \\oplus f(x)),\n",
    "\\end{align*} za sve $x \\in \\mathbb{Z}^n$ i $y \\in \\mathbb{Z}^m$, gde je $\\oplus$ bitovski $XOR$.\n",
    "\n",
    "Odavde sledi konstrukcija za kvantno kolo $\\sqcup_f$ definisano jednačinama na baznim vektorima $\\ket{x} \\otimes \\ket{y}$:\n",
    "\\begin{align*}\n",
    "\\sqcup_f \\ket{x} \\ket{y} = \\ket{x} \\ket{y \\oplus f(x)}.\n",
    "\\end{align*}"
   ]
  },
  {
   "cell_type": "markdown",
   "id": "a8d3573a-20b0-474f-8187-ce00176ad050",
   "metadata": {},
   "source": [
    "### NOT:"
   ]
  },
  {
   "cell_type": "markdown",
   "id": "598958d1-e9b1-4326-b5a8-c2ea6616e2da",
   "metadata": {},
   "source": [
    "Kvantno kolo $X$ je analog klasičnom kolu $NOT$. Zaista, bijekcija koja računa $NOT$ je $f(0) = 1$, $f(1) = 0$. Odavde je $\\sqcup_f = X$."
   ]
  },
  {
   "cell_type": "markdown",
   "id": "bebf05e5-e138-4aea-9b07-548fe956c5b4",
   "metadata": {},
   "source": [
    "### XOR:"
   ]
  },
  {
   "cell_type": "markdown",
   "id": "5acbc910-b8c7-4197-9996-a1cf25ad22e7",
   "metadata": {},
   "source": [
    "Standardna verzija funkcije koja izračunava $XOR$ je $f(x, y) = x \\oplus y$. Broj bitova na ulazu je $2$, a broj bitova na izlazu je $1$. Ako bismo pratili postupak koji smo dali kada je $n \\neq m$, reverzibilno klasično kolo bi imalo $3$ bitova na ulazu i na izlazu. U ovom slučaju može i efikasnije, ako se uzme $f(x, y) = (x, x \\oplus y)$, što daje $2$ bitova na ulazu i na izlazu. Dakle, $\\sqcup_f$ je određeno jednačinama:\n",
    "\\begin{align*}\n",
    "\\sqcup_f \\ket{x} \\ket{y} = \\ket{x} \\ket{y \\oplus x},\n",
    "\\end{align*} za sve bazne vektore $\\ket{x}\\ket{y}$. Odavde nije teško dokazati da je $\\sqcup_f = CNOT$."
   ]
  },
  {
   "cell_type": "markdown",
   "id": "21140b9b-4cf7-427f-a3c8-fa2cba1fcb2f",
   "metadata": {},
   "source": [
    "### AND:\n",
    "\n",
    "Standardna verzija funkcije koja izračunava $AND$ je $f(x, y) = 1$ ako i samo ako je $x = 1$ i $y = 1$. Reverzibilna verzija se može konstruisati postupkom koji smo dali iznad, čime dobijamo $g(x, y, z) = (x, y, z \\oplus f(x, y))$. Odavde se lako dobija $\\sqcup_f$. Primetimo da će vrednost $f(x, y)$ biti $1$ ako i samo ako su $x$ i $y$ jednaki $1$. U tom slučaju se vrednost od $z$ invertuje, a inače vrednost trećeg bita na izlazu ostaje ista. Na kvantnom računaru ovo ponašanje na baznim vektorima ima $CCNOT$. Dakle, $\\sqcup_f = CCNOT$."
   ]
  },
  {
   "cell_type": "markdown",
   "id": "90651fca-d709-48f1-8a00-3ead37e85c8a",
   "metadata": {},
   "source": [
    "### NAND:\n",
    "\n",
    "$NAND$ predstavlja kompoziciju $AND$ i $NOT$. Nakon dobijanja $\\ket{x}\\ket{y}\\ket{z \\otimes f(x, y)}$, primenom $X$ na trećem kubitu se dobija $\\ket{x}\\ket{y}\\ket{z \\otimes NOT(f(x, y))} = \\ket{x}\\ket{y}\\ket{z \\otimes NAND(x, y)}$. Kvantno kolo koje implementira ovo je $(I \\otimes I \\otimes X)CCNOT$."
   ]
  },
  {
   "cell_type": "markdown",
   "id": "4abed3d0-b38d-4aef-80dc-2ed910ec6a34",
   "metadata": {},
   "source": [
    "### Alternativna konstrukcija:\n",
    "\n",
    "Moguće je sve četiri prethodne operacije objediniti jednom operacijom $CCNOT$, ako se argumenti dobro nameste. To je zahvaljujući tome što važe naredne jednakosti:\n",
    "\\begin{align*}\n",
    "CCNOT \\ket{11}\\ket{x} &= \\ket{11}\\ket{NOT(x)}, \\\\\n",
    "CCNOT \\ket{1}\\ket{x}\\ket{y} &= \\ket{1}\\ket{x}\\ket{x \\oplus y}, \\\\\n",
    "CCNOT \\ket{x}\\ket{y}\\ket{0} &= \\ket{x}\\ket{y}\\ket{AND(x, y)}, \\\\\n",
    "CCNOT \\ket{x}\\ket{y}\\ket{1} &= \\ket{x}\\ket{y}\\ket{NAND(x, y)},\n",
    "\\end{align*} za bazne vektore $\\ket{x}$ i $\\ket{y}$."
   ]
  },
  {
   "cell_type": "markdown",
   "id": "18a42019-1548-43d7-a1eb-947480d4fc56",
   "metadata": {},
   "source": [
    "### Sabirač:"
   ]
  },
  {
   "cell_type": "markdown",
   "id": "d5658ae3-fef1-4af2-b624-cef1fc4870f0",
   "metadata": {},
   "source": [
    "#### Sabiranje dva bita:"
   ]
  },
  {
   "cell_type": "markdown",
   "id": "a11cdc98-1c42-4564-9163-4f8e9aecd259",
   "metadata": {},
   "source": [
    "Ova konstrukcija je elementarna i biće korišćena da definiše složenije sabirače. Na ulazu se nalaze bitovi $a$ i $b$ koje treba sabrati i prenosni bit $c$. Dakle, rezultat treba da bude $(a +_2 b +_2 c)$. Na klasičnom računaru, ovo ponašanje definiše funkcija $f(c, a, b) = (a \\oplus b \\oplus c)$. Da bi ta funkcija postala reverzibilna, možemo definisati $g(c, a, b) = (c, a, c \\oplus a \\oplus b)$. Pomoću $CNOT$ kvantnih kola, možemo na trećem kubitu dodavati $XOR$ operacije, kao što vidimo u kodu ispod."
   ]
  },
  {
   "cell_type": "markdown",
   "id": "6adfe9e5-9365-4df4-b4a6-34ffad74ed68",
   "metadata": {},
   "source": [
    "##### Sabiranje dva bita u Q#"
   ]
  },
  {
   "cell_type": "code",
   "execution_count": 1,
   "id": "269dd3d2-e9af-4e61-887d-b9a6d886b760",
   "metadata": {},
   "outputs": [
    {
     "data": {
      "application/javascript": [
       "// Copyright (c) Microsoft Corporation.\n",
       "// Licensed under the MIT License.\n",
       "\n",
       "// This file provides CodeMirror syntax highlighting for Q# magic cells\n",
       "// in classic Jupyter Notebooks. It does nothing in other (Jupyter Notebook 7,\n",
       "// VS Code, Azure Notebooks, etc.) environments.\n",
       "\n",
       "// Detect the prerequisites and do nothing if they don't exist.\n",
       "if (window.require && window.CodeMirror && window.Jupyter) {\n",
       "  // The simple mode plugin for CodeMirror is not loaded by default, so require it.\n",
       "  window.require([\"codemirror/addon/mode/simple\"], function defineMode() {\n",
       "    let rules = [\n",
       "      {\n",
       "        token: \"comment\",\n",
       "        regex: /(\\/\\/).*/,\n",
       "        beginWord: false,\n",
       "      },\n",
       "      {\n",
       "        token: \"string\",\n",
       "        regex: String.raw`^\\\"(?:[^\\\"\\\\]|\\\\[\\s\\S])*(?:\\\"|$)`,\n",
       "        beginWord: false,\n",
       "      },\n",
       "      {\n",
       "        token: \"keyword\",\n",
       "        regex: String.raw`(namespace|open|as|operation|function|body|adjoint|newtype|controlled|internal)\\b`,\n",
       "        beginWord: true,\n",
       "      },\n",
       "      {\n",
       "        token: \"keyword\",\n",
       "        regex: String.raw`(if|elif|else|repeat|until|fixup|for|in|return|fail|within|apply)\\b`,\n",
       "        beginWord: true,\n",
       "      },\n",
       "      {\n",
       "        token: \"keyword\",\n",
       "        regex: String.raw`(Adjoint|Controlled|Adj|Ctl|is|self|auto|distribute|invert|intrinsic)\\b`,\n",
       "        beginWord: true,\n",
       "      },\n",
       "      {\n",
       "        token: \"keyword\",\n",
       "        regex: String.raw`(let|set|use|borrow|mutable)\\b`,\n",
       "        beginWord: true,\n",
       "      },\n",
       "      {\n",
       "        token: \"operatorKeyword\",\n",
       "        regex: String.raw`(not|and|or)\\b|(w/)`,\n",
       "        beginWord: true,\n",
       "      },\n",
       "      {\n",
       "        token: \"operatorKeyword\",\n",
       "        regex: String.raw`(=)|(!)|(<)|(>)|(\\+)|(-)|(\\*)|(/)|(\\^)|(%)|(\\|)|(&&&)|(~~~)|(\\.\\.\\.)|(\\.\\.)|(\\?)`,\n",
       "        beginWord: false,\n",
       "      },\n",
       "      {\n",
       "        token: \"meta\",\n",
       "        regex: String.raw`(Int|BigInt|Double|Bool|Qubit|Pauli|Result|Range|String|Unit)\\b`,\n",
       "        beginWord: true,\n",
       "      },\n",
       "      {\n",
       "        token: \"atom\",\n",
       "        regex: String.raw`(true|false|Pauli(I|X|Y|Z)|One|Zero)\\b`,\n",
       "        beginWord: true,\n",
       "      },\n",
       "    ];\n",
       "    let simpleRules = [];\n",
       "    for (let rule of rules) {\n",
       "      simpleRules.push({\n",
       "        token: rule.token,\n",
       "        regex: new RegExp(rule.regex, \"g\"),\n",
       "        sol: rule.beginWord,\n",
       "      });\n",
       "      if (rule.beginWord) {\n",
       "        // Need an additional rule due to the fact that CodeMirror simple mode doesn't work with ^ token\n",
       "        simpleRules.push({\n",
       "          token: rule.token,\n",
       "          regex: new RegExp(String.raw`\\W` + rule.regex, \"g\"),\n",
       "          sol: false,\n",
       "        });\n",
       "      }\n",
       "    }\n",
       "\n",
       "    // Register the mode defined above with CodeMirror\n",
       "    window.CodeMirror.defineSimpleMode(\"qsharp\", { start: simpleRules });\n",
       "    window.CodeMirror.defineMIME(\"text/x-qsharp\", \"qsharp\");\n",
       "\n",
       "    // Tell Jupyter to associate %%qsharp magic cells with the qsharp mode\n",
       "    window.Jupyter.CodeCell.options_default.highlight_modes[\"qsharp\"] = {\n",
       "      reg: [/^%%qsharp/],\n",
       "    };\n",
       "\n",
       "    // Force re-highlighting of all cells the first time this code runs\n",
       "    for (const cell of window.Jupyter.notebook.get_cells()) {\n",
       "      cell.auto_highlight();\n",
       "    }\n",
       "  });\n",
       "}\n"
      ],
      "text/plain": []
     },
     "metadata": {},
     "output_type": "display_data"
    }
   ],
   "source": [
    "import qsharp"
   ]
  },
  {
   "cell_type": "code",
   "execution_count": 2,
   "id": "57b20315-2a0e-4565-9f23-9097e107c387",
   "metadata": {},
   "outputs": [],
   "source": [
    "%%qsharp\n",
    "\n",
    "open Microsoft.Quantum.Diagnostics;\n",
    "\n",
    "operation BitAdd(c : Qubit, a : Qubit, b : Qubit) : Unit is Adj + Ctl {\n",
    "    CNOT(a, b);\n",
    "    CNOT(c, b);\n",
    "}"
   ]
  },
  {
   "cell_type": "markdown",
   "id": "43418434-1d1b-4613-979a-3984a7238cb8",
   "metadata": {},
   "source": [
    "##### Računanje prenosa:\n",
    "\n",
    "Prilikom sabiranja bitova $a$, $b$ i $c$, do prenosa na sledeću poziciju dolazi ako su bar dva bita vrednosti $1$. Izraz koji računa da li je došlo do prenosa je $(a \\land b) \\oplus (c \\land (a \\oplus b))$. Ovo se sada može lako implementirati kao kvantno kolo sa četiri kubita."
   ]
  },
  {
   "cell_type": "markdown",
   "id": "28c6a224-de9d-42d4-9b82-1821f20ed25a",
   "metadata": {},
   "source": [
    "##### Računanje prenosa u Q#:"
   ]
  },
  {
   "cell_type": "code",
   "execution_count": 3,
   "id": "0eec93ef-0588-41cd-ab65-d58747b6af76",
   "metadata": {},
   "outputs": [],
   "source": [
    "%%qsharp\n",
    "\n",
    "operation BitCarry(c : Qubit, a : Qubit, b : Qubit, r : Qubit) : Unit is Adj + Ctl {\n",
    "    // smeštamo AND(a, b) u r\n",
    "    CCNOT(a, b, r);\n",
    "    // smeštamo XOR(a, b) u b\n",
    "    CNOT(a, b);\n",
    "    // u r je AND(a, b)\n",
    "    // ako je AND(c, XOR(a, b)), onda treba r da invertujemo\n",
    "    // inače ne treba ništa da radimo\n",
    "    // trenutno je u b XOR(a, b)\n",
    "    CCNOT(c, b, r);\n",
    "    // u r je sada XOR((XOR(a, b) AND c), AND(a, b))\n",
    "    // vraćamo b na staru vrednost\n",
    "    CNOT(a, b);\n",
    "    // na kraju je izlaz |a>|b>|c>|XOR((XOR(a, b) AND c), AND(a, b))>\n",
    "}"
   ]
  },
  {
   "cell_type": "markdown",
   "id": "0525b5de-16e7-4417-a111-8b6510ae163a",
   "metadata": {},
   "source": [
    "#### Višebitni sabirač:"
   ]
  },
  {
   "cell_type": "markdown",
   "id": "764bc458-0a3f-40e9-9f4a-e78e9118c2ac",
   "metadata": {},
   "source": [
    "Pokazaćemo kako se može sabiranje dva $n$-bitna broja izvesti na kvantnom računaru. Kvantno kolo koje to izvodi treba da zadovoljava sledeću jednakost:\n",
    "\\begin{align*}\n",
    "Add \\ket{c}\\ket{a}\\ket{b} = \\ket{c}\\ket{a}\\ket{(a +_{2N} b +_{2N} c)},\n",
    "\\end{align*} za sve bazne vektore $\\ket{a}\\ket{b}\\ket{c}$, gde je $N = 2^{n}$. Registar $b$ ima $n + 1$ bit, dok $a$ i $b$ sadrže po $n$ bitova. Početno stanje od $c$ je $\\ket{0 \\ldots 0}$, a $\\ket{b} = \\ket{0}\\ket{b'}$.\n",
    "\n",
    "Bez daljih objašnjenja, implementiraćemo kod iz knjige."
   ]
  },
  {
   "cell_type": "markdown",
   "id": "fc6a380a-410e-47ab-8293-252541e13a1d",
   "metadata": {},
   "source": [
    "##### Višebitni sabirač u Q#:"
   ]
  },
  {
   "cell_type": "code",
   "execution_count": 4,
   "id": "e8270016-a704-4b57-9332-583c28359037",
   "metadata": {},
   "outputs": [],
   "source": [
    "%%qsharp\n",
    "\n",
    "open Std.Arrays;\n",
    "\n",
    "operation Add(c : Qubit[], a : Qubit[], b : Qubit[]) : Unit is Adj + Ctl {\n",
    "    let n = Length(c);\n",
    "    if n == 1 {\n",
    "        BitCarry(c[0], a[0], b[1], b[0]);\n",
    "        BitAdd(c[0], a[0], b[1]);\n",
    "    } else {\n",
    "        BitCarry(c[n - 1], a[n - 1], b[n], c[n - 2]);\n",
    "        Add(Most(c), Most(a), Most(b));\n",
    "        Adjoint BitCarry(c[n - 1], a[n - 1], b[n], c[n - 2]);\n",
    "        BitAdd(c[n - 1], a[n - 1], b[n]);\n",
    "    }\n",
    "}"
   ]
  },
  {
   "cell_type": "markdown",
   "id": "14c2b8be-7641-4967-b004-7b2c80e90494",
   "metadata": {},
   "source": [
    "#### Bibliotečka funkcija za računanje zbira u Q#:"
   ]
  },
  {
   "cell_type": "markdown",
   "id": "531e0ba4-dd51-4334-8054-147b75ef71d7",
   "metadata": {},
   "source": [
    "U biblioteci **Std.Arithmetic**, nalazi se funkcija koja računa zbir dva broja na kvantnom računaru. Potpis te funkcije je **operation AddLE(xs : Qubit[], ys : Qubit[], zs : Qubit[]) : Unit is Adj**. Zvanična [dokumentacija](https://learn.microsoft.com/en-us/qsharp/api/qsharp-lang/std.arithmetic/addle) kaže da registri **xs**, **ys** i **zs** smeštaju najznačajniji bit na poslednje mesto. Takođe, **xs** i **ys** su iste dužine, a dužina od **zs** je barem onolika kolika je od **xs**. Pre izvršavanja, **zs** bi trebalo da bude u stanju $\\ket{0 \\ldots 0}$. Nakon izvršavanja **AddLE**, u **zs** će biti zbir **xs** i **ys**.\n",
    "\n",
    "Osim ove, postoji u istoj biblioteci i **operation RippleCarryCGAddLE(xs : Qubit[], ys : Qubit[], zs : Qubit[]) : Unit is Adj**. Obe funkcije rade isto, samo što **RippleCarryCGAddLE** radi efikasnije od **AddLE**."
   ]
  },
  {
   "cell_type": "markdown",
   "id": "05f489e0-f07c-4c81-930a-f5f3c72df595",
   "metadata": {},
   "source": [
    "### Množenje na kvantnom računaru:"
   ]
  },
  {
   "cell_type": "markdown",
   "id": "4c2a0b72-b3f5-4770-a8f3-8d3386272b7e",
   "metadata": {},
   "source": [
    "Ne postoji bibliotečka funkcija za računanje proizvoda u Q#. Ovde ćemo prikazati kako se može raditi množenje po modulu $2^n$, za neko $n$. Algoritam koji sada prikazujemo je predložila grupa autora u sledećem [radu](https://ieeexplore.ieee.org/document/9262868).\n",
    "\n",
    "Na ulazu u kvantno kolo su nam dati $\\ket{a}$, $\\ket{b}$, $\\ket{c_0}$, $\\ket{c_1}$. Registri $a$, $b$, $c_0$ i $c_1$ su veličine $n$. Rezultat množenja je $a \\cdot_N b$, gde je $N = 2^n$, i rezultat se smešta u registar $c_1$. Početno stanje registara $c_0$ i $c_1$ je $\\ket{0 \\ldots 0}$. Takođe, pošto je $\\ket{c_0}$ u stanju $\\ket{0 \\ldots 0}$ pre i posle izvršavanja operacije, možemo da pretvorimo $c_0$ u pomoćne kubite."
   ]
  },
  {
   "cell_type": "code",
   "execution_count": 5,
   "id": "4fd72fb4-c285-4684-9575-8abfd0771361",
   "metadata": {},
   "outputs": [],
   "source": [
    "%%qsharp\n",
    "\n",
    "open Std.Arrays;\n",
    "open Std.Arithmetic;\n",
    "\n",
    "operation Multiply(a : Qubit[], b : Qubit[], c1 : Qubit[]) : Unit is Adj + Ctl {\n",
    "    let n = Length(a);\n",
    "    use c0 = Qubit[n];\n",
    "          \n",
    "    // u registar c1 se smešta prvi parcijalni proizvod, odnosno a[0] * b\n",
    "    for i in 0..n-1 {\n",
    "        CCNOT(a[0], b[i], c1[i]);\n",
    "    }\n",
    "\n",
    "    for i in 1..n-1 {\n",
    "        within {\n",
    "            // u c0 smeštamo naredni parcijalni proizvod bez bitova posle n-tog\n",
    "            for j in 0..n-1-i {\n",
    "                CCNOT(a[i], b[j], c0[i + j]);\n",
    "            }\n",
    "        } apply {\n",
    "            // ova funkcija efikasno dodaje vrednost od c0 na c1\n",
    "            RippleCarryCGIncByLE(c0, c1);\n",
    "        }\n",
    "    }\n",
    "}"
   ]
  },
  {
   "cell_type": "markdown",
   "id": "d0e6a371-3cae-414d-8b9e-99dde9311f1f",
   "metadata": {},
   "source": [
    "Ovde smo prvi put primenili blokove **within** i **apply**. Dosta kvantnih algoritama se zasniva na izračunavanju oblika $V U V^{\\dagger}$. Zbog toga je jedna od naredbi u Q# within-apply. U bloku **within** pišemo šta radi operacija $V$, a u bloku apply pišemo šta radimo operacija $U$. Pošto će operacija $V$ biti invertovana, bitno je da se u njoj primenjuju samo **Adj** operacije."
   ]
  },
  {
   "cell_type": "markdown",
   "id": "1fe3bd17-9562-4652-b94c-871e0662a2c4",
   "metadata": {},
   "source": []
  }
 ],
 "metadata": {
  "kernelspec": {
   "display_name": "Python 3 (ipykernel)",
   "language": "python",
   "name": "python3"
  },
  "language_info": {
   "codemirror_mode": {
    "name": "ipython",
    "version": 3
   },
   "file_extension": ".py",
   "mimetype": "text/x-python",
   "name": "python",
   "nbconvert_exporter": "python",
   "pygments_lexer": "ipython3",
   "version": "3.12.3"
  }
 },
 "nbformat": 4,
 "nbformat_minor": 5
}
